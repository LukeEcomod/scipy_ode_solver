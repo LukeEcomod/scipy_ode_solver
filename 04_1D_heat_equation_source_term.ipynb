{
 "cells": [
  {
   "cell_type": "markdown",
   "metadata": {},
   "source": [
    "# Scipy ODE solver demo"
   ]
  },
  {
   "cell_type": "code",
   "execution_count": 1,
   "metadata": {},
   "outputs": [],
   "source": [
    "import numpy as np\n",
    "import matplotlib.pyplot as plt\n",
    "from scipy.integrate import solve_ivp\n",
    "import ipywidgets as widgets\n",
    "%matplotlib widget"
   ]
  },
  {
   "cell_type": "markdown",
   "metadata": {},
   "source": [
    "## Modelled system\n",
    "\n",
    "Modelled system is an imaginary 1 D heat equation\n",
    "\n",
    "\\begin{align}\n",
    "\\frac{\\partial T}{\\partial t} &= -C^{-1}\\left(\\frac{\\partial q}{\\partial x} - s\\right) \\\\\n",
    "s &= T \\cdot a,\n",
    "\\end{align}\n",
    "\n",
    "where T is the temperature (K), C is the volumetric heat capacity (J m<sup>-3</sup>K<sup>-1</sup>), q is the conductive heat flux (W m<sup>-2</sup>) and s is an imaginary source term (W m<sup>-3</sup>). For demonstration purposes we will assume completely random numerical values for the terms. We will solve this equation in domain $x \\in [0, 1]$; $t \\in [0, 50]$. We will assume that the conductive heat flux from left and right of the system is zero.\n"
   ]
  },
  {
   "cell_type": "markdown",
   "metadata": {},
   "source": [
    "## Define params dictionary for constant terms\n",
    "\n",
    "- c: volumetric heat capacity\n",
    "- q: conductive heat flux\n",
    "- x: space discretization\n",
    "- a: constant a for calcuting the imaginary source term s\n",
    "- Nx: number of x elements"
   ]
  },
  {
   "cell_type": "code",
   "execution_count": 2,
   "metadata": {},
   "outputs": [],
   "source": [
    "Nx = 10\n",
    "params = {'c': 5, 'q': np.random.random((Nx,))*0.1, 'x': np.linspace(0,1,Nx+1), 'a': 0.01, 'Nx': Nx}"
   ]
  },
  {
   "cell_type": "markdown",
   "metadata": {},
   "source": [
    "## Define the right hand side of eq. (1)\n",
    "\n",
    "t is time and y will containt the solutions of T from previous ode solver time step."
   ]
  },
  {
   "cell_type": "code",
   "execution_count": 3,
   "metadata": {},
   "outputs": [],
   "source": [
    "def odefun(t,y,params):\n",
    "    s = y * params['a']\n",
    "    dq_left = np.zeros((params['Nx'],))\n",
    "    dq_right = np.zeros((params['Nx'],))\n",
    "    dq_left[1:] = -1.0*np.diff(params['q'], axis=0)\n",
    "    dq_right[:-1] = np.diff(params['q'], axis=0)\n",
    "    dq = dq_left + dq_right\n",
    "    dTdt = -params['c']**(-1) * (dq/np.diff(params['x'], axis=0) - s)\n",
    "    return dTdt"
   ]
  },
  {
   "cell_type": "markdown",
   "metadata": {},
   "source": [
    "## Set initial temperature profile"
   ]
  },
  {
   "cell_type": "code",
   "execution_count": 4,
   "metadata": {},
   "outputs": [],
   "source": [
    "T_init = np.ones((10,))\n",
    "T_init[5] = 4"
   ]
  },
  {
   "cell_type": "markdown",
   "metadata": {},
   "source": [
    "## Solve ODE by calling solve_ivp\n",
    "\n",
    "Setting monotonically increasing array in t_eval gives more solution points"
   ]
  },
  {
   "cell_type": "code",
   "execution_count": 5,
   "metadata": {},
   "outputs": [],
   "source": [
    "solution = solve_ivp(lambda t,y: odefun(t,y,params), (0, 50), T_init, method='RK45', t_eval = np.linspace(0,50,51))"
   ]
  },
  {
   "cell_type": "markdown",
   "metadata": {},
   "source": [
    "## Solution has the following fields"
   ]
  },
  {
   "cell_type": "code",
   "execution_count": 6,
   "metadata": {},
   "outputs": [
    {
     "data": {
      "text/plain": [
       "dict_keys(['t', 'y', 'sol', 't_events', 'y_events', 'nfev', 'njev', 'nlu', 'status', 'message', 'success'])"
      ]
     },
     "execution_count": 6,
     "metadata": {},
     "output_type": "execute_result"
    }
   ],
   "source": [
    "solution.keys()"
   ]
  },
  {
   "cell_type": "markdown",
   "metadata": {},
   "source": [
    "## Visualize solution"
   ]
  },
  {
   "cell_type": "code",
   "execution_count": 7,
   "metadata": {},
   "outputs": [
    {
     "data": {
      "application/vnd.jupyter.widget-view+json": {
       "model_id": "e9dd25f7b4a54e6dbda3285649829ba2",
       "version_major": 2,
       "version_minor": 0
      },
      "text/plain": [
       "interactive(children=(IntSlider(value=0, description='iy', max=50), Output()), _dom_classes=('widget-interact'…"
      ]
     },
     "metadata": {},
     "output_type": "display_data"
    },
    {
     "data": {
      "application/vnd.jupyter.widget-view+json": {
       "model_id": "2da14f13c2d64b75a2f572ea804e76ea",
       "version_major": 2,
       "version_minor": 0
      },
      "text/html": [
       "\n",
       "            <div style=\"display: inline-block;\">\n",
       "                <div class=\"jupyter-widgets widget-label\" style=\"text-align: center;\">\n",
       "                    Figure\n",
       "                </div>\n",
       "                <img src='data:image/png;base64,iVBORw0KGgoAAAANSUhEUgAAA+gAAAH0CAYAAACuKActAAAAOXRFWHRTb2Z0d2FyZQBNYXRwbG90bGliIHZlcnNpb24zLjUuMCwgaHR0cHM6Ly9tYXRwbG90bGliLm9yZy8/fFQqAAAACXBIWXMAAA9hAAAPYQGoP6dpAABMIklEQVR4nO3deZyN9f//8eeZlZkxZ+xbw9iyRCSyZ+xb2YUifKS0Edpo0aImPkS02LJUn5QltFjKHqFESiHL2InEDCOzXr8/zm/m2zRnmDFnznmfmcf9dptbzfW+zvt6HS7M87yXy2ZZliUAAAAAAOBRPp4uAAAAAAAAENABAAAAADACAR0AAAAAAAMQ0AEAAAAAMAABHQAAAAAAAxDQAQAAAAAwAAEdAAAAAAADENABAAAAADAAAR0AAAAAAAMQ0AEAAAAAMAABHQAAAAAAAxDQAQAAAAAwAAEdAAAAAAADENABAAAAADAAAR0AAAAAAAMQ0AEAAAAAMAABHQAAAAAAAxDQAQAAAAAwAAEdAAAAAAADENABAAAAADAAAR0AAAAAAAMQ0AEAAAAAMAABHQAAAAAAAxDQAQAAAAAwAAEdAAAAAAADENABAAAAADAAAR0AAAAAAAMQ0AEAAAAAMAABHQAAAAAAAxDQAQAAAAAwAAEdAAAAAAADENABAAAAADAAAR0AAAAAAAMQ0AEAAAAAMAABHQAAAAAAAxDQAQD5ns1my/ZXZGSkJCkyMlI2m00bNmzw6HvIbT/++KN69eqlkiVLqkCBAqpQoYIef/xxnT179ob7/OOPP/TYY4+pQoUKCgwMVMmSJdWrVy/t3LnThZUDAOA9/DxdAAAAnjZgwIAMx86cOaPVq1dn2l6tWrVcr8sUixcvVt++fZWUlKT69eurQoUK2rFjh95++20tWrRImzdvVuXKlbPV5++//65mzZrp7Nmzqlixorp27aro6GgtXrxYy5Yt08KFC9WtW7dcekcAAJjJZlmW5ekiAAAwzYYNG9SiRQtJ0rX+qTx27JiuXLmicuXKKSgoyF3luc2pU6dUpUoVXblyRTNmzNCDDz4oSUpOTtbAgQP10UcfqX79+tq+fbtsNluW+rQsS7fffrt27dql/v37a+7cufL19ZUkzZw5Uw899JBCQkJ04MABlSpVKtfeGwAApmGKOwAAOVCuXDlVq1YtT4ZzSZoyZYquXLmi1q1bp4VzSfL19dV7770nu92uH374QV9//XWW+1y5cqV27dqlsLAwvfvuu2nhXJIefPBBtWrVSpcvX9Zbb73l0vcCAIDpCOgAAORAZmvQBw4cKJvNpnnz5mn//v3q3bu3SpQooeDgYNWvX1/Lly9PO3f79u3q3LmzihcvroIFC6pRo0Zau3Ztptf8+++/NWnSJDVs2FBhYWEqUKCAqlatqqefflrnz5936ftbunSpJOnee+/N0BYSEqLOnTtLkj777LNs99m5c2eFhIRkaE+9Vnb6lBzr5Hv37q2bbrpJAQEBCg0NVcWKFdWjR490v94AAJiKgA4AQC7auXOnbr/9du3evVutWrVS7dq1tWPHDnXr1i1tvXWzZs104sQJtWrVSlWrVtW2bdvUvn17bd68OUN/p06dUoMGDfTkk0/qwIEDql+/vjp27Kj4+Hj997//Vb169XT06NEMr0v9IOGll17Kcu2XLl3SwYMHJUn16tVzek7q8V27dmW539Rzr9fngQMHFBcXl6U+165dq0aNGmnhwoUqVqyYunTpotatW6t48eL66quvNHfu3CzXBwCAp7BJHAAAuWjatGkaN26cxowZk7ZGe9q0aRo2bJhGjBihuLg4vf/+++rfv3/aa0aMGKEpU6bo5Zdf1jfffJN23LIs3XPPPfrll180ePBgTZ48WYUKFZIkJSUl6dlnn9WkSZM0aNAgrVu3Lse1HzlyJO3/y5Ur5/Sc8PBwSVJ0dHSW+00993p9WpalI0eO6JZbbrlun6+99poSExP10Ucf6b777kvXFhMTo71792a5PgAAPIURdAAActEdd9yRLpxL0sMPP6wiRYroxIkTat26dbpwLknPP/+8JGnTpk1KTExMO7569Wpt2bJFderU0fTp09PCuST5+flpwoQJqlmzptavX689e/ak67NcuXKqWrWqihUrluXaL126lPb/wcHBTs9JnaIeGxub7X6v12d2+v3jjz8kSR07dszQZrfb1bBhwyzXBwCApxDQAQDIRR06dMiwu7mfn58qVKggyXmgLFq0qIoUKaKEhIR0a8q/+uorSVKPHj3k55dxEpyPj4/uvPNOSdJ3332Xru2DDz7Qvn379Nhjj+XsDRnqjjvukCTdd9992rx5s5KSkjxcEQAA2UdABwAgF2U2jTt1lDiz9tTR8atXr6YdO3z4sCTphRdekM1mc/r17rvvSpLOnTuX49r/OUKf2Vrwy5cvS5JCQ0Oz3e/1+sxOv1FRUapbt65WrlypZs2aKTQ0VE2bNtXzzz/P9HYAgNdgDToAALnIx+fan4Vfr/2fUlJSJElNmzZVpUqVrnluVtZtX0/58uXT/v/YsWOqVatWhnOOHz8uSYqIiMhyvxEREfrrr7907Ngxp+2pfdpstnQ1XEupUqW0Y8cObdy4UWvWrNGWLVu0fft2bdmyRa+//rqioqL0zDPPZLlGAAA8gYAOAICXSN08rUuXLnryySdz/XqhoaGqXLmyDh48qB07djgN6Dt27JAk1a1bN8v91q1bVzt37kx7bWZ9VqlSxelj2DJjs9kUGRmpyMhISY7ZB/PmzdOjjz6qMWPGqGfPntf9YAMAAE9iijsAAF6iQ4cOkqRFixbJsiy3XLNbt26SpI8//jhD2+XLl/XFF19Ikrp3757tPj///HOn09xTr5WdPp0pUKCAhg4dqltvvVUpKSn6+eefc9QfAAC5jYAOAICX6NKli+rXr6/vv/9egwYNcrrO/MKFC5o+fXqGTdLuv/9+VatWTW+//Xa2rvnEE08oKChIa9as0axZs9KOJycn65FHHtHFixdVv359tW3bNt3rTp48qWrVqqlatWo6efJkurYOHTrotttu08WLF/XII48oOTk5rW3mzJlau3atQkJCNHz48CzXOXHiRKdT5vft26cDBw5IUpanywMA4ClMcQcAwEv4+Pho2bJl6tSpk+bPn6/Fixerdu3aKleunBISEnT48GH98ssvSk5O1sCBA9Pt9H7s2DHt379ff/75Z7auWaZMGc2bN099+/bVgw8+qPfff18RERH64YcfdPjwYZUsWVIff/xxhp3qExMTtX///rT//yebzaYFCxaoWbNm+uCDD7R582bVr19f0dHR+v777+Xn56cPPvhApUqVynKd48aN01NPPaVq1aqpevXqKliwoE6dOpW2o/v999+frWn4AAB4AiPoAAB4kTJlymjbtm2aPn267rjjDu3fv1+LFy/W5s2bJUlDhw7V6tWrVaBAAZdds1evXtq+fbu6d++uw4cPa+nSpUpOTtajjz6q3bt3q3Llytnus2rVqvr555/16KOPKjk5WUuXLlV0dLS6d++u7du3p02Dz6p33nlHgwYNkp+fnzZu3KglS5YoOjpabdq00dKlSzVv3rxs1wgAgLvZLHctYgMAAAAAAJliBB0AAAAAAAMQ0AEAAAAAMAABHQAAAAAAAxDQAQAAAAAwAAEdAAAAAAADENABAAAAADCAn6cLgHulpKTo1KlTKlSokGw2m6fLAQAAAOAhlmXp0qVLKlOmjHx8GLs1AQE9nzl16pTCw8M9XQYAAAAAQxw/flw33XSTp8uACOj5TqFChSQ5/hCGhoZ6uBoAAAAAnhIbG6vw8PC0jADPI6DnM6nT2kNDQwnoAAAAAFj6ahAWGgAAAAAAYAACOgAAAAAABiCgAwAAAABgANagAwAAAMix5ORkJSYmeroM/IO/v798fX09XQaygYAOAAAA4IZZlqUzZ87o4sWLni4FToSFhalUqVJsBOclCOgAAAAAblhqOC9RooSCgoIIgoawLEtXrlzR2bNnJUmlS5f2cEXICgI6AAAAgBuSnJycFs6LFi3q6XLwLwULFpQknT17ViVKlGC6uxdgkzgAAAAANyR1zXlQUJCHK0FmUn9v2B/AOxDQAQAAAOQI09rNxe+NdyGgAwAAAABgAAI6AAAAAGTRkSNHZLPZ9NNPP+W4L5vNpmXLluW4H+QdBHQAAAAAyEUvvfSS6tSpk+H46dOn1aFDB/cXBGOxizsAAAAAeECpUqU8XQIMQ0AHAAAA4BJDhkh79ni2hpo1pVmzrn/e4sWL9fLLL+vgwYMKCgrSbbfdpuXLl6tgwYIaN26cZs6cqXPnzql69ep644031L59e6f9zJs3T0888YQuXryYdmzZsmXq1q2bLMvSvHnz9PLLL0v6vw3b5s6dq4EDB8pms2np0qXq2rWrJOmXX37R8OHDtXXrVgUFBalHjx568803FRISIkkaOHCgLl68qKZNm2rSpElKSEhQnz59NGXKFPn7+9/4LxqMQUAHAAAA4BJ79kjbtnm6ius7ffq0+vbtqwkTJqhbt266dOmSvv32W1mWpbfeekuTJk3SjBkzdNttt2nOnDnq3Lmzfv31V1WpUiXb1+rdu7f27NmjVatWac2aNZIku92e4by4uDi1a9dOjRo10g8//KCzZ8/qgQce0GOPPaZ58+alnbd+/XqVLl1a69ev18GDB9W7d2/VqVNHQ4YMueFfD5iDgA4AAAAgXzl9+rSSkpLUvXt3lS9fXpJUq1YtSdLEiRP1zDPPqE+fPpKk8ePHa/369ZoyZYreeeedbF+rYMGCCgkJkZ+f3zWntH/88ce6evWqPvjgAwUHB0uS3n77bd19990aP368SpYsKUkqXLiw3n77bfn6+qpatWrq1KmT1q5dS0DPI9gkDgAAAEC+Urt2bbVq1Uq1atVSr169NGvWLF24cEGxsbE6deqUmjRpku78Jk2aaO/evbla0969e1W7du20cJ563ZSUFO3fvz/t2C233CJfX9+070uXLq2zZ8/mam1wHwI6AAAAgHzF19dX33zzjVauXKkaNWpo2rRpqlq1qqKjo7Pdl4+PjyzLSncsMTHRVaVm8O+15jabTSkpKbl2PbgXU9wBAAAAuETNmp6uIOs12Gw2NWnSRE2aNNGLL76o8uXLa+3atSpTpoy2bNmi5s2bp527ZcsW3XHHHU77KV68uC5duqS4uLi00e9/PyM9ICBAycnJ16ynevXqmjdvXrp+tmzZIh8fH1WtWjVrbwpej4AOAAAAwCWysnu6CbZv3661a9eqbdu2KlGihLZv3562Y/tTTz2lsWPHqlKlSqpTp47mzp2rn376Sf/73/+c9tWgQQMFBQVpzJgxGjZsmLZv355uUzdJioiIUHR0tH766SfddNNNKlSokAIDA9Odc99992ns2LEaMGCAXnrpJZ07d06PP/64+vfvn7b+HHkfU9wBAAAA5CuhoaHatGmTOnbsqJtvvlnPP/+8Jk2apA4dOmjYsGEaOXKkRo0apVq1amnVqlX6/PPPM93BvUiRIvroo4+0YsUK1apVSwsWLNBLL72U7pwePXqoffv2atGihYoXL64FCxZk6CcoKEirV6/WX3/9pfr166tnz55q1aqV3n777dz4JYChbNa/F0zAOJZlaenSpZo2bZr27dunmJgYhYeHKzIyUs8884wqVqyY5b5iY2Nlt9sVExOj0NDQXKwaAAAAed3Vq1cVHR2tChUqqECBAp4uB05c6/eIbGAeRtC9wJNPPqkePXpo//796tq1qx5//HFVqFBBs2bNUp06dbRnzx5PlwgAAAAAyCHWoBvuzJkzmjJlisqXL6/du3fLbrentU2ePFkjR47Um2++qTlz5niwSgAAAABATjGCbrgjR44oJSVFTZo0SRfOJemuu+6SJJ07d84TpQEAAAAAXIiAbrgqVaooICBAW7ZsUWxsbLq2L7/8UpLUqlUrT5QGAAAAAHAhprgbrmjRonrjjTc0atQoVatWTV26dFFoaKh2796tdevW6ZFHHtFjjz3m6TIBAACQj7HvtLn4vfEuBHQvMGLECJUtW1YPPPCApk+fnna8adOmuvfee+Xnl/lvY3x8vOLj49O+//coPAAAAHCj/P39JUlXrlxRwYIFPVwNnLly5Yqk//u9gtkI6F7glVde0bhx4/TKK6+oX79+CgsL008//aQRI0YoMjJSS5YsUefOnZ2+NioqSi+//LKbKwYAAEB+4Ovrq7CwMJ09e1aS41neNpvNw1VBcoycX7lyRWfPnlVYWJh8fX09XRKygOegG27NmjVq06aNRowYoTfffDNd25kzZ1SxYkWVLVtWBw4ccPp6ZyPo4eHhPOsQAAAALmFZls6cOaOLFy96uhQ4ERYWplKlSjn94ITnoJuHEXTDrVy5UpLUokWLDG2lSpVStWrVtGvXLl2+fFkhISEZzgkMDFRgYGCu1wkAAID8yWazqXTp0ipRooQSExM9XQ7+wd/fn5FzL0NAN1xCQoKkzB+ldu7cOfn4+LCmBAAAAB7l6+tLGARyiMesGa5JkyaSpDfffFMxMTHp2qZPn64TJ06oUaNGjJIDAAAAgJdjDbrhkpOT1bJlS23atEklSpRQ586dFRYWpp07d2rdunUqWLCgNmzYoDvuuCNL/bHOBAAAAIBENjARAd0LxMfHa/LkyVq4cKH279+vhIQElSxZUi1atNCYMWNUvXr1LPfFH0IAAAAAEtnARAT0fIY/hAAAAAAksoGJWIMOAAAAAIABCOgAAAAAABiAgA4AAAAAgAEI6AAAAAAAGICADgAAAACAAQjoAAAAAAAYgIAOAAAAAIABCOgAAAAAABiAgA4AAAAAgAEI6AAAAAAAGICADgAAAACAAQjoAAAAAAAYgIAOAAAAAIABCOgAAAAAABiAgA4AAAAAgAEI6AAAAAAAGICADgAAAACAAQjoAAAAAAAYgIAOAAAAAIABCOgAAAAAABiAgA4AAAAAgAEI6AAAAAAAGICADgAAAACAAQjoAAAAAAAYgIAOAAAAAIABCOgAAAAAABiAgA4AAAAAgAEI6AAAAAAAGICADgAAAACAAQjoAAAAAAAYgIAOAAAAAIABCOgAAAAAABiAgA4AAAAAgAEI6AAAAAAAGICADgAAAACAAQjoXmTp0qVq06aNihYtqgIFCqhChQrq27evjh8/7unSAAAAAAA55OfpAnB9lmVp6NChmjlzpipVqqQ+ffqoUKFCOnXqlDZu3KijR48qPDzc02UCAAAAAHKAgO4Fpk6dqpkzZ+qRRx7R1KlT5evrm649KSnJQ5UBAAAAAFzFZlmW5ekikLm///5bZcuWVeHChbV//375+eXsM5XY2FjZ7XbFxMQoNDTURVUCAAAA8DZkA/Mwgm64r7/+WhcuXNCgQYOUnJyszz//XL///rvCwsLUunVrVa5c2dMlAgAAAABcgIBuuB9//FGS5Ovrq1tvvVW///57WpuPj49GjBihiRMneqo8AAAAAICLsIu74c6ePStJevPNN2W32/X999/r0qVL2rRpk26++WZNmjRJ7733Xqavj4+PV2xsbLovAAAAAIB5COiGS0lJkSQFBARo2bJlql+/vkJCQtSsWTMtWrRIPj4+mjRpUqavj4qKkt1uT/tit3cAAAAAMBMB3XB2u12SVK9ePZUpUyZdW82aNVWxYkUdOnRIFy9edPr60aNHKyYmJu2LZ6YDAAAAgJlYg264qlWrSpLCwsKctqce//vvv52eExgYqMDAwFyqDgAAAADgKoygG65FixaSpL1792ZoS0xM1MGDBxUcHKzixYu7uzQAAAAAgAsR0A1XqVIltW3bVgcPHtTs2bPTtb3xxhu6ePGiunXrluPnowMAAAAAPMtmWZbl6SJwbYcOHVLjxo119uxZderUSdWqVdOuXbu0bt06lS9fXtu2bVOpUqWy1FdsbKzsdrtiYmIUGhqay5UDAAAAMBXZwDyMoHuBSpUqaceOHRo4cKB+/PFHTZ06VQcOHNCjjz6q77//PsvhHAAAAABgLkbQ8xk+JQMAAAAgkQ1MxAg6AAAAAAAGIKADAAAAAGAAAjoAAAAAAAYgoAMAAAAAYAACOgAAAAAABiCgAwAAAABgAAI6AAAAAAAGIKADAAAAAGAAAjoAAAAAAAYgoAMAAAAAYAACOgAAAAAABiCgAwAAAABgAAI6AAAAAAAGIKADAAAAAGAAAjoAAAAAAAYgoAMAAAAAYAACOgAAAAAABiCgAwAAAABgAAI6AAAAAAAGIKADAAAAAGAAAjoAAAAAAAYgoAMAAAAAYAACOgAAAAAABiCgAwAAAABgAAI6AAAAAAAGIKADAAAAAGAAAjoAAAAAAAYgoAMAAAAAYAACOgAAAAAABiCgAwAAAABgAAI6AAAAAAAGIKADAAAAAGAAAjoAAAAAAAYgoAMAAAAAYAACOgAAAAAABiCge6nx48fLZrPJZrNp27Ztni4HAAAAAJBDBHQvtGfPHo0dO1bBwcGeLgUAAAAA4CIEdC+TmJioAQMGqE6dOurWrZunywEAAAAAuAgB3cu89tpr+vXXXzVnzhz5+vp6uhwAAAAAgIsQ0L3Izp079dprr2ns2LGqUaOGp8sBAMClfv1Vat5cstmkcuWkJUs8XREAAO5FQPcS8fHxuv/++1WnTh09/fTTni4HAACX+v57qVkzadMmx/fHj0s9e0rTpnm2LgAA3MnP0wUga1588UUdOHBAP/74Y7amtsfHxys+Pj7t+9jY2NwoDwCAG7Zpk3TXXdKlSxnbhg2T4uKkZ591f10AALgbI+heYOvWrZo4caKef/551axZM1uvjYqKkt1uT/sKDw/PpSoBAMi+r7+W2rd3Hs5TjR4tPf+8ZFnuqwsAAE8goBsuKSlJAwYM0K233qpnb2D4YPTo0YqJiUn7On78eC5UCQBA9i1fLt19t/T339c/97XXpJEjCekAgLyNKe6Gu3z5sg4cOCBJCggIcHpOo0aNJElLly5V165d07UFBgYqMDAwV2sEACC7FiyQ+veXkpOz/popUxzT3d97T+JBJgCAvIiAbrjAwEANHjzYadumTZt04MABde7cWcWLF1dERIR7iwMA4AbMmSM98EDmo+ENGjg2jXPWPmuWdOWKNG+e5MdPMQCAPMZmWUwW81YDBw7U/PnztXXrVjVs2DBLr4mNjZXdbldMTIxCQ0NzuUIAANJ7+23p8cczbx80yBHCP/5YGjhQSklxfl737o5R+EwmlwEAsoBsYB7WoAMAALcYP/7a4fyxx6TZsx3T1/v3lxYulPz9nZ/72WdS165ZW78OAIC3IKADAIBcZVnSCy9c+1FpzzwjTZ0q+fzjJ5MePaRly6TMtlJZuVLq2PHaO8ADAOBNmOKezzCNBQDgTpYljRolTZ6c+Tmvvio995xkszlvX7dO6tzZsUGcMw0bOsJ6WFiOywWAfIVsYB5G0AEAQK5ISZGGDr12OJ80yfGM88zCuSS1bOl4XnpmPztu2ya1aCGdO5ezegEA8DQCOgAAcLmkJGnAAGnmTOftNps0fbrj2eZZ0bixtH69VLSo8/affpIiI6XTp2+kWgAAzEBABwAALpWQIPXpI330kfN2Hx9p/nzpoYey12/dutKGDVKpUs7bf/tNatZMOno0e/0CAGAKAjoAAHCZv/+WunWTlixx3u7v79idvX//G+u/Zk1p0yYpPNx5+6FDjpB+4MCN9Q8AgCcR0AEAgEtcvix16iStWOG8PTDQsSt7jx45u06VKtK330qVKjlvP35cuvNO6ddfc3YdAADcjYAOAABy7OJFqW1bxzpxZ4KDHcG9Y0fXXK98eUdIr1HDefuZM1Lz5tLOna65HgAA7kBABwAAOfLnn46d1rdudd4eGurYhb1lS9det3Rpx5r0OnWct58/79jd/bvvXHtdAAByCwEdAADcsNOnHSPVu3Y5by9a1DGq3rhx7ly/eHFH/w0bOm+PjXWM7K9blzvXBwDAlQjoAADghhw75ljr/dtvzttLlXKMcNetm7t1hIU5RugjI523x8Vde208AACmIKADAIBsO3jQsVv6wYPO28PDHbut16zpnnoKFXIE8A4dnLdfvSp17Zr57vIAAJiAgA4AALLl118d4fzYMeftlSo5NnCrUsW9dRUsKC1dKnXv7rw9MVG65x7pww/dWxcAAFlFQAcAAFm2c6djzfmZM87ba9RwhPPy5d1bV6rAQOnTT6V+/Zy3p6RIAwZIM2a4ty4AALKCgA4AALJk61bHTuznzztvv+02x5rz0qXdWlYGfn7S/PnSgw86b7csaehQafJk99YFAMD1ENABAMB1rV8vtWkjxcQ4b2/Y0LFTevHi7q0rMz4+0vTp0hNPZH7OyJHSq686AjsAACYgoAMAgGtauVLq2NGxG7ozkZGOXdTDwtxZ1fXZbNKbb0rPPZf5OS++KI0eTUgHAJiBgA4AADL12WdSly6OXdCd6dDBsXt6oULurSurbDZp3Djp9dczP2f8eGn4cMf6dAAAPImADgAAnProI8eu54mJztu7d3fsml6woHvruhGjR0tvvZV5+7Rp0pAhUnKy+2oCAODfCOgAACCDmTOl++/PPLD26+fYLT0w0L115cSwYdLs2Y5RdWfmzHG8r8w+kAAAILcR0AEAQDqTJ0sPPZT5uuwHH3Tsku7n5966XGHwYOl//5N8fZ23f/KJ1LNn5lP6AQDITQR0AAAgyRHIx41z7G6emSeecOyO7uPFP0H07SstWSIFBDhv//xzqXNn6coV99YFAIAX//MKAABcxbKkMWOkF17I/JznnnPsip7ZFHFv0qWLI4gXKOC8/ZtvpPbtpdhY99YFAMjfCOgAAORzKSmOkfE33sj8nNdfd4yu54VwnqpdO2nVKikkxHn7t986nv3+11/urQsAkH8R0AEAyMeSkx1ryqdOzfyct95y7IKeFzVvLq1Zk/kz3L//XmrRQjp71q1lAQDyKQI6AAD5VGKi1L+/9P77ztttNseu58OGubcud2vQQNqwQSpe3Hn7zz9Ld94pnTzp1rIAAPkQAR0AgHwoPl7q1UtasMB5u6+vY7fzwYPdW5en1K4tbdwolSnjvH3/fqlZMyk62r11AQDyFwI6AAD5zJUrjl3Kly933h4Q4NjlvG9f99bladWrO9adR0Q4b4+OdoT0/fvdWhYAIB8hoAMAkI9cuiR16CB9/bXz9gIFHLubd+ni3rpMUbGitGmTdPPNzttPnnRMd//5Z/fWBQDIHwjoAADkExcuSK1bOwKoMyEhjl3N27Vzb12mCQ93THevWdN5+9mzUmSk9MMPbi0LAJAPENABAMgHzp517Eb+/ffO28PCHLuZN2/u1rKMVaqUY+O422933n7hgtSqlbR5s1vLAgDkcQR0AADyuJMnHcF7927n7cWLO8JogwZuLct4RYtKa9dKTZo4b790SWrbVvrmG/fWBQDIu/w8XYCnpaSk6IcfftDatWu1c+dO/fHHH7pw4YIKFy6skiVL6vbbb1fLli1Vv359+fjweQYAwLtERztGejPbfbxMGcfIefXq7q3LW9jt0urVUteujl+nf/v7b+muu6TFi6W773Z7eQCAPMZmWZbl6SI84ezZs5o5c6ZmzJihU6dOSZKc/VLYbDZJUpkyZTR06FANGTJEJUqUcGutrhQbGyu73a6YmBiFhoZ6uhwAQC7av9+x5vzECeftERGOEeKKFd1alle6etXxWLovv3Te7ucnffSR1Lu3e+sCgJwgG5gn3wX0+Ph4TZgwQePHj9eVK1fk5+enOnXqqHHjxrrllltUtGhRhYaGKiYmRufPn9eePXv03Xff6eeff1ZSUpKCgoL07LPP6qmnnlJgYKCn30628YcQAPKHn3+W2rRxrD135uabHSPC4eHurcubJSZK/fpJCxc6b/fxkWbPlgYNcm9dAHCjyAbmyXcBPSIiQseOHVOtWrX0n//8R/fdd5+KFSt23df9+eef+vDDDzV37lzt2bNHEREROnz4sBsqdi3+EAJA3rdjh2Nt9IULzttr1nSE85Il3VtXXpCcLA0eLM2fn/k5b78tPfqo+2oCgBtFNjBPvltUXbBgQS1atEi7d+/W8OHDsxTOJalYsWIaMWKEfv75Z3366adeOXoOAMj7Nm+WWrbMPJzffrtjQzjC+Y3x9ZXmzJEefjjzcx57TPrvf91XEwAg78h3I+gpKSku2ezNVf1cz8mTJ7Vo0SKtWLFC+/bt05kzZ1SkSBE1adJETz/9tBpkc8tdPiUDgLxrzRqpSxfpyhXn7U2aSF995dj4DDljWdLTT0sTJ2Z+zosvSi+9JP3/7WwAwDhkA/PkuxH0nITqAwcOuKSf7Jg2bZpGjBihw4cPq23btho1apSaNm2q5cuXq3Hjxvr000/dUgcAwGxffOHYTTyzcN66tWM3csK5a9hs0oQJjgCemVdekZ56yhHmAQDIinw3gj5lyhQ98cQT2X7dgQMH1KJFC53IbCvcXPLZZ5+paNGiat68ebrj3377rVq1aqWQkBCdPn06y1Pu+ZQMAPKehQul++6TkpKct991l7RokVSggHvryi8mTnQE8cwMHSq9845jEzkAMAnZwDz57p+KJ598Uh9++GG2XnP48GG1aNFCp0+fzqWqMte9e/cM4VySmjVrphYtWujChQv65Zdf3F4XAMAM8+ZJfftmHs7vuUf67DPCeW568knp3Xczb58+XRo4MPPfIwAAUuW7gG5ZlgYPHqwvM3uQ6b+khvNTp06pYcOGuVxd9vj7+0uS/Pz8PFwJAMAT3n3X8UivlBTn7QMHSh9/LP3/fy6Qix5+2PFhSWaj5B9+6PggJSHBrWUBALxMvgvoM2bMUFJSku655x59++231zz3yJEjatmypY4fP64GDRpo1apVbqry+o4dO6Y1a9aodOnSqlWrlqfLAQC42cSJ136U1yOPSO+/79h1HO4xYID0ySdSZp+bL14sde8uXb3q3roAAN4j3wX0Bx54QG+88YauXr2qzp0766effnJ63tGjR9WyZUsdO3ZM9evX1+rVq1WoUCH3FpuJxMRE9e/fX/Hx8Ro/frx8r/HTV3x8vGJjY9N9AQC8l2U5Nia71prnJ590PIubNc/u16uXtHSplNnWMF99JXXqJF2+7N66AADeIV/+0/3000/r6aefVkxMjDp06KCDBw+maz927JhatmypI0eO6Pbbb9fq1auN2TQhJSVFAwcO1KZNmzRkyBD179//mudHRUXJbrenfYWHh7upUgCAq6U+2uvllzM/56WXHLuL82gvz7nrLunLL6WgIOft69ZJ7dpJMTHurQsAYL58t4v7Pz344IOaPXu2IiIitGXLFpUuXVonTpxQZGSkDh8+rNtuu01r1qxR4cKFPV2qJEc4/89//qP58+erX79+mj9//nUf9xYfH6/4+Pi072NjYxUeHs5OjQDgZVJSpMcek957L/Nz/vtfx+g5zLB5s2O0PLPJa3XrOh59V6yYe+sCgFTs4m6efDmCnmrGjBnq1auXjhw5ojZt2ujnn39WixYtdPjwYdWuXVvffPONUeF80KBBmj9/vvr27at58+Zl6VnsgYGBCg0NTfcFAPAuSUmOzeCuFc7ffZdwbpqmTaW1a6UiRZy379wpRUZKZ864tSwAgMHy9Qi65FjPfffdd+vrr7+Wj4+PUlJSVKtWLa1bt05Fixb1dHmS/i+cf/DBB+rdu7f+97//XXPd+bXwKRkAeJeEBKlfP8dzzJ3x8ZHmzHFsUAYz/fKL1KaN9McfztsrV3YE+XLl3FsXAJANzJOvR9Alx6PKli5dqsaNGyslJUU1a9Y0Lpz/5z//0QcffKBevXrpo48+uuFwDgDwLlevOnb9ziyc+/k5dg0nnJutVi1p0ybpppuctx88KDVrJh065N66AADmyXcj6BUrVnR6/O+//9bZs2dVrFgxBQcHOz3HZrPpkJv/9XzppZf08ssvKyQkRMOHD3f6zPOuXbuqTp06WeqPT8kAwDvExUldujhGVp0JDHQ8tuuuu9xbF27ckSNSq1bS4cPO20uXltaskWrUcGtZAPIxsoF5MnlSZ9515MiRa7afO3dO586dc9pm88CWuKn1Xr58Wa+99prTcyIiIrIc0AEA5ouJcWwutmWL8/agIGn5cql1a/fWhZyJiHCMpLduLe3bl7H99GmpeXPpm28k/lkHgPwp342gz58/P0evH+Dl8wj5lAwAzHb+vOMRXD/+6Lw9NNTxLO2mTd1bF1zn7FmpbVtp927n7WFh0sqVUsOGbi0LQD5ENjBPvgvo+R1/CAHAXGfOODYT27PHeXuRIo7HctWr59664HoXLkgdOkjbtztvDwmRvvjCscs7AOQWsoF58v0mcQAAmOD4cenOOzMP5yVLShs2EM7zisKFHVPZ77zTefvly44Av2qVe+sCAHgWAR0AAA87dMixi/eBA87bb7rJsXa5Vi331oXcVaiQYyp7u3bO269elTp3lpYudW9dAADPyXcBffLkyUpISMhRHwkJCXrzzTddVBEAID/bu9cxinr0qPP2ihWlb7+Vbr7ZvXXBPVI3/Ova1Xl7YqLUq5f08cduLQsA4CH5LqCPGjVKVatW1YwZM3Tp0qVsvTYmJkbvvPOOqlSpoqeeeiqXKgQA5Bc//eTYtfvUKeft1ao5Rs4jItxZFdwtMFBauFDq29d5e3Ky1K+fNHu2e+sCALhfvgvoS5culY+Pjx5++GGVKlVK/fr109y5c7Vv3z79e788y7K0d+9ezZkzR3379lWZMmU0bNgw+fv7aynzzQAAObB9u9SihZTJkz1Vu7a0caNUtqx764Jn+PtLH34oDR7svN2ypCFDpLfecm9dAAD3ype7uCckJGjq1KmaNm2ajh8/nvZ8cx8fH9ntdoWGhio2NlYXL15MC+2WZalcuXJ6/PHH9fjjjysgIMCTb+GGsVMjAHjexo3SXXc5NgJzpkEDx9rkwoXdWxc8LyVFGjFCmjo183Nee00aM8Z9NQHIu8gG5smXAT1VSkqKli9frmXLlmnDhg06fvx4hnPCw8PVokULde3aVZ07d5aPj3dPOuAPIQB41qpVUrdujg3AnLnzTunLLx0biCF/sizpueekqKjMzxk92hHU//8YAwDcELKBefJ1QP+38+fP648//lBMTIzCwsJUokQJFS1a1NNluRR/CAHAc5Ytk+65x7HxlzPt2kmffebYOAx4/XVHUM/MsGHSlCmEdAA3jmxgHj9PF2CSokWL5rlADgAww4IFUv/+jg2/nOnaVfrkE8eGYYDkmMYeFOSY8u7M1KnSlSvS9OmSr697awMA5A7vnq8NAIAXeP996b77Mg/nffs6dvEmnOPfnnhCmjkz81Hy2bOl+++XkpLcWhYAIJcQ0AEAyEVTp0oPPOBYV+zM4MGO3bv9/d1bF7zHkCHSBx9kPkr+8ceOpRPx8e6tCwDgegR0AABySVSUNHx45u3DhjlGR5mejOvp188xyyKzD3KWLnUsk7hyxa1lAQBcjDXocLv9+6VjxzxdBQDkrtWrpUmTMm9nF25kV/fu0vLljv86ewrAqlVSx46OtevcV4B3KFdOqlrV01XAJOzins+YsFPjqFHSm2965NIAYASeY42c2LBBuusuKS7O05UAyKmRI6/9YW5uMyEbID2muAMA4EaTJxPOkTORkdKaNZLd7ulKAACuRkAHAMANbDbHevMnnvB0JcgLGjaU1q+XihXzdCUAAFfKdwG9ZcuWmjBhgqfLAADkI76+jp3ahwzxdCXIS267Tdq4USpd2tOVAABcJd8F9A0bNmjfvn2eLgMAkE8ULiwtWeJ4DjrgajVqSJs2SbVqeboSAIArsIs73O6BB6TWrT1dBQDkvqAgxygn++4gN1WuLP34o7R7t3TunKerAZAdERGergCmIaDD7apXd3wBAADX8PeX6tXzdBUAgJzKd1PcAQAAAAAwEQEdAAAAAAAD2CzLsjxdhDv5+PjIZrPd0GttNpuSkpJcXJF7xcbGym63KyYmRqEsigQAAADyLbKBefLlGvR89pkEAAAAAMAL5MuA3r59ez3zzDOeLgMAAAAAgDT5MqCXKlVKzZs393QZAAAAAACkYZM4AAAAAAAMQEAHAAAAAMAABHQAAAAAAAxAQAcAAAAAwAD5bpO4lJQUT5cAAAAAAEAGjKADAAAAAGAAAjoAAAAAAAYgoAMAAAAAYAACupf44Ycf1LFjR4WFhSk4OFgNGzbUwoULPV0WAAAAAMBF8t0mcd5o/fr1ateunQoUKKA+ffqoUKFCWrJkiXr37q3jx49r1KhRni4RAAAAAJBDNsuyLE8XgcwlJSWpWrVqOnHihLZt26Y6depIkmJiYnTHHXfoyJEj+v3331W+fPks9RcbGyu73a6YmBiFhobmYuUAAAAATEY2MA9T3A23bt06HTp0SPfee29aOJcku92uMWPGKCEhQfPnz/dcgQAAAAAAlyCgG27Dhg2SpLZt22Zoa9eunSRp48aN7iwJAAAAAJALWINuuAMHDkiSqlSpkqGtVKlSCgkJSTvHmfj4eMXHx6d9Hxsb6/oiAQAAAAA5xgi64WJiYiQ5prQ7ExoamnaOM1FRUbLb7Wlf4eHhuVInAAAAACBnCOh53OjRoxUTE5P2dfz4cU+XBAAAAABwginuhksdOc9slDw2NlaFCxfO9PWBgYEKDAzMldoAAAAAAK7DCLrhUteeO1tnfubMGV2+fNnp+nQAAAAAgHchoBuuefPmkqSvv/46Q9vq1avTnQMAAAAA8F42y7IsTxeBzCUlJalq1ao6efKktm3blvYs9JiYGN1xxx06cuSI9u/fr4iIiCz1FxsbK7vdrpiYGIWGhuZe4QAAAACMRjYwD2vQDefn56fZs2erXbt2uvPOO9WnTx8VKlRIS5Ys0dGjRzVx4sQsh3MAAAAAgLkI6F6gRYsW2rx5s8aOHatPP/1UiYmJqlWrlsaPH6/evXt7ujwAAAAAgAswxT2fYRoLAAAAAIlsYCI2iQMAAAAAwAAEdAAAAAAADEBABwAAAADAAAR0AAAAAAAMQEAHAAAAAMAABHQAAAAAAAxAQAcAAAAAwAAEdAAAAAAADEBABwAAAADAAAR0AAAAAAAMQEAHAAAAAMAABHQAAAAAAAxAQAcAAAAAwAAEdAAAAAAADEBABwAAAADAAAR0AAAAAAAMQEAHAAAAAMAABHQAAAAAAAxAQAcAAAAAwAAEdAAAAAAADEBABwAAAADAAAR0AAAAAAAMQEAHAAAAAMAABHQAAAAAAAxAQAcAAAAAwAAEdAAAAAAADEBABwAAAADAAAR0AAAAAAAMQEAHAAAAAMAABHQAAAAAAAxAQAcAAAAAwAAEdAAAAAAADEBABwAAAADAAAR0AAAAAAAMQEAHAAAAAMAABHSDJSYmasmSJRowYICqV6+ukJAQFSpUSA0aNNB7772n5ORkT5cIAAAAAHARm2VZlqeLgHP79u1LC+atWrVS1apVFRMToy+++EKnTp3SXXfdpc8//1w2my3LfcbGxsputysmJkahoaG5WD0AAAAAk5ENzENAN9jJkye1fPlyDRgwQMHBwWnH4+LiFBkZqR07dmjhwoXq1atXlvvkDyEAAAAAiWxgIqa4G6xs2bJ65JFH0oVzSQoODtbIkSMlSRs3bvREaQAAAAAAFyOgeyl/f39Jkp+fn4crAQAAAAC4AunOS82ZM0eS1LZt22ueFx8fr/j4+LTvY2Njc7UuAAAAAMCNYQTdC82cOVMrV65Uy5Yt1bFjx2ueGxUVJbvdnvYVHh7upioBAAAAANnBJnFuMGrUqHSj2NczfPhwValSxWnbl19+qe7du6tMmTLaunWrSpcufc2+nI2gh4eHsxEEAAAAkM+xSZx5mOLuBjNmzFBcXFyWz+/Zs6fTgL5ixQr17NlTJUuW1Lp1664bziUpMDBQgYGB2aoXAAAAAOB+BHQ3uHz5co77+Oqrr9SjRw8VK1ZM69evV8WKFV1QGQAAAADAFKxB9wKp4bxIkSJav369Kleu7OmSAAAAAAAuRkA33MqVK9WjRw8VLlxY69evz3RtOgAAAADAuzHF3WD79u1Tt27dFB8fr8jISC1YsCDDORERERo4cKD7iwMAAAAAuBQB3WBnzpxJ24H9k08+cXpO8+bNCegAAAAAkAcQ0A0WGRkpnoIHAAAAAPkDa9ABAAAAADAAAR0AAAAAAAMQ0AEAAAAAMAABHQAAAAAAAxDQAQAAAAAwAAEdAAAAAAADENABAAAAADAAAR0AAAAAAAMQ0AEAAAAAMAABHQAAAAAAAxDQAQAAAAAwAAEdAAAAAAADENABAAAAADAAAR0AAAAAAAMQ0AEAAAAAMAABHQAAAAAAAxDQAQAAAAAwAAEdAAAAAAADENABAAAAADAAAR0AAAAAAAMQ0AEAAAAAMAABHQAAAAAAAxDQAQAAAAAwAAEdAAAAAAADENABAAAAADAAAR0AAAAAAAMQ0AEAAAAAMAABHQAAAAAAAxDQAQAAAAAwAAEdAAAAAAADENABAAAAADAAAR0AAAAAAAMQ0AEAAAAAMAABHQAAAAAAAxDQAQAAAAAwAAHdyxw+fFghISGy2WwaOnSop8sBAAAAALgIAd2LpKSkaODAgZ4uAwAAAACQCwjoXmTy5MnaunWrxo0b5+lSAAAAAAAuRkD3Evv27dPzzz+v0aNHq06dOp4uBwAAAADgYgR0L5CcnKwBAwaoSpUqev755z1dDgAAAAAgF/h5ugBcX1RUlHbu3Klt27YpICAgW6+Nj49XfHx82vexsbGuLg8AAAAA4AKMoBtu9+7deuWVV/TUU0/p9ttvz/bro6KiZLfb077Cw8NzoUoAAAAAQE4xgu4Go0aNSjeKfT3Dhw9XlSpVlJCQoAEDBqhy5coaO3bsDV179OjRGjlyZNr3sbGxhHQAAAAAMBAB3Q1mzJihuLi4LJ/fs2dPValSRVFRUfrll1/03XffKTAw8IauHRgYeMOvBQAAAAC4j82yLMvTRcC5rl27avny5dc9r0uXLlq2bFmW+oyNjZXdbldMTIxCQ0NzWCEAAAAAb0U2MA8j6AZr06aNihUrluH46dOntWLFClWrVk1NmjTRbbfd5oHqAAAAAACuREA32KOPPur0+IYNG7RixQo1b95c06dPd3NVAAAAAIDcwC7uAAAAAAAYgIAOAAAAAIABmOLuhSIjI8XefgAAAACQtzCCDgAAAACAAQjoAAAAAAAYgIAOAAAAAIABCOgAAAAAABiAgA4AAAAAgAEI6AAAAAAAGICADgAAAACAAQjoAAAAAAAYgIAOAAAAAIABCOgAAAAAABiAgA4AAAAAgAEI6AAAAAAAGICADgAAAACAAQjoAAAAAAAYgIAOAAAAAIABCOgAAAAAABiAgA4AAAAAgAEI6AAAAAAAGICADgAAAACAAQjoAAAAAAAYgIAOAAAAAIABCOgAAAAAABiAgA4AAAAAgAEI6AAAAAAAGICADgAAAACAAQjoAAAAAAAYgIAOAAAAAIABCOgAAAAAABiAgA4AAAAAgAEI6AAAAAAAGICADgAAAACAAQjoAAAAAAAYgIAOAAAAAIABCOgAAAAAABiAgA4AAAAAgAEI6F4iOjpaQ4YMUfny5RUYGKiSJUuqRYsWWrRokadLAwAAAAC4gJ+nC8D1ffPNN+ratask6e6771bFihV14cIF/fzzz1qzZo169erl2QIBAAAAADlGQDfcsWPH1LNnT5UtW1Zr1qxRuXLl0rUnJSV5qDIAAAAAgCsR0A33+uuvKzY2VkuXLs0QziXJz4/fQgAAAADIC2yWZVmeLgLOWZalYsWKyWaz6c8//9SPP/6ojRs3KiUlRXXq1FHLli3l45O9bQRiY2Nlt9sVExOj0NDQXKocAAAAgOnIBuZh+NVg0dHR+uuvv1SvXj099NBDmjlzZrr22267TZ9//rluuummTPuIj49XfHx82vexsbG5Vi8AAAAA4Maxi7vBzp49K0natWuXPv74Y82dO1d//fVX2o7uu3btUs+ePa/ZR1RUlOx2e9pXeHi4O0oHAAAAAGQTU9zdYNSoUelGsa9n+PDhqlKlir777js1adJEkjR58mQ98cQT6c5r2LChtm/frm+//VZNmzZ12pezEfTw8HCmsQAAAAD5HFPczcMUdzeYMWOG4uLisnx+z549VaVKFdnt9rRjnTt3znDe3Xffre3bt2vHjh2ZBvTAwEAFBgZmv2gAAAAAgFsR0N3g8uXLN/S6SpUqydfXV8nJyQoLC8vQnnrs77//zkF1AAAAAAATENANVqBAATVu3Fjffvutfvvttwyj5L/99pskKSIiIst9pq5oYLM4AAAAIH9LzQSsejYHa9ANt2DBAt17771q1aqVvvrqq7Tp6vv27dPtt98uX19fHT16VIULF85SfydOnGCjOAAAAABpjh8/fs0nQ8F9COiGsyxL99xzjxYvXqyqVauqXbt2iomJ0ZIlS3TlyhV98MEHuu+++7LcX0pKik6dOqVChQrJZrPlYuXITamb/R0/fpwNPZDruN/gbtxzcCfuN7ibSfecZVm6dOmSypQpIx8fHvBlAqa4G85ms2nBggVq3Lix3n//fc2YMUOBgYFq3LixxowZo+bNm2erPx8fHz4dy0NCQ0M9/hc78g/uN7gb9xzcifsN7mbKPffPjanheQR0L+Dn56cRI0ZoxIgRni4FAAAAAJBLmMcAAAAAAIABCOiAFwoMDNTYsWN5xj3cgvsN7sY9B3fifoO7cc/hWtgkDgAAAAAAAzCCDgAAAACAAQjoAAAAAAAYgIAOAAAAAIABCOgAAAAAABiAgA4Y4IcfflDHjh0VFham4OBgNWzYUAsXLszSay3L0sqVK/Xwww/r1ltvld1uV1BQkGrXrq3XX39dV69ezeXq4Y1ycs85c+HCBZUtW1Y2m03t27d3YaXIC1x1v509e1YjRoxQlSpVVKBAARUtWlSNGjXSe++9lwtVw5u54p47deqUhg8frho1aig4OFglS5ZU06ZN9eGHHyo5OTmXKoe3+eijj/TQQw+pXr16CgwMlM1m07x587LdT0pKiqZNm6ZatWqpYMGCKl68uPr27avDhw+7vmgYjV3cAQ9bv3692rVrpwIFCqhPnz4qVKiQlixZoqNHj2rixIkaNWrUNV9/9epVFSxYUIGBgYqMjFStWrV09epVrV69WgcOHFD9+vW1YcMGBQUFuekdwXQ5veecue+++7R8+XLFxcWpXbt2WrVqVS5UDm/kqvvtp59+Utu2bXXhwgV16tRJ1atX1+XLl7V3714FBARoxYoVufxO4C1ccc8dPnxYDRo00Pnz59WuXTvdeuutio2N1bJly3TmzBkNHDhQc+fOdcO7gekiIiJ09OhRFStWTMHBwTp69Kjmzp2rgQMHZqufIUOGaPbs2brlllvUqVMnnTp1SgsXLlRISIi2bdumKlWq5M4bgHksAB6TmJhoVapUyQoMDLR27dqVdvzixYvWzTffbAUEBFhHjhy5Zh8JCQnWuHHjrL/++ivD8bvvvtuSZE2YMCE3yocXcsU992+LFy+2JFlvv/22Jclq166di6uGt3LV/RYTE2OVK1fOKl68uLV7926n1wEsy3X33MMPP2xJsqZMmZLu+IULF6xy5cpZkrL9dyXypm+++SbtXoiKirIkWXPnzs1WH+vWrbMkWXfeeacVHx+fdnzFihWWJKtt27auLBmGY4o74EHr1q3ToUOHdO+996pOnTppx+12u8aMGaOEhATNnz//mn34+/vrueeeU+HChTMcHz16tCRp48aNLq8d3skV99w/nTt3Tg8//LD69++vTp065ULF8Gauut/effddHTt2TG+88YZuvfXWDO1+fn6uLBtezFX3XOq04o4dO6Y7HhYWpqZNm0qS/vzzT9cVDq/VunVrlS9fPkd9zJo1S5L06quvKiAgIO14hw4dFBkZqa+//lrHjh3L0TXgPQjogAdt2LBBktS2bdsMbe3atZOUs3Dt7+8viR9e8X9cfc8NHTpUvr6+euutt1xSH/IWV91vn376qWw2m3r06KH9+/dr2rRpmjBhgj7//HMlJCS4tGZ4N1fdczVr1pSkDEsnLl68qC1btqhUqVKqUaNGDqsFHDZs2KDg4GA1adIkQ5srfh6Ed+GndsCDDhw4IElO1xWVKlVKISEhaefciDlz5khy/oMK8idX3nMfffSRPvvsMy1btkyFCxdWTEyMS2uF93PF/ZaQkKBffvlFxYsX17Rp0zR27FilpKSktVesWFHLli1TrVq1XFs8vJKr/o576qmn9MUXX2jEiBFatWpVujXoQUFBWrp0qQoWLOjy+pH/xMXF6fTp06pZs6Z8fX0ztKfeyzn5eRDehRF0wINSA43dbnfaHhoaesOhZ+XKlZoxY4aqV6+uwYMH33CNyFtcdc+dOnVKw4YNU9++fdWlSxeX1oi8wxX3219//aXk5GSdP39er7zyiiZMmKA//vhDJ06c0AsvvKDo6GjdfffdPLECklz3d1zJkiW1detWtW/fXqtWrdKECRM0ffp0xcTE6P7771ft2rVdWjfyr6zcs/88D3kfAR3Ig3744Qf17t1bdrtdixYtUmBgoKdLQh7zwAMPyN/fX1OnTvV0KcjjUkfLk5OT9cgjj2jUqFEqUaKEypYtq1deeUW9evXS0aNHtXjxYg9Xirzk4MGDatKkic6dO6dvv/1Wly5d0vHjx/Xiiy/q1VdfVatWrXjUGoBcQUAHPCj109LMPhWNjY3N9BPVzOzYsUNt27aVj4+PVq9erVtuuSXHdSLvcMU9N3/+fK1cuVLvvPOOihUr5vIakXe44n77Z3vnzp0ztKce27Fjx42WiTzEVf+uDhw4UEePHtUXX3yhpk2bKiQkRDfddJOeffZZPf7449q6das++eQTl9aO/Ckr9+w/z0PeR0AHPOha64rOnDmjy5cvZ+u5lzt27FCbNm2UkpKi1atXq379+i6rFXmDK+65Xbt2SZJ69eolm82W9lWhQgVJ0urVq2Wz2dLtoIz8yRX3W3BwsMqWLSvJsYP2v6Ue+/vvv3NWLPIEV9xzly5d0pYtW1S9enWVKlUqQ3uLFi0k/d/fhUBOBAcHq3Tp0oqOjnY6K+Na+yogbyKgAx7UvHlzSdLXX3+doW316tXpzrme1HCenJysVatWqUGDBq4rFHmGK+65Ro0aafDgwRm+evfuLUm66aabNHjwYHXv3t3F1cPbuOrvuJYtW0qSfvvttwxtqcciIiJutEzkIa6451KfDJDZY9TOnTsnSSwfg8s0b95ccXFx2rJlS4a21Pv2zjvvdHdZ8BRPP4gdyM8SExOtihUrWoGBgdauXbvSjl+8eNG6+eabrYCAACs6Ojrt+KlTp6y9e/daFy9eTNfPjh07rLCwMCskJMTavHmzm6qHN3LVPedMdHS0Jclq165dLlQOb+Sq+23Lli2WJOuWW26xLly4kHb89OnTVtmyZS0fHx9r//79ufxu4A1cdc9VrVrVkmTNmjUr3fELFy5Y1apVsyRZ33zzTW6+FXihqKgoS5I1d+5cp+3nzp2z9u7da507dy7d8XXr1lmSrDvvvNOKj49PO75ixQpLktW2bdvcLBuGIaADHrZu3TrL39/fKlSokDVkyBBr5MiRVvny5S1J1sSJE9OdO2DAgAx/8Z8/f94qXLiwJclq3769NXbs2AxfkydPdu+bgtFyes9lhoAOZ1x1v40cOdKSZIWHh1uPPPKINWTIEKtEiRKWJOv1119307uBN3DFPbdixQrLz8/PkmS1atXKevLJJ63BgwdbxYsXtyRZPXr0cOM7gslmzZplDRgwwBowYIBVt25dS5LVpEmTtGP//JBn7NixliRr7NixGfp54IEH0j6IfPrpp63+/ftbAQEBVpEiRfgAMp8hoAMG2L59u9W+fXsrNDTUKliwoHXHHXdYn3zySYbznP0gkRqKrvVVvnx5970ZeIWc3HOZIaAjM6663+bOnWvVq1fPCgoKsoKDg62mTZtan332WS5XD2/kinvu+++/t3r16mWVLl3a8vPzs0JCQqz69etb06ZNs5KSktzwLuANUu+hzL4GDBiQdu61AnpycrL11ltvWbfccosVGBhoFS1a1Ordu7d18OBB970ZGMFmWZaVK3PnAQAAAABAlrFJHAAAAAAABiCgAwAAAABgAAI6AAAAAAAGIKADAAAAAGAAAjoAAAAAAAYgoAMAAAAAYAACOgAAAAAABiCgAwAAAABgAAI6AAB5XFxcnMLDw1W7dm2lpKTk+vXGjRsnm82mFStW5Pq1AADIS2yWZVmeLgIAAOSe5557Tq+//rq+/PJLderUKdevFxcXp0qVKslut2vPnj3y9/fP9WsCAJAXMIIOAEAedvLkSU2aNEn169d3SziXpODgYD311FP6/fff9d5777nlmgAA5AUEdAAA8rB3331X8fHxGjx4sFuve//998vf319Tp04Vk/UAAMgaAjoAAAZ4/PHHZbPZ1KxZMyUlJWVof+6552Sz2VS3bl1dvXo1S30mJCRo1qxZCgwMVJ8+fTK0HzlyRDabTREREUpJSdHUqVN16623KigoSKVLl9bQoUP1119/SZLi4+P16quvqlq1aipYsKDKlCmj4cOHKy4uzum1ixcvro4dO+rQoUNatWpVNn4lAADIvwjoAAAYYNKkSapXr542b96s559/Pl3bqlWrFBUVpdDQUC1cuFAFChTIUp9btmzRuXPnVL9+fdnt9mue269fPz377LMqW7as2rVrp5SUFM2YMUOtW7dWXFycWrdurYkTJ6pq1apq3bq1rly5oqlTp6pXr16Z9tmmTRtJ0rJly7JULwAA+Z2fpwsAAABSQECAFi5cqLp162rChAlq3ry5OnTooBMnTqh///6yLEuzZ89W5cqVs9znunXrJEmNGjW65nlHjx6Vn5+f9u7dq/Lly0uSzp8/r0aNGmnXrl1q1KiRChYsqMOHD6to0aKSpOjoaN1+++1auXKltmzZoiZNmmTot3HjxpKktWvXZrlmAADyM0bQAQAwRIUKFTRv3jxZlqX+/fsrOjpaffr00Z9//qnHHnvsmqPVzuzatUuSVL169eueO3Xq1LRwLklFixbVww8/LEnas2eP3n///bRwnlprv379JGUewG+55RZJ0qFDhxQbG5ut2gEAyI8I6AAAGKRLly4aOXKkzp8/r9tuu01btmxRvXr1NGnSpGz39ccff0hSumDtjJ+fn9q2bZvheJUqVSRJ5cqVU82aNTNtP3XqlNN+AwICFBISkq4WAACQOQI6AACGGT9+vGrUqKGYmBgFBwdr4cKFCggIyHY/MTExkqTQ0NBrnle6dGn5+WVc9ZYarsuVK+f0dYUKFZKka25al3rtCxcuXL9gAADyOQI6AACG2b59u37//XdJUlxcnH755Zcb6icsLEySrju93Mfn2j8OXK/9WlI/JChcuPAN9wEAQH5BQAcAwCB//vmn+vTpo6SkJA0aNEg2m00DBw7U0aNHs91XiRIlJDk2fPOE+Pj4tMewlSxZ0iM1AADgTQjoAAAYInVzuBMnTuj+++/XnDlzNGrUKF24cEG9e/dWYmJitvqrW7euJOm3337LjXKva8+ePZKkypUrX3eaPQAAIKADAGCMqKgorVq1SjVq1NC7776bdqxRo0bavn27nn766Wz116JFC0nS1q1bXV5rVnz33XeSpJYtW3rk+gAAeBsCOgAABti0aZNefPFFBQUFadGiRQoODpbk2GH9k08+UZEiRTRlyhQtX748y302adJExYsX144dO3Tx4sVcqjxza9askSR17drV7dcGAMAbEdABAPCwc+fOqW/fvkpOTtY777yjGjVqpGsvV66c5s2bJ5vNpkGDBunIkSNZ6jcgIEBDhgxRfHy8FixYkAuVZ+7cuXNauXKlKlWqpPbt27v12gAAeCubZVmWp4sAAAC54+TJk6pUqZJq1qypHTt2uO26kyZN0pNPPqm33npLw4YNc9t1AQDwZgR0AADyuOeee06vv/66vvjiC9111125fr24uDhVrFhRYWFh2rNnj/z9/XP9mgAA5AUEdAAA8ri4uDhVq1ZNRYoU0a5du3L0XPOsGDdunF544QV99dVX6tixY65eCwCAvISADgAAAACAAdgkDgAAAAAAA/w/zXJrmC8MiFcAAAAASUVORK5CYII=' width=1000.0/>\n",
       "            </div>\n",
       "        "
      ],
      "text/plain": [
       "Canvas(toolbar=Toolbar(toolitems=[('Home', 'Reset original view', 'home', 'home'), ('Back', 'Back to previous …"
      ]
     },
     "metadata": {},
     "output_type": "display_data"
    }
   ],
   "source": [
    "fig, ax = plt.subplots(figsize=(10,5))\n",
    "def plot_solution(iy):\n",
    "    ax.clear()\n",
    "    ax.plot(params['x'][1:], solution.y[:, iy], 'b-', linewidth=4, label='solution')\n",
    "    ax.legend()\n",
    "    ax.set_title(f'Time: {solution.t[iy]} s', fontsize=16)\n",
    "    ax.set_xlabel('x (m)', fontsize=16)\n",
    "    ax.set_ylabel('T (K)', fontsize=16)\n",
    "    ax.tick_params(axis='both', labelsize=14)\n",
    "    ax.set_ylim([np.min(solution.y), np.max(solution.y)])\n",
    "\n",
    "widgets.interactive(plot_solution, iy = widgets.IntSlider(min=0, max=(len(solution.t)-1), value=0))"
   ]
  }
 ],
 "metadata": {
  "interpreter": {
   "hash": "87df4c83b56fb8b58e6fe6434764317a79f3f72ebd797e1bfe209587b31ed721"
  },
  "kernelspec": {
   "display_name": "Python 3 (ipykernel)",
   "language": "python",
   "name": "python3"
  },
  "language_info": {
   "codemirror_mode": {
    "name": "ipython",
    "version": 3
   },
   "file_extension": ".py",
   "mimetype": "text/x-python",
   "name": "python",
   "nbconvert_exporter": "python",
   "pygments_lexer": "ipython3",
   "version": "3.9.7"
  }
 },
 "nbformat": 4,
 "nbformat_minor": 2
}
