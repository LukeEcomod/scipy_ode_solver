{
 "cells": [
  {
   "cell_type": "markdown",
   "metadata": {},
   "source": [
    "# Scipy ODE solver demo"
   ]
  },
  {
   "cell_type": "code",
   "execution_count": 1,
   "metadata": {},
   "outputs": [],
   "source": [
    "import numpy as np\n",
    "import matplotlib.pyplot as plt\n",
    "from scipy.integrate import solve_ivp\n",
    "import ipywidgets as widgets\n",
    "%matplotlib widget"
   ]
  },
  {
   "cell_type": "markdown",
   "metadata": {},
   "source": [
    "## Modelled system\n",
    "\n",
    "Modelled system is an imaginary 1 D heat equation\n",
    "\n",
    "\\begin{align}\n",
    "\\frac{\\partial T}{\\partial t} &= -C^{-1}\\left(\\frac{\\partial q}{\\partial x} - s\\right) \\\\\n",
    "s &= T \\cdot a,\n",
    "\\end{align}\n",
    "\n",
    "where T is the temperature (K), C is the volumetric heat capacity (J m<sup>-3</sup>K<sup>-1</sup>), q is the conductive heat flux (W m<sup>-2</sup>) and s is an imaginary source term (W m<sup>-3</sup>). For demonstration purposes we will assume completely random numerical values for the terms. We will solve this equation in domain $x \\in [0, 1]$; $t \\in [0, 50]$. We will assume that the conductive heat flux from left and right of the system is zero.\n"
   ]
  },
  {
   "cell_type": "markdown",
   "metadata": {},
   "source": [
    "## Define params dictionary for constant terms\n",
    "\n",
    "- c: volumetric heat capacity\n",
    "- q: conductive heat flux\n",
    "- x: space discretization\n",
    "- a: constant a for calcuting the imaginary source term s\n",
    "- Nx: number of x elements"
   ]
  },
  {
   "cell_type": "code",
   "execution_count": 2,
   "metadata": {},
   "outputs": [],
   "source": [
    "Nx = 10\n",
    "params = {'c': 5, 'q': np.random.random((Nx,))*0.1, 'x': np.linspace(0,1,Nx+1), 'a': 0.01, 'Nx': Nx}"
   ]
  },
  {
   "cell_type": "markdown",
   "metadata": {},
   "source": [
    "## Define the right hand side of eq. (1)\n",
    "\n",
    "t is time and y will containt the solutions of T from previous ode solver time step."
   ]
  },
  {
   "cell_type": "code",
   "execution_count": 3,
   "metadata": {},
   "outputs": [],
   "source": [
    "def odefun(t,y,params):\n",
    "    s = y * params['a']\n",
    "    dq_left = np.zeros((params['Nx'],))\n",
    "    dq_right = np.zeros((params['Nx'],))\n",
    "    dq_left[1:] = -1.0*np.diff(params['q'], axis=0)\n",
    "    dq_right[:-1] = np.diff(params['q'], axis=0)\n",
    "    dq = dq_left + dq_right\n",
    "    dTdt = -params['c']**(-1) * (dq/np.diff(params['x'], axis=0) - s)\n",
    "    return dTdt"
   ]
  },
  {
   "cell_type": "markdown",
   "metadata": {},
   "source": [
    "## Set initial temperature profile"
   ]
  },
  {
   "cell_type": "code",
   "execution_count": 4,
   "metadata": {},
   "outputs": [],
   "source": [
    "T_init = np.ones((10,))\n",
    "T_init[5] = 4"
   ]
  },
  {
   "cell_type": "markdown",
   "metadata": {},
   "source": [
    "## Solve ODE by calling solve_ivp\n",
    "\n",
    "Setting monotonically increasing array in t_eval gives more solution points"
   ]
  },
  {
   "cell_type": "code",
   "execution_count": 5,
   "metadata": {},
   "outputs": [],
   "source": [
    "solution = solve_ivp(lambda t,y: odefun(t,y,params), (0, 50), T_init, method='RK45', t_eval = np.linspace(0,50,51))"
   ]
  },
  {
   "cell_type": "markdown",
   "metadata": {},
   "source": [
    "## Solution has the following fields"
   ]
  },
  {
   "cell_type": "code",
   "execution_count": 6,
   "metadata": {},
   "outputs": [
    {
     "data": {
      "text/plain": [
       "dict_keys(['t', 'y', 'sol', 't_events', 'y_events', 'nfev', 'njev', 'nlu', 'status', 'message', 'success'])"
      ]
     },
     "execution_count": 6,
     "metadata": {},
     "output_type": "execute_result"
    }
   ],
   "source": [
    "solution.keys()"
   ]
  },
  {
   "cell_type": "markdown",
   "metadata": {},
   "source": [
    "## Visualize solution"
   ]
  },
  {
   "cell_type": "code",
   "execution_count": 7,
   "metadata": {},
   "outputs": [
    {
     "data": {
      "application/vnd.jupyter.widget-view+json": {
       "model_id": "49e890c9aae84f79980d3488c7ba219d",
       "version_major": 2,
       "version_minor": 0
      },
      "text/plain": [
       "interactive(children=(IntSlider(value=0, description='iy', max=50), Output()), _dom_classes=('widget-interact'…"
      ]
     },
     "metadata": {},
     "output_type": "display_data"
    },
    {
     "data": {
      "application/vnd.jupyter.widget-view+json": {
       "model_id": "8f2104c2b27e45298c141beeda1c49e0",
       "version_major": 2,
       "version_minor": 0
      },
      "text/html": [
       "\n",
       "            <div style=\"display: inline-block;\">\n",
       "                <div class=\"jupyter-widgets widget-label\" style=\"text-align: center;\">\n",
       "                    Figure\n",
       "                </div>\n",
       "                <img src='data:image/png;base64,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' width=1000.0/>\n",
       "            </div>\n",
       "        "
      ],
      "text/plain": [
       "Canvas(toolbar=Toolbar(toolitems=[('Home', 'Reset original view', 'home', 'home'), ('Back', 'Back to previous …"
      ]
     },
     "metadata": {},
     "output_type": "display_data"
    }
   ],
   "source": [
    "fig, ax = plt.subplots(figsize=(10,5))\n",
    "def plot_solution(iy):\n",
    "    ax.clear()\n",
    "    ax.plot(params['x'][1:], solution.y[:, iy], 'b-', linewidth=4, label='solution')\n",
    "    ax.legend()\n",
    "    ax.set_title(f'Time: {solution.t[iy]} s', fontsize=16)\n",
    "    ax.set_xlabel('x (m)', fontsize=16)\n",
    "    ax.set_ylabel('T (K)', fontsize=16)\n",
    "    ax.tick_params(axis='both', labelsize=14)\n",
    "    ax.set_ylim([np.min(solution.y), np.max(solution.y)])\n",
    "\n",
    "widgets.interactive(plot_solution, iy = widgets.IntSlider(min=0, max=(len(solution.t)-1), value=0))"
   ]
  }
 ],
 "metadata": {
  "interpreter": {
   "hash": "87df4c83b56fb8b58e6fe6434764317a79f3f72ebd797e1bfe209587b31ed721"
  },
  "kernelspec": {
   "display_name": "Python 3.9.7 64-bit ('.venv': poetry)",
   "language": "python",
   "name": "python3"
  },
  "language_info": {
   "codemirror_mode": {
    "name": "ipython",
    "version": 3
   },
   "file_extension": ".py",
   "mimetype": "text/x-python",
   "name": "python",
   "nbconvert_exporter": "python",
   "pygments_lexer": "ipython3",
   "version": "3.9.7"
  },
  "orig_nbformat": 4
 },
 "nbformat": 4,
 "nbformat_minor": 2
}
