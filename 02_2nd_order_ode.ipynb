{
 "cells": [
  {
   "cell_type": "markdown",
   "metadata": {},
   "source": [
    "# Scipy solve_ivp example for 2<sup>nd</sup> order ordinary differential equation"
   ]
  },
  {
   "cell_type": "markdown",
   "metadata": {},
   "source": [
    "### Modelled system\n",
    "\n",
    "The modelled system is a particle with acceleration\n",
    "\n",
    "\\begin{align*}\n",
    "\\frac{d^2x}{dt^2} = a \\cdot \\frac{dx}{dt} -b \\cdot x\n",
    "\\end{align*}\n",
    "\n",
    "where $a,b \\in \\mathbb{R}$, x is the particle position and t is time. We will solve this ODE in the domain $t \\in [0, 50] $. Further, the initial conditions are that\n",
    "\n",
    "\\begin{align*}\n",
    "x(t=0) &= 0 \\\\\n",
    "\\frac{dx (t=0)}{dt} &= 0.1 \\frac{m}{s}\n",
    "\\end{align*}\n",
    "\n",
    "**This form is later referred to system (1) in this notebook.**\n",
    "\n",
    "This system has an analytical solution\n",
    "\n",
    "\\begin{align*}\n",
    "x(t) = c_1 e^{(1/2 t (a - \\sqrt{a^2 - 4 b}))} + c_2 e^{(1/2 t (\\sqrt{a^2 - 4 b} + a))}\n",
    "\\end{align*}\n",
    "\n",
    "With our chosen initial conditions this becomes\n",
    "\n",
    "\\begin{align*}\n",
    "x(t) = \\frac{0.1 e^{(1/2 t (\\sqrt{a^2 - 4 b} + a))} - 0.1 e^{(1/2 t (a - \\sqrt{a^2 - 4 b}))}}{\\sqrt{a^2 - 4 b}}\n",
    "\\end{align*}\n"
   ]
  },
  {
   "cell_type": "markdown",
   "metadata": {},
   "source": [
    "### Conversion to first order system\n",
    "\n",
    "To solve ODE (1) with solve_ivp we need to convert the system back to first order system. This can be done by setting\n",
    "\n",
    "\\begin{align*}\n",
    "y_1 &= x \\\\\n",
    "y_2 &= \\frac{dx}{dt}\n",
    "\\end{align*}\n",
    "\n",
    "and the system (1) becomes\n",
    "\n",
    "\\begin{align*}\n",
    "\\frac{dy_2}{dt} &= a \\cdot y_2 - b \\cdot y_1 \\\\\n",
    "\\frac{dy_1}{dt} &= y_2\n",
    "\\end{align*}\n",
    "\n",
    "which will be referred to as system (2) and solved with solve_ivp in the following cells\n",
    "\n",
    "\n"
   ]
  },
  {
   "cell_type": "code",
   "execution_count": 1,
   "metadata": {},
   "outputs": [],
   "source": [
    "import numpy as np\n",
    "from scipy.integrate import solve_ivp\n",
    "import matplotlib.pyplot as plt\n",
    "%matplotlib widget"
   ]
  },
  {
   "cell_type": "markdown",
   "metadata": {},
   "source": [
    "### Set constants"
   ]
  },
  {
   "cell_type": "code",
   "execution_count": 2,
   "metadata": {},
   "outputs": [],
   "source": [
    "a = 0.041\n",
    "b = 0.0001\n",
    "params = {}\n",
    "params['a'] = a\n",
    "params['b'] = b"
   ]
  },
  {
   "cell_type": "markdown",
   "metadata": {},
   "source": [
    "### Calculate analytical solution"
   ]
  },
  {
   "cell_type": "code",
   "execution_count": 3,
   "metadata": {},
   "outputs": [],
   "source": [
    "t = np.linspace(0,50,101)\n",
    "x_exact = (0.1*np.exp(0.5*t*(np.sqrt(a**2-4*b)+a)) - 0.1*np.exp(0.5*t*(a-np.sqrt(a**2-4*b))))/(np.sqrt(a**2-4*b))"
   ]
  },
  {
   "cell_type": "markdown",
   "metadata": {},
   "source": [
    "### Calculate numerical solution"
   ]
  },
  {
   "cell_type": "markdown",
   "metadata": {},
   "source": [
    "#### Define ode function\n",
    "\n",
    "Now the returned function dydt contains two values where the first element is $\\frac{dy_1}{dt}$ and the second element is $\\frac{dy_2}{dt}$"
   ]
  },
  {
   "cell_type": "code",
   "execution_count": 4,
   "metadata": {},
   "outputs": [],
   "source": [
    "def odefun(t,y,params):\n",
    "    dydt = np.zeros((2,))\n",
    "    dydt[0] = y[1]\n",
    "    dydt[1] = params['a'] * y[1] - params['b']*y[0]\n",
    "    return dydt "
   ]
  },
  {
   "cell_type": "markdown",
   "metadata": {},
   "source": [
    "#### Use solve_ivp to calculate $y_1$ and $y_2$\n",
    "Setting monotonically increasing array in t_eval gives more solution points"
   ]
  },
  {
   "cell_type": "code",
   "execution_count": 5,
   "metadata": {},
   "outputs": [],
   "source": [
    "t_start = 0\n",
    "t_end = 50\n",
    "y_init = [0, 0.1]\n",
    "solution = solve_ivp(lambda t,y: odefun(t,y,params), (t_start,t_end), y_init,t_eval=t, method='DOP853')"
   ]
  },
  {
   "cell_type": "code",
   "execution_count": 6,
   "metadata": {},
   "outputs": [
    {
     "data": {
      "text/plain": [
       "  message: 'The solver successfully reached the end of the integration interval.'\n",
       "     nfev: 74\n",
       "     njev: 0\n",
       "      nlu: 0\n",
       "      sol: None\n",
       "   status: 0\n",
       "  success: True\n",
       "        t: array([ 0. ,  0.5,  1. ,  1.5,  2. ,  2.5,  3. ,  3.5,  4. ,  4.5,  5. ,\n",
       "        5.5,  6. ,  6.5,  7. ,  7.5,  8. ,  8.5,  9. ,  9.5, 10. , 10.5,\n",
       "       11. , 11.5, 12. , 12.5, 13. , 13.5, 14. , 14.5, 15. , 15.5, 16. ,\n",
       "       16.5, 17. , 17.5, 18. , 18.5, 19. , 19.5, 20. , 20.5, 21. , 21.5,\n",
       "       22. , 22.5, 23. , 23.5, 24. , 24.5, 25. , 25.5, 26. , 26.5, 27. ,\n",
       "       27.5, 28. , 28.5, 29. , 29.5, 30. , 30.5, 31. , 31.5, 32. , 32.5,\n",
       "       33. , 33.5, 34. , 34.5, 35. , 35.5, 36. , 36.5, 37. , 37.5, 38. ,\n",
       "       38.5, 39. , 39.5, 40. , 40.5, 41. , 41.5, 42. , 42.5, 43. , 43.5,\n",
       "       44. , 44.5, 45. , 45.5, 46. , 46.5, 47. , 47.5, 48. , 48.5, 49. ,\n",
       "       49.5, 50. ])\n",
       " t_events: None\n",
       "        y: array([[ 0.        ,  0.05051581,  0.1020766 ,  0.15470273,  0.20841491,\n",
       "         0.26323429,  0.31918242,  0.37628127,  0.43455321,  0.49402108,\n",
       "         0.55470815,  0.61663813,  0.6798352 ,  0.74432401,  0.81012969,\n",
       "         0.87727784,  0.94579458,  1.01570651,  1.08704078,  1.15982504,\n",
       "         1.23408748,  1.30985684,  1.38716242,  1.46603451,  1.5465037 ,\n",
       "         1.62860067,  1.7123568 ,  1.79780415,  1.8849755 ,  1.9739043 ,\n",
       "         2.06462472,  2.15717163,  2.25158059,  2.34788787,  2.44613047,\n",
       "         2.5463461 ,  2.64857322,  2.752851  ,  2.85921939,  2.96771908,\n",
       "         3.07839155,  3.19127905,  3.30642463,  3.42387218,  3.5436664 ,\n",
       "         3.66585282,  3.79047788,  3.91758885,  4.04723393,  4.17946223,\n",
       "         4.3143238 ,  4.45186963,  4.59215173,  4.73522307,  4.88113766,\n",
       "         5.02995056,  5.18171788,  5.33649685,  5.49434578,  5.65532417,\n",
       "         5.81949263,  5.986913  ,  6.15764833,  6.33176288,  6.50932223,\n",
       "         6.69039322,  6.87504401,  7.06334413,  7.25536447,  7.45117732,\n",
       "         7.65085641,  7.85447692,  8.06211553,  8.2738504 ,  8.48976126,\n",
       "         8.7099294 ,  8.9344377 ,  9.16337068,  9.39681448,  9.63485694,\n",
       "         9.87758761, 10.12509776, 10.37748042, 10.63483042, 10.89724438,\n",
       "        11.16482078, 11.43765995, 11.71586412, 11.99953744, 12.288786  ,\n",
       "        12.58371784, 12.884443  , 13.19107355, 13.50372357, 13.82250923,\n",
       "        14.14754875, 14.47896247, 14.81687287, 15.16140456, 15.5126843 ,\n",
       "        15.87084108],\n",
       "       [ 0.1       ,  0.10206989,  0.10418007,  0.10633133,  0.10852445,\n",
       "         0.11076026,  0.11303958,  0.11536325,  0.11773213,  0.12014711,\n",
       "         0.12260906,  0.12511892,  0.12767759,  0.13028603,  0.13294521,\n",
       "         0.1356561 ,  0.13841972,  0.14123708,  0.14410922,  0.14703721,\n",
       "         0.15002213,  0.15306508,  0.15616719,  0.15932962,  0.16255355,\n",
       "         0.16584015,  0.16919063,  0.17260622,  0.17608818,  0.1796378 ,\n",
       "         0.18325638,  0.18694527,  0.19070583,  0.19453945,  0.19844756,\n",
       "         0.2024316 ,  0.20649305,  0.21063341,  0.21485422,  0.21915704,\n",
       "         0.22354347,  0.22801512,  0.23257365,  0.23722074,  0.24195812,\n",
       "         0.24678752,  0.25171074,  0.25672959,  0.26184591,  0.2670616 ,\n",
       "         0.27237858,  0.2777988 ,  0.28332426,  0.288957  ,  0.29469909,\n",
       "         0.30055264,  0.30651981,  0.31260279,  0.31880384,  0.32512522,\n",
       "         0.33156927,  0.33813836,  0.34483492,  0.3516614 ,  0.35862034,\n",
       "         0.36571429,  0.37294587,  0.38031776,  0.38783267,  0.39549338,\n",
       "         0.40330272,  0.41126359,  0.41937891,  0.4276517 ,  0.43608502,\n",
       "         0.44468198,  0.45344577,  0.46237964,  0.47148689,  0.4807709 ,\n",
       "         0.4902351 ,  0.499883  ,  0.50971817,  0.51974425,  0.52996496,\n",
       "         0.54038407,  0.55100543,  0.56183298,  0.57287071,  0.58412269,\n",
       "         0.59559307,  0.60728609,  0.61920603,  0.63135729,  0.64374432,\n",
       "         0.65637166,  0.66924393,  0.68236584,  0.69574217,  0.70937779,\n",
       "         0.72327765]])\n",
       " y_events: None"
      ]
     },
     "execution_count": 6,
     "metadata": {},
     "output_type": "execute_result"
    }
   ],
   "source": [
    "solution"
   ]
  },
  {
   "cell_type": "markdown",
   "metadata": {},
   "source": [
    "### Visualize solution"
   ]
  },
  {
   "cell_type": "code",
   "execution_count": 7,
   "metadata": {},
   "outputs": [
    {
     "data": {
      "text/plain": [
       "(0.0, 15.870841076628972)"
      ]
     },
     "execution_count": 7,
     "metadata": {},
     "output_type": "execute_result"
    },
    {
     "data": {
      "application/vnd.jupyter.widget-view+json": {
       "model_id": "6b0ebf1b68274d5992069864855b078a",
       "version_major": 2,
       "version_minor": 0
      },
      "text/html": [
       "\n",
       "            <div style=\"display: inline-block;\">\n",
       "                <div class=\"jupyter-widgets widget-label\" style=\"text-align: center;\">\n",
       "                    Figure\n",
       "                </div>\n",
       "                <img src='data:image/png;base64,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' width=1000.0/>\n",
       "            </div>\n",
       "        "
      ],
      "text/plain": [
       "Canvas(toolbar=Toolbar(toolitems=[('Home', 'Reset original view', 'home', 'home'), ('Back', 'Back to previous …"
      ]
     },
     "metadata": {},
     "output_type": "display_data"
    }
   ],
   "source": [
    "fig, ax = plt.subplots(figsize=(10,5))\n",
    "\n",
    "ax.plot(solution.t, solution.y[0, :], '-', linewidth=4, color='sandybrown', label='solve_ivp DOP853 solution')\n",
    "ax.plot(t, x_exact, '--', linewidth=3, color='black', label='Exact solution')\n",
    "ax.legend()\n",
    "ax.set_xlabel('Time (s)', fontsize=16)\n",
    "ax.set_ylabel('Distance from x=0 (m)', fontsize=16)\n",
    "ax.tick_params(axis='both', labelsize=14)\n",
    "ax.set_ylim([np.min(solution.y), np.max(solution.y)])"
   ]
  }
 ],
 "metadata": {
  "interpreter": {
   "hash": "87df4c83b56fb8b58e6fe6434764317a79f3f72ebd797e1bfe209587b31ed721"
  },
  "kernelspec": {
   "display_name": "Python 3.9.7 64-bit ('.venv': poetry)",
   "language": "python",
   "name": "python3"
  },
  "language_info": {
   "codemirror_mode": {
    "name": "ipython",
    "version": 3
   },
   "file_extension": ".py",
   "mimetype": "text/x-python",
   "name": "python",
   "nbconvert_exporter": "python",
   "pygments_lexer": "ipython3",
   "version": "3.9.7"
  },
  "orig_nbformat": 4
 },
 "nbformat": 4,
 "nbformat_minor": 2
}
