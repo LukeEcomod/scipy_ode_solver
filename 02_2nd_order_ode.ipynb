{
 "cells": [
  {
   "cell_type": "markdown",
   "metadata": {},
   "source": [
    "# Scipy solve_ivp example for 2<sup>nd</sup> order ordinary differential equation"
   ]
  },
  {
   "cell_type": "markdown",
   "metadata": {},
   "source": [
    "### Modelled system\n",
    "\n",
    "The modelled system is a particle with acceleration\n",
    "\n",
    "\\begin{align*}\n",
    "\\frac{d^2x}{dt^2} = a \\cdot \\frac{dx}{dt} -b \\cdot x\n",
    "\\end{align*}\n",
    "\n",
    "where $a,b \\in \\mathbb{R}$, x is the particle position and t is time. We will solve this ODE in the domain $t \\in [0, 50] $. Further, the initial conditions are that\n",
    "\n",
    "\\begin{align*}\n",
    "x(t=0) &= 0 \\\\\n",
    "\\frac{dx (t=0)}{dt} &= 0.1 \\frac{m}{s}\n",
    "\\end{align*}\n",
    "\n",
    "**This form is later referred to system (1) in this notebook.**\n",
    "\n",
    "This system has an analytical solution\n",
    "\n",
    "\\begin{align*}\n",
    "x(t) = c_1 e^{(1/2 t (a - \\sqrt{a^2 - 4 b}))} + c_2 e^{(1/2 t (\\sqrt{a^2 - 4 b} + a))}\n",
    "\\end{align*}\n",
    "\n",
    "With our chosen initial conditions this becomes\n",
    "\n",
    "\\begin{align*}\n",
    "x(t) = \\frac{0.1 e^{(1/2 t (\\sqrt{a^2 - 4 b} + a))} - 0.1 e^{(1/2 t (a - \\sqrt{a^2 - 4 b}))}}{\\sqrt{a^2 - 4 b}}\n",
    "\\end{align*}\n"
   ]
  },
  {
   "cell_type": "markdown",
   "metadata": {},
   "source": [
    "### Conversion to first order system\n",
    "\n",
    "To solve ODE (1) with solve_ivp we need to convert the system back to first order system. This can be done by setting\n",
    "\n",
    "\\begin{align*}\n",
    "y_1 &= x \\\\\n",
    "y_2 &= \\frac{dx}{dt}\n",
    "\\end{align*}\n",
    "\n",
    "and the system (1) becomes\n",
    "\n",
    "\\begin{align*}\n",
    "\\frac{dy_2}{dt} &= a \\cdot y_2 - b \\cdot y_1 \\\\\n",
    "\\frac{dy_1}{dt} &= y_2\n",
    "\\end{align*}\n",
    "\n",
    "which will be referred to as system (2) and solved with solve_ivp in the following cells\n",
    "\n",
    "\n"
   ]
  },
  {
   "cell_type": "code",
   "execution_count": 1,
   "metadata": {},
   "outputs": [],
   "source": [
    "import numpy as np\n",
    "from scipy.integrate import solve_ivp\n",
    "import matplotlib.pyplot as plt\n",
    "%matplotlib widget"
   ]
  },
  {
   "cell_type": "markdown",
   "metadata": {},
   "source": [
    "### Set constants"
   ]
  },
  {
   "cell_type": "code",
   "execution_count": 2,
   "metadata": {},
   "outputs": [],
   "source": [
    "a = 0.041\n",
    "b = 0.0001\n",
    "params = {}\n",
    "params['a'] = a\n",
    "params['b'] = b"
   ]
  },
  {
   "cell_type": "markdown",
   "metadata": {},
   "source": [
    "### Calculate analytical solution"
   ]
  },
  {
   "cell_type": "code",
   "execution_count": 3,
   "metadata": {},
   "outputs": [],
   "source": [
    "t = np.linspace(0,50,101)\n",
    "x_exact = (0.1*np.exp(0.5*t*(np.sqrt(a**2-4*b)+a)) - 0.1*np.exp(0.5*t*(a-np.sqrt(a**2-4*b))))/(np.sqrt(a**2-4*b))"
   ]
  },
  {
   "cell_type": "markdown",
   "metadata": {},
   "source": [
    "### Calculate numerical solution"
   ]
  },
  {
   "cell_type": "markdown",
   "metadata": {},
   "source": [
    "#### Define ode function\n",
    "\n",
    "Now the returned function dydt contains two values where the first element is $\\frac{dy_1}{dt}$ and the second element is $\\frac{dy_2}{dt}$"
   ]
  },
  {
   "cell_type": "code",
   "execution_count": 4,
   "metadata": {},
   "outputs": [],
   "source": [
    "def odefun(t,y,params):\n",
    "    dydt = np.zeros((2,))\n",
    "    dydt[0] = y[1]\n",
    "    dydt[1] = params['a'] * y[1] - params['b']*y[0]\n",
    "    return dydt "
   ]
  },
  {
   "cell_type": "markdown",
   "metadata": {},
   "source": [
    "#### Use solve_ivp to calculate $y_1$ and $y_2$\n",
    "Setting monotonically increasing array in t_eval gives more solution points"
   ]
  },
  {
   "cell_type": "code",
   "execution_count": 9,
   "metadata": {},
   "outputs": [],
   "source": [
    "t_start = 0\n",
    "t_end = 50\n",
    "y_init = [0, 0.1]\n",
    "solution = solve_ivp(lambda t,y: odefun(t,y,params), (t_start,t_end), y_init,t_eval=t, method='DOP853')"
   ]
  },
  {
   "cell_type": "code",
   "execution_count": 8,
   "metadata": {},
   "outputs": [
    {
     "data": {
      "text/plain": [
       "  message: 'The solver successfully reached the end of the integration interval.'\n",
       "     nfev: 74\n",
       "     njev: 0\n",
       "      nlu: 0\n",
       "      sol: None\n",
       "   status: 0\n",
       "  success: True\n",
       "        t: array([ 0. ,  0.5,  1. ,  1.5,  2. ,  2.5,  3. ,  3.5,  4. ,  4.5,  5. ,\n",
       "        5.5,  6. ,  6.5,  7. ,  7.5,  8. ,  8.5,  9. ,  9.5, 10. , 10.5,\n",
       "       11. , 11.5, 12. , 12.5, 13. , 13.5, 14. , 14.5, 15. , 15.5, 16. ,\n",
       "       16.5, 17. , 17.5, 18. , 18.5, 19. , 19.5, 20. , 20.5, 21. , 21.5,\n",
       "       22. , 22.5, 23. , 23.5, 24. , 24.5, 25. , 25.5, 26. , 26.5, 27. ,\n",
       "       27.5, 28. , 28.5, 29. , 29.5, 30. , 30.5, 31. , 31.5, 32. , 32.5,\n",
       "       33. , 33.5, 34. , 34.5, 35. , 35.5, 36. , 36.5, 37. , 37.5, 38. ,\n",
       "       38.5, 39. , 39.5, 40. , 40.5, 41. , 41.5, 42. , 42.5, 43. , 43.5,\n",
       "       44. , 44.5, 45. , 45.5, 46. , 46.5, 47. , 47.5, 48. , 48.5, 49. ,\n",
       "       49.5, 50. ])\n",
       " t_events: None\n",
       "        y: array([[ 0.        ,  0.05051581,  0.1020766 ,  0.15470273,  0.20841491,\n",
       "         0.26323429,  0.31918242,  0.37628127,  0.43455321,  0.49402108,\n",
       "         0.55470815,  0.61663813,  0.6798352 ,  0.74432401,  0.81012969,\n",
       "         0.87727784,  0.94579458,  1.01570651,  1.08704078,  1.15982504,\n",
       "         1.23408748,  1.30985684,  1.38716242,  1.46603451,  1.5465037 ,\n",
       "         1.62860067,  1.7123568 ,  1.79780415,  1.8849755 ,  1.9739043 ,\n",
       "         2.06462472,  2.15717163,  2.25158059,  2.34788787,  2.44613047,\n",
       "         2.5463461 ,  2.64857322,  2.752851  ,  2.85921939,  2.96771908,\n",
       "         3.07839155,  3.19127905,  3.30642463,  3.42387218,  3.5436664 ,\n",
       "         3.66585282,  3.79047788,  3.91758885,  4.04723393,  4.17946223,\n",
       "         4.3143238 ,  4.45186963,  4.59215173,  4.73522307,  4.88113766,\n",
       "         5.02995056,  5.18171788,  5.33649685,  5.49434578,  5.65532417,\n",
       "         5.81949263,  5.986913  ,  6.15764833,  6.33176288,  6.50932223,\n",
       "         6.69039322,  6.87504401,  7.06334413,  7.25536447,  7.45117732,\n",
       "         7.65085641,  7.85447692,  8.06211553,  8.2738504 ,  8.48976126,\n",
       "         8.7099294 ,  8.9344377 ,  9.16337068,  9.39681448,  9.63485694,\n",
       "         9.87758761, 10.12509776, 10.37748042, 10.63483042, 10.89724438,\n",
       "        11.16482078, 11.43765995, 11.71586412, 11.99953744, 12.288786  ,\n",
       "        12.58371784, 12.884443  , 13.19107355, 13.50372357, 13.82250923,\n",
       "        14.14754875, 14.47896247, 14.81687287, 15.16140456, 15.5126843 ,\n",
       "        15.87084108],\n",
       "       [ 0.1       ,  0.10206989,  0.10418007,  0.10633133,  0.10852445,\n",
       "         0.11076026,  0.11303958,  0.11536325,  0.11773213,  0.12014711,\n",
       "         0.12260906,  0.12511892,  0.12767759,  0.13028603,  0.13294521,\n",
       "         0.1356561 ,  0.13841972,  0.14123708,  0.14410922,  0.14703721,\n",
       "         0.15002213,  0.15306508,  0.15616719,  0.15932962,  0.16255355,\n",
       "         0.16584015,  0.16919063,  0.17260622,  0.17608818,  0.1796378 ,\n",
       "         0.18325638,  0.18694527,  0.19070583,  0.19453945,  0.19844756,\n",
       "         0.2024316 ,  0.20649305,  0.21063341,  0.21485422,  0.21915704,\n",
       "         0.22354347,  0.22801512,  0.23257365,  0.23722074,  0.24195812,\n",
       "         0.24678752,  0.25171074,  0.25672959,  0.26184591,  0.2670616 ,\n",
       "         0.27237858,  0.2777988 ,  0.28332426,  0.288957  ,  0.29469909,\n",
       "         0.30055264,  0.30651981,  0.31260279,  0.31880384,  0.32512522,\n",
       "         0.33156927,  0.33813836,  0.34483492,  0.3516614 ,  0.35862034,\n",
       "         0.36571429,  0.37294587,  0.38031776,  0.38783267,  0.39549338,\n",
       "         0.40330272,  0.41126359,  0.41937891,  0.4276517 ,  0.43608502,\n",
       "         0.44468198,  0.45344577,  0.46237964,  0.47148689,  0.4807709 ,\n",
       "         0.4902351 ,  0.499883  ,  0.50971817,  0.51974425,  0.52996496,\n",
       "         0.54038407,  0.55100543,  0.56183298,  0.57287071,  0.58412269,\n",
       "         0.59559307,  0.60728609,  0.61920603,  0.63135729,  0.64374432,\n",
       "         0.65637166,  0.66924393,  0.68236584,  0.69574217,  0.70937779,\n",
       "         0.72327765]])\n",
       " y_events: None"
      ]
     },
     "execution_count": 8,
     "metadata": {},
     "output_type": "execute_result"
    }
   ],
   "source": [
    "solution"
   ]
  },
  {
   "cell_type": "markdown",
   "metadata": {},
   "source": [
    "### Visualize solution"
   ]
  },
  {
   "cell_type": "code",
   "execution_count": 10,
   "metadata": {},
   "outputs": [
    {
     "data": {
      "text/plain": [
       "(0.0, 15.871258632455493)"
      ]
     },
     "execution_count": 10,
     "metadata": {},
     "output_type": "execute_result"
    },
    {
     "data": {
      "application/vnd.jupyter.widget-view+json": {
       "model_id": "d2d07ff4d6ab49249433acb10c1cfe23",
       "version_major": 2,
       "version_minor": 0
      },
      "text/html": [
       "\n",
       "            <div style=\"display: inline-block;\">\n",
       "                <div class=\"jupyter-widgets widget-label\" style=\"text-align: center;\">\n",
       "                    Figure\n",
       "                </div>\n",
       "                <img src='data:image/png;base64,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' width=1000.0/>\n",
       "            </div>\n",
       "        "
      ],
      "text/plain": [
       "Canvas(toolbar=Toolbar(toolitems=[('Home', 'Reset original view', 'home', 'home'), ('Back', 'Back to previous …"
      ]
     },
     "metadata": {},
     "output_type": "display_data"
    }
   ],
   "source": [
    "fig, ax = plt.subplots(figsize=(10,5))\n",
    "\n",
    "ax.plot(solution.t, solution.y[0, :], '-', linewidth=4, color='sandybrown', label='solve_ivp DOP853 solution')\n",
    "ax.plot(t, x_exact, '--', linewidth=3, color='black', label='Exact solution')\n",
    "ax.legend()\n",
    "ax.set_xlabel('Time (s)', fontsize=16)\n",
    "ax.set_ylabel('Distance from x=0 (m)', fontsize=16)\n",
    "ax.tick_params(axis='both', labelsize=14)\n",
    "ax.set_ylim([np.min(solution.y), np.max(solution.y)])"
   ]
  },
  {
   "cell_type": "markdown",
   "metadata": {},
   "source": []
  },
  {
   "cell_type": "code",
   "execution_count": null,
   "metadata": {},
   "outputs": [],
   "source": []
  }
 ],
 "metadata": {
  "interpreter": {
   "hash": "87df4c83b56fb8b58e6fe6434764317a79f3f72ebd797e1bfe209587b31ed721"
  },
  "kernelspec": {
   "display_name": "Python 3.9.7 64-bit ('.venv': poetry)",
   "language": "python",
   "name": "python3"
  },
  "language_info": {
   "codemirror_mode": {
    "name": "ipython",
    "version": 3
   },
   "file_extension": ".py",
   "mimetype": "text/x-python",
   "name": "python",
   "nbconvert_exporter": "python",
   "pygments_lexer": "ipython3",
   "version": "3.9.7"
  },
  "orig_nbformat": 4
 },
 "nbformat": 4,
 "nbformat_minor": 2
}
