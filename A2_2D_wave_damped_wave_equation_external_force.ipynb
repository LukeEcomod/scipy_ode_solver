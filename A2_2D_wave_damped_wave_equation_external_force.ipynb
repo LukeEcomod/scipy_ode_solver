{
 "cells": [
  {
   "cell_type": "code",
   "execution_count": 1,
   "metadata": {},
   "outputs": [],
   "source": [
    "import numpy as np\n",
    "import matplotlib.pyplot as plt\n",
    "from scipy.integrate import solve_ivp\n",
    "import ipywidgets as widgets\n",
    "%matplotlib widget"
   ]
  },
  {
   "cell_type": "markdown",
   "metadata": {},
   "source": [
    "# Modelled system\n",
    "\n",
    "The modelled system is a 2D wave equation with damping and an external force term\n",
    "\n",
    "$\\begin{align*}\n",
    "\\frac{\\partial^2 u}{\\partial t^2} +\\alpha \\frac{\\partial u}{\\partial t} - c^2(\\frac{\\partial^2 u}{\\partial x^2} + \\frac{\\partial^2 u}{\\partial y^2}) = B\n",
    "\\end{align*}$\n",
    "\n",
    "where $\\alpha \\frac{\\partial u}{\\partial t}$ is the damping term and $B$ is the external force term. $c$ is the speed that the wave propagates in the medium. We will solve this PDE using what we learned in [Notebook 2 (2nd order ODE)](./02_2nd_order_ode.ipynb) and [Notebook 3 (2D diffusion equation)](./03_2D_diff_equation_MOL.ipynb). Furthermore, we will use the same domain as in the Notebook 3 which is \n",
    "\n",
    "\\begin{align*}\n",
    "t &\\in [0, 100] \\\\\n",
    "\\{x,y\\} &\\in [0, 10]\n",
    "\\end{align*}\n",
    "\n",
    "and with the source term\n",
    "\n",
    "\\begin{align*}\n",
    "B &= 1 \\: (1 < t < 4) \\: (2.5 \\leq x \\leq 3.5) \\: (1.5 \\leq y \\leq 4.5) \\\\\n",
    "B &= 0 \\ (\\mathrm{otherwise})\n",
    "\\end{align*}\n",
    "\n",
    "and constants\n",
    "\n",
    "\\begin{align*}\n",
    "c &= 0.5 \\\\\n",
    "\\alpha &= 0.1\n",
    "\\end{align*}\n",
    "\n",
    "subject to Dirichlet boundary conditions\n",
    "\n",
    "\\begin{equation*}\n",
    "    u_{\\mathrm{boundary}} = 0\n",
    "\\end{equation*}"
   ]
  },
  {
   "cell_type": "markdown",
   "metadata": {},
   "source": [
    "## First let's define the spatial solution doman"
   ]
  },
  {
   "cell_type": "code",
   "execution_count": 104,
   "metadata": {},
   "outputs": [],
   "source": [
    "# Grid resolution and max length\n",
    "dx = 0.25\n",
    "dy = 0.25\n",
    "lx = 10\n",
    "ly = 10\n",
    "\n",
    "# Number of gridpoints\n",
    "Nx = int(lx/dx) + 1\n",
    "Ny = int(ly/dy) + 1\n",
    "\n",
    "# grid point vectors\n",
    "x = np.linspace(0,lx,Nx)\n",
    "y = np.linspace(0,ly,Ny)"
   ]
  },
  {
   "cell_type": "markdown",
   "metadata": {},
   "source": [
    "## Then let's transform the 2nd order PDE into a system of ODEs\n",
    "\n",
    "In [Notebook 2 (2nd order ODE)](./02_2nd_order_ode.ipynb) we solved a 2nd order ODE. Our initial ODE was just one equation but after transformation we had 2 equations. In [Notebook 3 (2D diffusion equation)](./03_2D_diff_equation_MOL.ipynb) we transformed a 1st order PDE into a system of ODEs. In that case the original PDE was transformed into $N_x \\cdot N_y$ ODEs where $N_x$ and $N_y$ where the number of discretized spatial domain points in x and y directions, respectively. \n",
    "\n",
    "Next we will do both transformation to our 2nd order PDE: we will modify it to set of first order ODEs in time and space which will yield $2(N_x \\cdot N_y)$ ODEs\n",
    "\n",
    "First let's transform the 2nd order PDE into a system of 1st order PDEs. Our initial 2nd order PDE looks like this\n",
    "\n",
    "\\begin{align*}\n",
    "\\frac{\\partial^2 u}{\\partial t^2} +\\alpha \\frac{\\partial u}{\\partial t} - c^2(\\frac{\\partial^2 u}{\\partial x^2} + \\frac{\\partial^2 u}{\\partial y^2}) = B\n",
    "\\end{align*}\n",
    "\n",
    "Now define \n",
    "\\begin{align*}\n",
    "y_1 &= u \\\\\n",
    "y_2 &= \\frac{\\partial u}{\\partial t}\n",
    "\\end{align*}\n",
    "\n",
    "which will yield\n",
    "\n",
    "\\begin{align*}\n",
    "\\frac{\\partial y_1}{\\partial t} &= y_2 \\\\\n",
    "\\frac{\\partial y_2}{\\partial t} &= -\\alpha y_2 + c^2(\\frac{\\partial^2 y_1}{\\partial x^2} + \\frac{\\partial^2 y_1}{\\partial y^2}) + B \\\\\n",
    "\\end{align*}\n",
    "\n",
    "Then let's discretize the PDE in the spatial domain using the finite difference method from [Notebook 3 (2D diffusion equation)](./03_2D_diff_equation_MOL.ipynb)\n",
    "\n",
    "\\begin{align*}\n",
    "\\frac{\\mathrm{d} y_1^{i,j}}{\\mathrm{d} t} &= y_2^{i,j} \\\\\n",
    "\\frac{\\mathrm{d} y_2^{i,j}}{\\mathrm{d} t} &= -\\alpha y_2 + c^2\\left(  \\frac{y_1^{i+1,j} - 2 y_1^{i, j} + y_1^{i-1, j}}{(\\Delta x)^2} +\\frac{y_1^{i,j+1} - 2y_1^{i, j} + y_1^{i,j-1}}{(\\Delta y)^2} \\right) + B\n",
    "\\end{align*}\n",
    "\n",
    "where the supscript (i,j) refers to ith x element and jth y element and i goes from $0 \\to N_x$ and j goes from $0 \\to N_y$\n",
    "\n"
   ]
  },
  {
   "cell_type": "markdown",
   "metadata": {},
   "source": [
    "## Next define the external force function to calculate B"
   ]
  },
  {
   "cell_type": "code",
   "execution_count": 107,
   "metadata": {},
   "outputs": [],
   "source": [
    "def external_force(x, y, t, B, Nx, Ny):\n",
    "    u = np.zeros((Nx, Ny))\n",
    "    if t < 4.0 and t > 1:\n",
    "        ind_x = np.where((x>= 2.5) & (x<=3.5))[0]\n",
    "        ind_y = np.where((y>=1.5) & (y<=4.5))[0]\n",
    "        for ix in ind_x:\n",
    "            for iy in ind_y:\n",
    "                u[ix,iy] = B\n",
    "    return u"
   ]
  },
  {
   "cell_type": "markdown",
   "metadata": {},
   "source": [
    "## Define the right hand side of the ODE system"
   ]
  },
  {
   "cell_type": "code",
   "execution_count": 106,
   "metadata": {},
   "outputs": [],
   "source": [
    "def odefun(u, t, B, a, c, x, y, dx, dy, Nx, Ny):\n",
    "    y1 = u[:Nx*Ny].reshape(Nx,Ny)\n",
    "    y2 = u[Nx*Ny:].reshape(Nx,Ny)\n",
    "    dy1dt = y2\n",
    "\n",
    "    f_ext = external_force(x, y, t, B, Nx, Ny)\n",
    "\n",
    "    dy2dt = np.zeros((Nx, Ny))\n",
    "\n",
    "    # First calculate only the c^2(u_xx + u_yy) term for dy2dt\n",
    "    dy2dt[1:-1, 1:-1] = c**2*((y1[2:, 1:-1] - 2*y1[1:-1, 1:-1] + y1[:-2,1:-1] ) / (dx)**2 + (y1[1:-1, 2:] - 2*y1[1:-1, 1:-1] + y1[1:-1,:-2]) / (dy)**2)\n",
    "    \n",
    "    # Then add the other terms to dy2dt\n",
    "    dy2dt = dy2dt - a*y2 + f_ext\n",
    "\n",
    "    dy1dt = dy1dt.reshape(Nx*Ny,)\n",
    "    dy2dt = dy2dt.reshape(Nx*Ny,)\n",
    "\n",
    "    return np.concatenate((dy1dt, dy2dt))"
   ]
  },
  {
   "cell_type": "markdown",
   "metadata": {},
   "source": [
    "## Define constants"
   ]
  },
  {
   "cell_type": "code",
   "execution_count": 91,
   "metadata": {},
   "outputs": [],
   "source": [
    "a = 0.1\n",
    "B = 1\n",
    "c = 0.5"
   ]
  },
  {
   "cell_type": "markdown",
   "metadata": {},
   "source": [
    "## Solve the system"
   ]
  },
  {
   "cell_type": "code",
   "execution_count": 111,
   "metadata": {},
   "outputs": [
    {
     "name": "stdout",
     "output_type": "stream",
     "text": [
      "(3362, 101)\n"
     ]
    }
   ],
   "source": [
    "u_start = np.zeros((2*Nx*Ny,))\n",
    "sol = solve_ivp(lambda t,u: odefun(u,t,B,a,c,x,y,dx,dy,Nx,Ny), (0, 100),u_start, t_eval=np.linspace(0,100, 101))\n",
    "print(sol.y.shape)"
   ]
  },
  {
   "cell_type": "markdown",
   "metadata": {},
   "source": [
    "## Visualize solution"
   ]
  },
  {
   "cell_type": "code",
   "execution_count": 112,
   "metadata": {},
   "outputs": [
    {
     "data": {
      "application/vnd.jupyter.widget-view+json": {
       "model_id": "b4649cc6a5124669903ff17a2ea36dff",
       "version_major": 2,
       "version_minor": 0
      },
      "text/plain": [
       "interactive(children=(IntSlider(value=0, description='Time'), Output()), _dom_classes=('widget-interact',))"
      ]
     },
     "metadata": {},
     "output_type": "display_data"
    },
    {
     "data": {
      "application/vnd.jupyter.widget-view+json": {
       "model_id": "6e6e46f2efae4b35a0e808f7ef5aaae3",
       "version_major": 2,
       "version_minor": 0
      },
      "text/html": [
       "\n",
       "            <div style=\"display: inline-block;\">\n",
       "                <div class=\"jupyter-widgets widget-label\" style=\"text-align: center;\">\n",
       "                    Figure\n",
       "                </div>\n",
       "                <img src='data:image/png;base64,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' width=1000.0/>\n",
       "            </div>\n",
       "        "
      ],
      "text/plain": [
       "Canvas(toolbar=Toolbar(toolitems=[('Home', 'Reset original view', 'home', 'home'), ('Back', 'Back to previous …"
      ]
     },
     "metadata": {},
     "output_type": "display_data"
    }
   ],
   "source": [
    "fig, ax = plt.subplots(figsize=(10, 5))\n",
    "img2 = ax.imshow(np.random.uniform(size=(10,10)), cmap='jet', vmin=0, vmax=5)\n",
    "cbar = fig.colorbar(img2)\n",
    "cbar.ax.set_ylabel('Displacement', rotation=270, labelpad=12, fontsize=14)\n",
    "cbar.ax.tick_params(axis='y', labelsize=14)\n",
    "\n",
    "def plot_solution(Time):\n",
    "    ax.clear()\n",
    "    ax.imshow(sol.y[:Nx*Ny, Time].reshape(Nx, Ny), interpolation='nearest',\n",
    "                    cmap='jet', origin='lower', extent=[0, lx, 0, ly], vmin=0, vmax=5)\n",
    "    ax.set_title(f'Time: {sol.t[Time]:.2f}', fontsize=16)\n",
    "    ax.tick_params(axis='both', labelsize=14)\n",
    "    # cbar.ax.yaxis.set_ticks_position('left')\n",
    "\n",
    "\n",
    "widgets.interactive(plot_solution, Time=widgets.IntSlider(min=0, max=(len(sol.t)-1), value=0))"
   ]
  }
 ],
 "metadata": {
  "interpreter": {
   "hash": "87df4c83b56fb8b58e6fe6434764317a79f3f72ebd797e1bfe209587b31ed721"
  },
  "kernelspec": {
   "display_name": "Python 3.9.7 ('.venv': poetry)",
   "language": "python",
   "name": "python3"
  },
  "language_info": {
   "codemirror_mode": {
    "name": "ipython",
    "version": 3
   },
   "file_extension": ".py",
   "mimetype": "text/x-python",
   "name": "python",
   "nbconvert_exporter": "python",
   "pygments_lexer": "ipython3",
   "version": "3.9.7"
  },
  "orig_nbformat": 4
 },
 "nbformat": 4,
 "nbformat_minor": 2
}
