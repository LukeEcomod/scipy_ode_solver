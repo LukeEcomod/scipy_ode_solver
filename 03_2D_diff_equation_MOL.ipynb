{
 "cells": [
  {
   "cell_type": "markdown",
   "metadata": {},
   "source": [
    "# SciPy solve_ivp example for solving 2D diffusion equation in a rectangular grid"
   ]
  },
  {
   "cell_type": "code",
   "execution_count": 1,
   "metadata": {},
   "outputs": [],
   "source": [
    "import numpy as np\n",
    "import matplotlib.pyplot as plt\n",
    "from scipy.integrate import solve_ivp\n",
    "import ipywidgets as widgets\n",
    "import matplotlib.ticker as mticker\n",
    "%matplotlib widget"
   ]
  },
  {
   "cell_type": "markdown",
   "metadata": {},
   "source": [
    "## Modelled system\n",
    "\n",
    "The modelled system is a rectangular surface of a pond. When a contaminant is spilled in the pond it will diffuse on the surface. The evolution of the contaminant concentration C is described by Fick's second law\n",
    "\n",
    "\\begin{align*}\n",
    "    \\frac{\\partial C}{\\partial t} &= D \\Delta C \\\\\n",
    "    &= D \\left( \\frac{\\partial^2 C}{\\partial x^2} + \\frac{\\partial^2 C}{\\partial y^2} \\right)\n",
    "\\end{align*}\n",
    "\n",
    "where D is the diffusion coefficient of the contaminant in water\n",
    "\n",
    "We well be using the [method of lines](http://hplgit.github.io/prog4comp/doc/pub/p4c-sphinx-Python/._pylight006.html#reduction-of-a-pde-to-a-system-of-odes) approach to transform the PDE into a system of ODEs. This is done by discretizing the spatial dimension.\n",
    "\n",
    "We will follow the central difference scheme in the above link. The change of concentration in an element i is\n",
    "\n",
    "\\begin{equation*}\n",
    "    \\frac{\\mathrm{d}C_{i,j}}{\\mathrm{d}t} = D\\left( \\frac{C(x_{i+1},t) - 2C(x,t) + C(x_{i-1},t)}{(\\Delta x)^2} +\\frac{C(y_{i+1},t) - 2C(y,t) + C(y_{i-1},t)}{(\\Delta y)^2} \\right)\n",
    "\\end{equation*}\n",
    "\n",
    "Finally, we need to decide what is the change of concentration at the boundaries of the rectangle (boundary conditions). For simplicity we will assume Dirichlet boundary condition and assume that the concentration at the boundary is \n",
    "\n",
    "\\begin{equation*}\n",
    "    C_{\\mathrm{boundary}} = C_0\n",
    "\\end{equation*}\n",
    "\n",
    "Now that we have discretized the equation we are left with $(N-2) \\cdot (M-2)$ ordinary differential equations of the form\n",
    "\n",
    "\\begin{align*}\n",
    "\\frac{\\mathrm{d}C_{1,1}}{\\mathrm{d}t} &= D\\left(  \\frac{C_{2,1} - 2C_{1, 1} + C_{0, 1}}{(\\Delta x)^2} +\\frac{C_{1,2} - 2C_{1, 1} + C_{1,0}}{(\\Delta y)^2} \\right) \\\\\n",
    "&\\;\\;\\vdots \\\\\n",
    "\\frac{\\mathrm{d}C_{N-1,M-1}}{\\mathrm{d}t} &= D\\left(  \\frac{C_{N,M-1} - 2C_{N-1, M-1} + C_{N-2, M}}{(\\Delta x)^2} +\\frac{C_{N-1,M} - 2C_{N-1, M-1} + C_{N-1, M-2}}{(\\Delta y)^2} \\right)\n",
    "\\end{align*}\n",
    "\n",
    "where N is the number of horizontal elements in the rectangular grid and M is the number of vertical elements. Note that in the last equations we have omitted the time subscript for simplicity. We do not need to consider the ODEs at the boundary since their concentration does not change due to the choice of the boundary conditions. If we would have needed Neumann type boundary conditions, it would have resulted to system of $(N+2) \\cdot (M+2)$ ODEs\n",
    "\n",
    "Next, we are going to solve this ODE system in domain\n",
    "\n",
    "\\begin{align*}\n",
    "t &\\in [0, 100] \\\\\n",
    "\\{x,y\\} &\\in [0, 10]\n",
    "\\end{align*}\n",
    "\n",
    "with initial conditions\n",
    "\n",
    "\\begin{align*}\n",
    "C_0 = 10^{-3} \\\\\n",
    "C_{4.5,4.5 - 5.5,5.5} = 1\n",
    "\\end{align*}\n",
    "\n",
    "and with the Dirichlet boundary condition specified above"
   ]
  },
  {
   "cell_type": "markdown",
   "metadata": {},
   "source": [
    "## Define parameters"
   ]
  },
  {
   "cell_type": "code",
   "execution_count": 12,
   "metadata": {},
   "outputs": [],
   "source": [
    "# Diffusion coefficient\n",
    "D = 1e-8\n",
    "\n",
    "# Grid resolution and max length\n",
    "dx = 0.25\n",
    "dy = 0.25\n",
    "lx = 10\n",
    "ly = 10\n",
    "\n",
    "# Number of gridpoints\n",
    "N_x = int(lx/dx) + 1\n",
    "N_y = int(ly/dy) + 1\n",
    "\n",
    "# grid point vectors\n",
    "x = np.linspace(0,lx,N_x)\n",
    "y = np.linspace(0,ly,N_y)\n",
    "\n",
    "# Concentration vector of the contaminant\n",
    "C = np.zeros((N_x,N_y)) + 1e-3\n",
    "\n",
    "# Select region between(4.5,4.5)(5.5,5.5)\n",
    "ind_x = np.where((x >= 4.5) & (x <=5.5))[0]\n",
    "ind_y = np.where((y >= 4.5) & (y <=5.5))[0]\n",
    "\n",
    "for ix in ind_x:\n",
    "    for iy in ind_y:\n",
    "        C[ix,iy] = 1\n"
   ]
  },
  {
   "cell_type": "markdown",
   "metadata": {},
   "source": [
    "## Define RHS function of the ode system"
   ]
  },
  {
   "cell_type": "code",
   "execution_count": 10,
   "metadata": {},
   "outputs": [],
   "source": [
    "def odefun(c, D, dx, dy):\n",
    "    dcdt = np.zeros(c.shape)\n",
    "    dcdt[1:-1, 1:-1] = D*((c[2:, 1:-1] - 2*c[1:-1, 1:-1] + c[:-2,1:-1] ) / (dx)**2 + c[1:-1, 2:] - 2*c[1:-1, 1:-1] + c[1:-1,:-2] ) / (dy)**2\n",
    "    return dcdt "
   ]
  },
  {
   "cell_type": "code",
   "execution_count": 13,
   "metadata": {},
   "outputs": [
    {
     "name": "stdout",
     "output_type": "stream",
     "text": [
      "-8.470329472543003e-21\n"
     ]
    }
   ],
   "source": [
    "t = odefun(C,D,dx,dy)\n",
    "print(np.sum(t))"
   ]
  },
  {
   "cell_type": "markdown",
   "metadata": {},
   "source": [
    "## Run solve_ivp"
   ]
  },
  {
   "cell_type": "code",
   "execution_count": 5,
   "metadata": {},
   "outputs": [
    {
     "ename": "ValueError",
     "evalue": "`y0` must be 1-dimensional.",
     "output_type": "error",
     "traceback": [
      "\u001b[0;31m---------------------------------------------------------------------------\u001b[0m",
      "\u001b[0;31mValueError\u001b[0m                                Traceback (most recent call last)",
      "\u001b[0;32m/var/folders/_7/7fgf24sd5ggbyr5x9kzrwz7c0000gn/T/ipykernel_4865/3006641636.py\u001b[0m in \u001b[0;36m<module>\u001b[0;34m\u001b[0m\n\u001b[0;32m----> 1\u001b[0;31m \u001b[0msol\u001b[0m \u001b[0;34m=\u001b[0m \u001b[0msolve_ivp\u001b[0m\u001b[0;34m(\u001b[0m\u001b[0;32mlambda\u001b[0m \u001b[0mt\u001b[0m\u001b[0;34m,\u001b[0m\u001b[0mc\u001b[0m\u001b[0;34m:\u001b[0m \u001b[0modefun\u001b[0m\u001b[0;34m(\u001b[0m\u001b[0mc\u001b[0m\u001b[0;34m,\u001b[0m\u001b[0mD\u001b[0m\u001b[0;34m,\u001b[0m\u001b[0mdx\u001b[0m\u001b[0;34m,\u001b[0m\u001b[0mdy\u001b[0m\u001b[0;34m)\u001b[0m\u001b[0;34m,\u001b[0m \u001b[0;34m(\u001b[0m\u001b[0;36m0\u001b[0m\u001b[0;34m,\u001b[0m \u001b[0;36m50\u001b[0m\u001b[0;34m)\u001b[0m\u001b[0;34m,\u001b[0m \u001b[0mC\u001b[0m\u001b[0;34m)\u001b[0m\u001b[0;34m\u001b[0m\u001b[0;34m\u001b[0m\u001b[0m\n\u001b[0m",
      "\u001b[0;32m~/scipy_ode_solver/.venv/lib/python3.9/site-packages/scipy/integrate/_ivp/ivp.py\u001b[0m in \u001b[0;36msolve_ivp\u001b[0;34m(fun, t_span, y0, method, t_eval, dense_output, events, vectorized, args, **options)\u001b[0m\n\u001b[1;32m    540\u001b[0m         \u001b[0mmethod\u001b[0m \u001b[0;34m=\u001b[0m \u001b[0mMETHODS\u001b[0m\u001b[0;34m[\u001b[0m\u001b[0mmethod\u001b[0m\u001b[0;34m]\u001b[0m\u001b[0;34m\u001b[0m\u001b[0;34m\u001b[0m\u001b[0m\n\u001b[1;32m    541\u001b[0m \u001b[0;34m\u001b[0m\u001b[0m\n\u001b[0;32m--> 542\u001b[0;31m     \u001b[0msolver\u001b[0m \u001b[0;34m=\u001b[0m \u001b[0mmethod\u001b[0m\u001b[0;34m(\u001b[0m\u001b[0mfun\u001b[0m\u001b[0;34m,\u001b[0m \u001b[0mt0\u001b[0m\u001b[0;34m,\u001b[0m \u001b[0my0\u001b[0m\u001b[0;34m,\u001b[0m \u001b[0mtf\u001b[0m\u001b[0;34m,\u001b[0m \u001b[0mvectorized\u001b[0m\u001b[0;34m=\u001b[0m\u001b[0mvectorized\u001b[0m\u001b[0;34m,\u001b[0m \u001b[0;34m**\u001b[0m\u001b[0moptions\u001b[0m\u001b[0;34m)\u001b[0m\u001b[0;34m\u001b[0m\u001b[0;34m\u001b[0m\u001b[0m\n\u001b[0m\u001b[1;32m    543\u001b[0m \u001b[0;34m\u001b[0m\u001b[0m\n\u001b[1;32m    544\u001b[0m     \u001b[0;32mif\u001b[0m \u001b[0mt_eval\u001b[0m \u001b[0;32mis\u001b[0m \u001b[0;32mNone\u001b[0m\u001b[0;34m:\u001b[0m\u001b[0;34m\u001b[0m\u001b[0;34m\u001b[0m\u001b[0m\n",
      "\u001b[0;32m~/scipy_ode_solver/.venv/lib/python3.9/site-packages/scipy/integrate/_ivp/rk.py\u001b[0m in \u001b[0;36m__init__\u001b[0;34m(self, fun, t0, y0, t_bound, max_step, rtol, atol, vectorized, first_step, **extraneous)\u001b[0m\n\u001b[1;32m     87\u001b[0m                  first_step=None, **extraneous):\n\u001b[1;32m     88\u001b[0m         \u001b[0mwarn_extraneous\u001b[0m\u001b[0;34m(\u001b[0m\u001b[0mextraneous\u001b[0m\u001b[0;34m)\u001b[0m\u001b[0;34m\u001b[0m\u001b[0;34m\u001b[0m\u001b[0m\n\u001b[0;32m---> 89\u001b[0;31m         super().__init__(fun, t0, y0, t_bound, vectorized,\n\u001b[0m\u001b[1;32m     90\u001b[0m                          support_complex=True)\n\u001b[1;32m     91\u001b[0m         \u001b[0mself\u001b[0m\u001b[0;34m.\u001b[0m\u001b[0my_old\u001b[0m \u001b[0;34m=\u001b[0m \u001b[0;32mNone\u001b[0m\u001b[0;34m\u001b[0m\u001b[0;34m\u001b[0m\u001b[0m\n",
      "\u001b[0;32m~/scipy_ode_solver/.venv/lib/python3.9/site-packages/scipy/integrate/_ivp/base.py\u001b[0m in \u001b[0;36m__init__\u001b[0;34m(self, fun, t0, y0, t_bound, vectorized, support_complex)\u001b[0m\n\u001b[1;32m    117\u001b[0m         \u001b[0mself\u001b[0m\u001b[0;34m.\u001b[0m\u001b[0mt_old\u001b[0m \u001b[0;34m=\u001b[0m \u001b[0;32mNone\u001b[0m\u001b[0;34m\u001b[0m\u001b[0;34m\u001b[0m\u001b[0m\n\u001b[1;32m    118\u001b[0m         \u001b[0mself\u001b[0m\u001b[0;34m.\u001b[0m\u001b[0mt\u001b[0m \u001b[0;34m=\u001b[0m \u001b[0mt0\u001b[0m\u001b[0;34m\u001b[0m\u001b[0;34m\u001b[0m\u001b[0m\n\u001b[0;32m--> 119\u001b[0;31m         \u001b[0mself\u001b[0m\u001b[0;34m.\u001b[0m\u001b[0m_fun\u001b[0m\u001b[0;34m,\u001b[0m \u001b[0mself\u001b[0m\u001b[0;34m.\u001b[0m\u001b[0my\u001b[0m \u001b[0;34m=\u001b[0m \u001b[0mcheck_arguments\u001b[0m\u001b[0;34m(\u001b[0m\u001b[0mfun\u001b[0m\u001b[0;34m,\u001b[0m \u001b[0my0\u001b[0m\u001b[0;34m,\u001b[0m \u001b[0msupport_complex\u001b[0m\u001b[0;34m)\u001b[0m\u001b[0;34m\u001b[0m\u001b[0;34m\u001b[0m\u001b[0m\n\u001b[0m\u001b[1;32m    120\u001b[0m         \u001b[0mself\u001b[0m\u001b[0;34m.\u001b[0m\u001b[0mt_bound\u001b[0m \u001b[0;34m=\u001b[0m \u001b[0mt_bound\u001b[0m\u001b[0;34m\u001b[0m\u001b[0;34m\u001b[0m\u001b[0m\n\u001b[1;32m    121\u001b[0m         \u001b[0mself\u001b[0m\u001b[0;34m.\u001b[0m\u001b[0mvectorized\u001b[0m \u001b[0;34m=\u001b[0m \u001b[0mvectorized\u001b[0m\u001b[0;34m\u001b[0m\u001b[0;34m\u001b[0m\u001b[0m\n",
      "\u001b[0;32m~/scipy_ode_solver/.venv/lib/python3.9/site-packages/scipy/integrate/_ivp/base.py\u001b[0m in \u001b[0;36mcheck_arguments\u001b[0;34m(fun, y0, support_complex)\u001b[0m\n\u001b[1;32m     15\u001b[0m \u001b[0;34m\u001b[0m\u001b[0m\n\u001b[1;32m     16\u001b[0m     \u001b[0;32mif\u001b[0m \u001b[0my0\u001b[0m\u001b[0;34m.\u001b[0m\u001b[0mndim\u001b[0m \u001b[0;34m!=\u001b[0m \u001b[0;36m1\u001b[0m\u001b[0;34m:\u001b[0m\u001b[0;34m\u001b[0m\u001b[0;34m\u001b[0m\u001b[0m\n\u001b[0;32m---> 17\u001b[0;31m         \u001b[0;32mraise\u001b[0m \u001b[0mValueError\u001b[0m\u001b[0;34m(\u001b[0m\u001b[0;34m\"`y0` must be 1-dimensional.\"\u001b[0m\u001b[0;34m)\u001b[0m\u001b[0;34m\u001b[0m\u001b[0;34m\u001b[0m\u001b[0m\n\u001b[0m\u001b[1;32m     18\u001b[0m \u001b[0;34m\u001b[0m\u001b[0m\n\u001b[1;32m     19\u001b[0m     \u001b[0;32mdef\u001b[0m \u001b[0mfun_wrapped\u001b[0m\u001b[0;34m(\u001b[0m\u001b[0mt\u001b[0m\u001b[0;34m,\u001b[0m \u001b[0my\u001b[0m\u001b[0;34m)\u001b[0m\u001b[0;34m:\u001b[0m\u001b[0;34m\u001b[0m\u001b[0;34m\u001b[0m\u001b[0m\n",
      "\u001b[0;31mValueError\u001b[0m: `y0` must be 1-dimensional."
     ]
    }
   ],
   "source": [
    "sol = solve_ivp(lambda t,c: odefun(c,D,dx,dy), (0, 50), C)"
   ]
  },
  {
   "cell_type": "markdown",
   "metadata": {},
   "source": [
    "### What happened?\n",
    "\n",
    "We ran into error ```ValueError: `y0` must be 1-dimensional.```. The error is due to the fact that our matrix C is 2-dimensional but for historical reasons the solvers operate with one dimensional arrays. The reasons for this behaviour are historical and ode solvers behave the same way in many other languages besides Python. We need to reshape our initial condition matrix C into a 1-dimensional array and because the odefun must return a matrix that has the same shape as C we need to also modify the odefun"
   ]
  },
  {
   "cell_type": "code",
   "execution_count": 6,
   "metadata": {},
   "outputs": [],
   "source": [
    "def odefun(c, D, dx, dy, Nx, Ny):\n",
    "    conc = c.reshape(Nx,Ny)\n",
    "    dcdt = np.zeros(conc.shape)\n",
    "    dcdt[1:-1, 1:-1] = D*((conc[2:, 1:-1] - 2*conc[1:-1, 1:-1] + conc[:-2,1:-1] ) / (dx)**2 + (conc[1:-1, 2:] - 2*conc[1:-1, 1:-1] + conc[1:-1,:-2] ) / (dy)**2)\n",
    "    return dcdt.reshape(Nx*Ny,)\n",
    "C = C.reshape(N_x*N_y,)"
   ]
  },
  {
   "cell_type": "code",
   "execution_count": 7,
   "metadata": {},
   "outputs": [
    {
     "data": {
      "text/plain": [
       "(1681, 501)"
      ]
     },
     "execution_count": 7,
     "metadata": {},
     "output_type": "execute_result"
    }
   ],
   "source": [
    "sol = solve_ivp(lambda t,c: odefun(c,1e-1,dx,dy, N_x, N_y), (0, 50), C, t_eval=np.linspace(0,50, 501))\n",
    "sol.y.shape"
   ]
  },
  {
   "cell_type": "markdown",
   "metadata": {},
   "source": [
    "## Visualize solution"
   ]
  },
  {
   "cell_type": "code",
   "execution_count": 8,
   "metadata": {},
   "outputs": [
    {
     "data": {
      "application/vnd.jupyter.widget-view+json": {
       "model_id": "c647b26844724fa2a0fa9815bd28e745",
       "version_major": 2,
       "version_minor": 0
      },
      "text/plain": [
       "interactive(children=(IntSlider(value=1, description='Time', max=500, min=1), Output()), _dom_classes=('widget…"
      ]
     },
     "metadata": {},
     "output_type": "display_data"
    },
    {
     "data": {
      "application/vnd.jupyter.widget-view+json": {
       "model_id": "a0c465988e134f40a4abd786899566bc",
       "version_major": 2,
       "version_minor": 0
      },
      "text/html": [
       "\n",
       "            <div style=\"display: inline-block;\">\n",
       "                <div class=\"jupyter-widgets widget-label\" style=\"text-align: center;\">\n",
       "                    Figure\n",
       "                </div>\n",
       "                <img src='data:image/png;base64,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' width=1000.0/>\n",
       "            </div>\n",
       "        "
      ],
      "text/plain": [
       "Canvas(toolbar=Toolbar(toolitems=[('Home', 'Reset original view', 'home', 'home'), ('Back', 'Back to previous …"
      ]
     },
     "metadata": {},
     "output_type": "display_data"
    }
   ],
   "source": [
    "fig, ax = plt.subplots(figsize=(10, 5))\n",
    "img2 = ax.imshow(np.random.uniform(size=(10,10)), vmin=-3, vmax=0.5, cmap='jet')\n",
    "cbar = fig.colorbar(img2)\n",
    "cbar.ax.set_ylabel('Contaminant concentration', rotation=270, labelpad=12, fontsize=14)\n",
    "cbar.ax.set_yticks([-3, -2, -1, 0])\n",
    "cbar.ax.set_yticklabels([0.001, 0.01, 0.1, 1])\n",
    "cbar.ax.tick_params(axis='y', labelsize=14)\n",
    "\n",
    "\n",
    "def plot_solution(Time):\n",
    "    ax.clear()\n",
    "    ax.imshow(np.log10(sol.y[:, Time].reshape(N_x, N_y)), interpolation='nearest',\n",
    "                    cmap='jet', vmin=-3, vmax=0.5, origin='lower', extent=[0, lx, 0, ly])\n",
    "    ax.set_title(f'Time: {sol.t[Time]:.2f}', fontsize=16)\n",
    "    ax.tick_params(axis='both', labelsize=14)\n",
    "    # cbar.ax.yaxis.set_ticks_position('left')\n",
    "\n",
    "\n",
    "widgets.interactive(plot_solution, Time=widgets.IntSlider(min=1, max=(len(sol.t)-1), value=0))\n"
   ]
  },
  {
   "cell_type": "code",
   "execution_count": null,
   "metadata": {},
   "outputs": [],
   "source": [
    "plt.close('all')"
   ]
  }
 ],
 "metadata": {
  "interpreter": {
   "hash": "87df4c83b56fb8b58e6fe6434764317a79f3f72ebd797e1bfe209587b31ed721"
  },
  "kernelspec": {
   "display_name": "Python 3.9.7 64-bit ('.venv': poetry)",
   "language": "python",
   "name": "python3"
  },
  "language_info": {
   "codemirror_mode": {
    "name": "ipython",
    "version": 3
   },
   "file_extension": ".py",
   "mimetype": "text/x-python",
   "name": "python",
   "nbconvert_exporter": "python",
   "pygments_lexer": "ipython3",
   "version": "3.9.7"
  },
  "orig_nbformat": 4
 },
 "nbformat": 4,
 "nbformat_minor": 2
}
