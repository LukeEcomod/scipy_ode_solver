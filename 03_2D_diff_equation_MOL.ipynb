{
 "cells": [
  {
   "cell_type": "markdown",
   "metadata": {},
   "source": [
    "# SciPy solve_ivp example for solving 2D diffusion equation in a rectangular grid"
   ]
  },
  {
   "cell_type": "code",
   "execution_count": 137,
   "metadata": {},
   "outputs": [],
   "source": [
    "import numpy as np\n",
    "import matplotlib.pyplot as plt\n",
    "from scipy.integrate import solve_ivp\n",
    "import ipywidgets as widgets\n",
    "import matplotlib.ticker as mticker\n",
    "%matplotlib widget"
   ]
  },
  {
   "cell_type": "markdown",
   "metadata": {},
   "source": [
    "## Modelled system\n",
    "\n",
    "The modelled system is a rectangular surface of a pond. When a contaminant is spilled in the pond it will diffuse on the surface. The evolution of the contaminant concentration C is described by Fick's second law\n",
    "\n",
    "\\begin{align*}\n",
    "    \\frac{\\partial C}{\\partial t} &= D \\Delta C \\\\\n",
    "    &= D \\left( \\frac{\\partial^2 C}{\\partial x^2} + \\frac{\\partial^2 C}{\\partial y^2} \\right)\n",
    "\\end{align*}\n",
    "\n",
    "where D is the diffusion coefficient of the contaminant in water\n",
    "\n",
    "We well be using the [method of lines](http://hplgit.github.io/prog4comp/doc/pub/p4c-sphinx-Python/._pylight006.html#reduction-of-a-pde-to-a-system-of-odes) approach to transform the PDE into a system of ODEs. This is done by discretizing the spatial dimension.\n",
    "\n",
    "We will follow the central difference scheme in the above link. The change of concentration in an element i is\n",
    "\n",
    "\\begin{equation*}\n",
    "    \\frac{\\mathrm{d}C_{i,j}}{\\mathrm{d}t} = D\\left( \\frac{C(x_{i+1},t) - 2C(x,t) + C(x_{i-1},t)}{(\\Delta x)^2} +\\frac{C(y_{i+1},t) - 2C(y,t) + C(y_{i-1},t)}{(\\Delta y)^2} \\right)\n",
    "\\end{equation*}\n",
    "\n",
    "Finally, we need to decide what is the change of concentration at the boundaries of the rectangle (boundary conditions). For simplicity we will assume Dirichlet boundary condition and assume that the concentration at the boundary is \n",
    "\n",
    "\\begin{equation*}\n",
    "    C_{\\mathrm{boundary}} = C_0\n",
    "\\end{equation*}\n",
    "\n",
    "Now that we have discretized the equation we are left with $(N-2) \\cdot (M-2)$ ordinary differential equations of the form\n",
    "\n",
    "\\begin{align*}\n",
    "\\frac{\\mathrm{d}C_{1,1}}{\\mathrm{d}t} &= D\\left(  \\frac{C_{2,1} - 2C_{1, 1} + C_{0, 1}}{(\\Delta x)^2} +\\frac{C_{1,2} - 2C_{1, 1} + C_{1,0}}{(\\Delta y)^2} \\right) \\\\\n",
    "&\\;\\;\\vdots \\\\\n",
    "\\frac{\\mathrm{d}C_{N-1,M-1}}{\\mathrm{d}t} &= D\\left(  \\frac{C_{N,M-1} - 2C_{N-1, M-1} + C_{N-2, M}}{(\\Delta x)^2} +\\frac{C_{N-1,M} - 2C_{N-1, M-1} + C_{N-1, M-2}}{(\\Delta y)^2} \\right)\n",
    "\\end{align*}\n",
    "\n",
    "where N is the number of horizontal elements in the rectangular grid and M is the number of vertical elements. Note that in the last equations we have omitted the time subscript for simplicity. We do not need to consider the ODEs at the boundary since their concentration does not change due to the choice of the boundary conditions. If we would have needed Neumann type boundary conditions, it would have resulted to system of $(N+2) \\cdot (M+2)$ ODEs\n",
    "\n",
    "Next, we are going to solve this ODE system in domain\n",
    "\n",
    "\\begin{align*}\n",
    "t &\\in [0, 100] \\\\\n",
    "\\{x,y\\} &\\in [0, 10]\n",
    "\\end{align*}\n",
    "\n",
    "with initial conditions\n",
    "\n",
    "\\begin{align*}\n",
    "C_0 = 10^{-3} \\\\\n",
    "C_{4.5,4.5 - 5.5,5.5} = 1\n",
    "\\end{align*}\n",
    "\n",
    "and with the Dirichlet boundary condition specified above"
   ]
  },
  {
   "cell_type": "markdown",
   "metadata": {},
   "source": [
    "## Define parameters"
   ]
  },
  {
   "cell_type": "code",
   "execution_count": 115,
   "metadata": {},
   "outputs": [],
   "source": [
    "# Diffusion coefficient\n",
    "D = 1e-8\n",
    "\n",
    "# Grid resolution and max length\n",
    "dx = 0.25\n",
    "dy = 0.25\n",
    "lx = 10\n",
    "ly = 10\n",
    "\n",
    "# Number of gridpoints\n",
    "N_x = int(lx/dx) + 1\n",
    "N_y = int(ly/dy) + 1\n",
    "\n",
    "# grid point vectors\n",
    "x = np.linspace(0,lx,N_x)\n",
    "y = np.linspace(0,ly,N_y)\n",
    "\n",
    "# Concentration vector of the contaminant\n",
    "C = np.zeros((N_x,N_y)) + 1e-3\n",
    "\n",
    "# Select region between(4.5,4.5)(5.5,5.5)\n",
    "ind_x = np.where((x >= 4.5) & (x <=5.5))[0]\n",
    "ind_y = np.where((y >= 4.5) & (y <=5.5))[0]\n",
    "\n",
    "for ix in ind_x:\n",
    "    for iy in ind_y:\n",
    "        C[ix,iy] = 1\n"
   ]
  },
  {
   "cell_type": "markdown",
   "metadata": {},
   "source": [
    "## Define RHS function of the ode system"
   ]
  },
  {
   "cell_type": "code",
   "execution_count": 72,
   "metadata": {},
   "outputs": [],
   "source": [
    "def odefun(c, D, dx, dy):\n",
    "    dcdt = np.zeros(c.shape)\n",
    "    dcdt[1:-1, 1:-1] = D*((c[2:, 1:-1] - 2*c[1:-1, 1:-1] + c[:-2,1:-1] ) / (dx)**2 + c[1:-1, 2:] - 2*c[1:-1, 1:-1] + c[1:-1,:-2] ) / (dy)**2\n",
    "    return dcdt "
   ]
  },
  {
   "cell_type": "code",
   "execution_count": 78,
   "metadata": {},
   "outputs": [
    {
     "name": "stdout",
     "output_type": "stream",
     "text": [
      "-9.926167350636332e-24\n"
     ]
    }
   ],
   "source": [
    "t = odefun(C,D,dx,dy)\n",
    "print(np.sum(t))"
   ]
  },
  {
   "cell_type": "markdown",
   "metadata": {},
   "source": [
    "## Run solve_ivp"
   ]
  },
  {
   "cell_type": "code",
   "execution_count": 77,
   "metadata": {},
   "outputs": [
    {
     "ename": "ValueError",
     "evalue": "`y0` must be 1-dimensional.",
     "output_type": "error",
     "traceback": [
      "\u001b[0;31m---------------------------------------------------------------------------\u001b[0m",
      "\u001b[0;31mValueError\u001b[0m                                Traceback (most recent call last)",
      "\u001b[0;32m/var/folders/_7/7fgf24sd5ggbyr5x9kzrwz7c0000gn/T/ipykernel_1680/1452472691.py\u001b[0m in \u001b[0;36m<module>\u001b[0;34m\u001b[0m\n\u001b[0;32m----> 1\u001b[0;31m \u001b[0msol\u001b[0m \u001b[0;34m=\u001b[0m \u001b[0msolve_ivp\u001b[0m\u001b[0;34m(\u001b[0m\u001b[0;32mlambda\u001b[0m \u001b[0mt\u001b[0m\u001b[0;34m,\u001b[0m\u001b[0mc\u001b[0m\u001b[0;34m:\u001b[0m \u001b[0modefun\u001b[0m\u001b[0;34m(\u001b[0m\u001b[0mc\u001b[0m\u001b[0;34m,\u001b[0m\u001b[0mD\u001b[0m\u001b[0;34m,\u001b[0m\u001b[0mdx\u001b[0m\u001b[0;34m,\u001b[0m\u001b[0mdy\u001b[0m\u001b[0;34m)\u001b[0m\u001b[0;34m,\u001b[0m \u001b[0;34m(\u001b[0m\u001b[0;36m0\u001b[0m\u001b[0;34m,\u001b[0m \u001b[0;36m50\u001b[0m\u001b[0;34m)\u001b[0m\u001b[0;34m,\u001b[0m \u001b[0mC\u001b[0m\u001b[0;34m,\u001b[0m \u001b[0mmethod\u001b[0m\u001b[0;34m=\u001b[0m\u001b[0;34m'BDF'\u001b[0m\u001b[0;34m)\u001b[0m\u001b[0;34m\u001b[0m\u001b[0;34m\u001b[0m\u001b[0m\n\u001b[0m",
      "\u001b[0;32m~/scipy_ode_solver/.venv/lib/python3.9/site-packages/scipy/integrate/_ivp/ivp.py\u001b[0m in \u001b[0;36msolve_ivp\u001b[0;34m(fun, t_span, y0, method, t_eval, dense_output, events, vectorized, args, **options)\u001b[0m\n\u001b[1;32m    540\u001b[0m         \u001b[0mmethod\u001b[0m \u001b[0;34m=\u001b[0m \u001b[0mMETHODS\u001b[0m\u001b[0;34m[\u001b[0m\u001b[0mmethod\u001b[0m\u001b[0;34m]\u001b[0m\u001b[0;34m\u001b[0m\u001b[0;34m\u001b[0m\u001b[0m\n\u001b[1;32m    541\u001b[0m \u001b[0;34m\u001b[0m\u001b[0m\n\u001b[0;32m--> 542\u001b[0;31m     \u001b[0msolver\u001b[0m \u001b[0;34m=\u001b[0m \u001b[0mmethod\u001b[0m\u001b[0;34m(\u001b[0m\u001b[0mfun\u001b[0m\u001b[0;34m,\u001b[0m \u001b[0mt0\u001b[0m\u001b[0;34m,\u001b[0m \u001b[0my0\u001b[0m\u001b[0;34m,\u001b[0m \u001b[0mtf\u001b[0m\u001b[0;34m,\u001b[0m \u001b[0mvectorized\u001b[0m\u001b[0;34m=\u001b[0m\u001b[0mvectorized\u001b[0m\u001b[0;34m,\u001b[0m \u001b[0;34m**\u001b[0m\u001b[0moptions\u001b[0m\u001b[0;34m)\u001b[0m\u001b[0;34m\u001b[0m\u001b[0;34m\u001b[0m\u001b[0m\n\u001b[0m\u001b[1;32m    543\u001b[0m \u001b[0;34m\u001b[0m\u001b[0m\n\u001b[1;32m    544\u001b[0m     \u001b[0;32mif\u001b[0m \u001b[0mt_eval\u001b[0m \u001b[0;32mis\u001b[0m \u001b[0;32mNone\u001b[0m\u001b[0;34m:\u001b[0m\u001b[0;34m\u001b[0m\u001b[0;34m\u001b[0m\u001b[0m\n",
      "\u001b[0;32m~/scipy_ode_solver/.venv/lib/python3.9/site-packages/scipy/integrate/_ivp/bdf.py\u001b[0m in \u001b[0;36m__init__\u001b[0;34m(self, fun, t0, y0, t_bound, max_step, rtol, atol, jac, jac_sparsity, vectorized, first_step, **extraneous)\u001b[0m\n\u001b[1;32m    186\u001b[0m                  vectorized=False, first_step=None, **extraneous):\n\u001b[1;32m    187\u001b[0m         \u001b[0mwarn_extraneous\u001b[0m\u001b[0;34m(\u001b[0m\u001b[0mextraneous\u001b[0m\u001b[0;34m)\u001b[0m\u001b[0;34m\u001b[0m\u001b[0;34m\u001b[0m\u001b[0m\n\u001b[0;32m--> 188\u001b[0;31m         super().__init__(fun, t0, y0, t_bound, vectorized,\n\u001b[0m\u001b[1;32m    189\u001b[0m                          support_complex=True)\n\u001b[1;32m    190\u001b[0m         \u001b[0mself\u001b[0m\u001b[0;34m.\u001b[0m\u001b[0mmax_step\u001b[0m \u001b[0;34m=\u001b[0m \u001b[0mvalidate_max_step\u001b[0m\u001b[0;34m(\u001b[0m\u001b[0mmax_step\u001b[0m\u001b[0;34m)\u001b[0m\u001b[0;34m\u001b[0m\u001b[0;34m\u001b[0m\u001b[0m\n",
      "\u001b[0;32m~/scipy_ode_solver/.venv/lib/python3.9/site-packages/scipy/integrate/_ivp/base.py\u001b[0m in \u001b[0;36m__init__\u001b[0;34m(self, fun, t0, y0, t_bound, vectorized, support_complex)\u001b[0m\n\u001b[1;32m    117\u001b[0m         \u001b[0mself\u001b[0m\u001b[0;34m.\u001b[0m\u001b[0mt_old\u001b[0m \u001b[0;34m=\u001b[0m \u001b[0;32mNone\u001b[0m\u001b[0;34m\u001b[0m\u001b[0;34m\u001b[0m\u001b[0m\n\u001b[1;32m    118\u001b[0m         \u001b[0mself\u001b[0m\u001b[0;34m.\u001b[0m\u001b[0mt\u001b[0m \u001b[0;34m=\u001b[0m \u001b[0mt0\u001b[0m\u001b[0;34m\u001b[0m\u001b[0;34m\u001b[0m\u001b[0m\n\u001b[0;32m--> 119\u001b[0;31m         \u001b[0mself\u001b[0m\u001b[0;34m.\u001b[0m\u001b[0m_fun\u001b[0m\u001b[0;34m,\u001b[0m \u001b[0mself\u001b[0m\u001b[0;34m.\u001b[0m\u001b[0my\u001b[0m \u001b[0;34m=\u001b[0m \u001b[0mcheck_arguments\u001b[0m\u001b[0;34m(\u001b[0m\u001b[0mfun\u001b[0m\u001b[0;34m,\u001b[0m \u001b[0my0\u001b[0m\u001b[0;34m,\u001b[0m \u001b[0msupport_complex\u001b[0m\u001b[0;34m)\u001b[0m\u001b[0;34m\u001b[0m\u001b[0;34m\u001b[0m\u001b[0m\n\u001b[0m\u001b[1;32m    120\u001b[0m         \u001b[0mself\u001b[0m\u001b[0;34m.\u001b[0m\u001b[0mt_bound\u001b[0m \u001b[0;34m=\u001b[0m \u001b[0mt_bound\u001b[0m\u001b[0;34m\u001b[0m\u001b[0;34m\u001b[0m\u001b[0m\n\u001b[1;32m    121\u001b[0m         \u001b[0mself\u001b[0m\u001b[0;34m.\u001b[0m\u001b[0mvectorized\u001b[0m \u001b[0;34m=\u001b[0m \u001b[0mvectorized\u001b[0m\u001b[0;34m\u001b[0m\u001b[0;34m\u001b[0m\u001b[0m\n",
      "\u001b[0;32m~/scipy_ode_solver/.venv/lib/python3.9/site-packages/scipy/integrate/_ivp/base.py\u001b[0m in \u001b[0;36mcheck_arguments\u001b[0;34m(fun, y0, support_complex)\u001b[0m\n\u001b[1;32m     15\u001b[0m \u001b[0;34m\u001b[0m\u001b[0m\n\u001b[1;32m     16\u001b[0m     \u001b[0;32mif\u001b[0m \u001b[0my0\u001b[0m\u001b[0;34m.\u001b[0m\u001b[0mndim\u001b[0m \u001b[0;34m!=\u001b[0m \u001b[0;36m1\u001b[0m\u001b[0;34m:\u001b[0m\u001b[0;34m\u001b[0m\u001b[0;34m\u001b[0m\u001b[0m\n\u001b[0;32m---> 17\u001b[0;31m         \u001b[0;32mraise\u001b[0m \u001b[0mValueError\u001b[0m\u001b[0;34m(\u001b[0m\u001b[0;34m\"`y0` must be 1-dimensional.\"\u001b[0m\u001b[0;34m)\u001b[0m\u001b[0;34m\u001b[0m\u001b[0;34m\u001b[0m\u001b[0m\n\u001b[0m\u001b[1;32m     18\u001b[0m \u001b[0;34m\u001b[0m\u001b[0m\n\u001b[1;32m     19\u001b[0m     \u001b[0;32mdef\u001b[0m \u001b[0mfun_wrapped\u001b[0m\u001b[0;34m(\u001b[0m\u001b[0mt\u001b[0m\u001b[0;34m,\u001b[0m \u001b[0my\u001b[0m\u001b[0;34m)\u001b[0m\u001b[0;34m:\u001b[0m\u001b[0;34m\u001b[0m\u001b[0;34m\u001b[0m\u001b[0m\n",
      "\u001b[0;31mValueError\u001b[0m: `y0` must be 1-dimensional."
     ]
    }
   ],
   "source": [
    "sol = solve_ivp(lambda t,c: odefun(c,D,dx,dy), (0, 50), C)"
   ]
  },
  {
   "cell_type": "markdown",
   "metadata": {},
   "source": [
    "### What happened?\n",
    "\n",
    "We ran into error ```ValueError: `y0` must be 1-dimensional.```. The error is due to the fact that our matrix C is 2-dimensional but for historical reasons related to how the solvers are programmed the ode solvers in Python and many other languages operate with one dimensional arrays. We need to reshape our initial condition matrix C into a 1-dimensional array and because the odefun must return a matrix that has the same shape as C we need to also modify the odefun"
   ]
  },
  {
   "cell_type": "code",
   "execution_count": 128,
   "metadata": {},
   "outputs": [],
   "source": [
    "def odefun(c, D, dx, dy, Nx, Ny):\n",
    "    conc = c.reshape(Nx,Ny)\n",
    "    dcdt = np.zeros(conc.shape)\n",
    "    dcdt[1:-1, 1:-1] = D*((conc[2:, 1:-1] - 2*conc[1:-1, 1:-1] + conc[:-2,1:-1] ) / (dx)**2 + (conc[1:-1, 2:] - 2*conc[1:-1, 1:-1] + conc[1:-1,:-2] ) / (dy)**2)\n",
    "    return dcdt.reshape(Nx*Ny,)\n",
    "C = C.reshape(N_x*N_y,)"
   ]
  },
  {
   "cell_type": "code",
   "execution_count": 201,
   "metadata": {},
   "outputs": [
    {
     "data": {
      "text/plain": [
       "(1681, 501)"
      ]
     },
     "execution_count": 201,
     "metadata": {},
     "output_type": "execute_result"
    }
   ],
   "source": [
    "sol = solve_ivp(lambda t,c: odefun(c,1e-1,dx,dy, N_x, N_y), (0, 50), C, t_eval=np.linspace(0,50, 501))\n",
    "sol.y.shape"
   ]
  },
  {
   "cell_type": "markdown",
   "metadata": {},
   "source": [
    "## Visualize solution"
   ]
  },
  {
   "cell_type": "code",
   "execution_count": 212,
   "metadata": {},
   "outputs": [
    {
     "data": {
      "application/vnd.jupyter.widget-view+json": {
       "model_id": "200eb13b4e40494e802b756389233b31",
       "version_major": 2,
       "version_minor": 0
      },
      "text/plain": [
       "interactive(children=(IntSlider(value=1, description='Time', max=500, min=1), Output()), _dom_classes=('widget…"
      ]
     },
     "metadata": {},
     "output_type": "display_data"
    },
    {
     "data": {
      "application/vnd.jupyter.widget-view+json": {
       "model_id": "3b16d4f8e8944849b4412a764171337f",
       "version_major": 2,
       "version_minor": 0
      },
      "text/html": [
       "\n",
       "            <div style=\"display: inline-block;\">\n",
       "                <div class=\"jupyter-widgets widget-label\" style=\"text-align: center;\">\n",
       "                    Figure\n",
       "                </div>\n",
       "                <img src='data:image/png;base64,iVBORw0KGgoAAAANSUhEUgAAA+gAAAH0CAYAAACuKActAAAAOXRFWHRTb2Z0d2FyZQBNYXRwbG90bGliIHZlcnNpb24zLjUuMCwgaHR0cHM6Ly9tYXRwbG90bGliLm9yZy8/fFQqAAAACXBIWXMAAA9hAAAPYQGoP6dpAABXhElEQVR4nO3deVyVZf7/8fcBBBEEcgULQdS0sjITwyU3TGfKXMZpXCrEMlumTW3Tb+bSopaa02ymlNBmVpY2zS+3RMndQhudylAEMZcykyOOsp7fH45nPAF67s5y3+Dr+Xjcj4fc13Wu8zmnx+nw5rru67Y5HA6HAAAAAACAqQLMLgAAAAAAABDQAQAAAACwBAI6AAAAAAAWQEAHAAAAAMACCOgAAAAAAFgAAR0AAAAAAAsgoAMAAAAAYAEEdAAAAAAALICADgAAAACABRDQAQAAAACwAAI6AAAAAAAWQEAHAAAAAMACCOgAAAAAAFgAAR0AAAAAAAsgoAMAAAAAYAEEdAAAAAAALICADgAAAACABRDQAQAAAACwAAI6AAAAAAAWQEAHAAAAAMACCOgAAAAAAFgAAR0AAAAAAAsgoAMAAAAAYAEEdAAAAAAALICADgAAAACABRDQAQAAAACwAAI6AAAAAAAWQEAHAAAAAMACCOgAAAAAAFgAAR0AAAAAAAsgoAMAAAAAYAEEdAAAAAAALICADgAAAACABRDQAQAAAACwAAI6AAAAAAAWQEAHAKCGsNlsho+ePXtKknr27Cmbzaa1a9ea+hp87csvv9Rtt92mpk2bqm7dumrRooUeeugh/fDDD4bHKi8v1wcffKAJEyaob9++atiwoWw2m4KCgtx6/IkTJzRx4kS1adNGoaGhatSokW655RatWbPGcC0AgIuDe98wAADAdCNHjqx07vDhw1qxYkW17W3btvV5XVbxwQcfaPjw4SorK1NiYqJatGihL774Qn/5y1/0/vvva/369WrVqpXb4504cUK33Xbbr6rlhx9+0I033qjvvvtOMTExuvXWW3XkyBF9+umn+vTTT/WnP/1JDz300K8aGwBQe9kcDofD7CIAAMCvs3btWvXq1UuSdL6v9P379+s///mPmjdvrnr16vmrPL85ePCgWrdurf/85z969dVXNWbMGElnZsFTU1P11ltvKTExUVu2bJHNZnNrzJMnT+ree+/Vddddpw4dOqhBgwZq3769AgMDVVZWdt7HDho0SMuWLVNycrI+/vhj53v+//7f/9OAAQPkcDi0fft2XXPNNZ69cABArUJABwCgBnM3oNd2TzzxhF566SX16dNHq1atcmkrKirSZZddpsLCQi1fvlz9+vX7Vc+Rl5enFi1aXDCgf/3117rqqqsUGBiovXv3Ki4uzqV99OjReu211zRs2DAtWrToV9UCAKiduAYdAICLQHXXoKempspmsyk9PV27d+/W0KFD1aRJE4WFhSkxMVHLli1z9t2yZYsGDBigxo0bKzQ0VJ07d9Znn31W7XOeOnVKs2fPVlJSkqKiolS3bl21adNGTzzxhH766Sevvr6PPvpIkjRixIhKbeHh4RowYIAk6cMPP/Tq856vlq5du1YK59L/avzHP/6h0tJSn9cDAKg5COgAAEDZ2dm6/vrr9dVXXyk5OVnXXnutvvjiCw0ePFgffPCBli5dqhtvvFEHDhxQcnKy2rRpo82bN+s3v/mN1q9fX2m8gwcP6oYbbtBjjz2mnJwcJSYm6uabb1ZxcbFeeukldezYUfn5+ZUed/YPCVOmTHG79hMnTmjPnj2SpI4dO1bZ5+z57du3uz3ur3X2OS5Uy8mTJ5WTk+PzegAANQcBHQAA6M9//rMmTJigb775RosWLdLGjRv1yiuvyOFwaOzYsbrrrrv02muvKTs7W++++6527NihRx99VGVlZZo6darLWA6HQ3/4wx+0c+dO3X333crLy9OqVav04Ycfas+ePRo/frzy8vI0atQor9Sel5fn/Hfz5s2r7BMbGytJ2rdvn1ee83zOPkd1tURERCgiIsJv9QAAag4COgAAUKdOnTRx4kSXDdTuv/9+NWjQQAcOHFCfPn105513ujzm6aefliRlZWW5LNVesWKFNmzYoPbt22vevHmqX7++sy0oKEgvvvii2rVrp8zMTO3atctlzObNm6tNmzZq1KiR27WfOHHC+e+wsLAq+4SHh0uS7Ha72+P+Wmfrqa4Wf9cDAKg5uM0aAADQb3/720q7mwcFBalFixY6duyYbr755kqPadiwoRo0aKBjx47pp59+UnR0tCTpn//8pyRpyJAhVd4zPCAgQN27d9euXbu0ceNGtWvXztn2xhtvePNlAQBQozCDDgAAql2OfXamt7r2s7Pjp0+fdp7Lzc2VJE2aNEk2m63K429/+5sk6ccff/S49nNn6E+ePFlln6KiIklyLi33pbP1VFeLv+sBANQczKADAAAFBJz/b/YXaj9XRUWFJKlbt25q2bLlefteddVVbo9bnXN3St+/f7+uvvrqSn0KCgokSfHx8R4/34XEx8crOztb+/fvr7Ldbrc7l7b7ox4AQM1BQAcAAF51dkO2gQMH6rHHHvP580VERKhVq1bas2ePvvjiiyoD+hdffCFJ6tChg8/r6dChgz788EPnc1ZXS1hYmC6//HKf1wMAqDlY4g4AALzqt7/9rSTp/fffl8Ph8MtzDh48WJL0zjvvVGorKirSP/7xD0nS7373O5/XMmjQIEnShg0bqpxFP1vjrbfeqjp16vi8HgBAzUFABwAAXjVw4EAlJiZq69atGjVqVJXXmf/888+aN2+eysrKXM6npKSobdu2+stf/mLoOR999FHVq1dPq1ev1oIFC5zny8vL9cADD+j48eNKTExU3759XR73/fffq23btmrbtq2+//57Q89ZnauuukoDBw5UeXm57r77bp06dcrZ9umnnyo9PV0BAQGaMGGCV54PAFB7sMQdAAB4VUBAgJYuXapbbrlFGRkZ+uCDD3TttdeqefPmKikpUW5urnbu3Kny8nKlpqa67PS+f/9+7d69W0ePHjX0nM2aNVN6erqGDx+uMWPG6LXXXlN8fLy2bdum3NxcNW3aVO+8806lnepLS0u1e/du579/6YEHHlB2drYkqbi4WNKZ0J+UlOTsc8stt2jSpEkuj5s/f76+/vprrV69Wi1bttSNN96oH374QevWrZPD4dCf/vQnXXPNNYZeIwCg9iOgAwAAr2vWrJk2b96s9PR0LV68WP/617+0detWNWjQQM2aNdN9992nAQMGqG7dul57zttuu00JCQl64YUX9Pnnn2v79u2KiYnRH//4R02aNElNmzY1PObXX3+tLVu2VDp/7rm2bdtWam/SpIm++OILTZ8+XUuWLNGyZcsUFhamfv366bHHHlNycrLhWgAAtZ/N4a+LwwAAAAAAQLW4Bh0AAAAAAAsgoANANd566y3de++96tixo0JCQmSz2ZSenl5tf7vdrnHjxikuLk4hISGKj4/X448/rqKiIv8VDQAAgBqLJe4AUI34+Hjl5+erUaNGCgsLU35+vhYuXKjU1NRKfU+ePKlu3bppx44d6tu3r6677jpt375dK1euVGJiorKysrx6rS0AAABqH2bQAaAaaWlpysvL048//qj77rvvvH1ffPFF7dixQ08++aRWrFihGTNmaMWKFXryySe1bds2vfzyy36qGgAAADUVAR0AqtGnTx/FxcVdsJ/D4VBaWprCw8Mr3Wpp0qRJCg8PV1pamq/KBAAAQC1BQAcAD+Xk5OjgwYPq2rWrwsLCXNrCwsLUtWtX5ebmqqCgwKQKAQAAUBNwH3QA8FBOTo4kqXXr1lW2t27dWitWrFBOTo5iY2Or7FNcXKzi4mLnzxUVFTp27JgaNmwom83m/aIBAJblcDh04sQJNWvWTAEB1ptPO336tEpKSrwyVnBwMHu0AOcgoAOAhwoLCyVJkZGRVbZHRES49KvK9OnTNXXqVO8XBwCosQoKCnTZZZeZXYaL06dPq3FoqLx1f5Lo6Gjt27ePkA78FwEdACxgwoQJGjdunPPnwsJCNW/eXNJYSSGm1QUAMEOxpJdVv359swuppKSkREXyzrdTsaSXDx9WSUkJAR34LwI6AHjo7Mx5dTPkdrvdpV9VQkJCFBJS1a86ISKgA8DFycqXOIVJ8jRSE0SAyvhcAICHzl57fvZa9F+60DXqAADUNHX+e3ii3BuFALWM9XadAIAapnXr1mrWrJk2bNigkydPurSdPHlSGzZsUIsWLardIA4AAACQCOgA4DGbzabRo0erqKhIzz77rEvbs88+q6KiIt1zzz0mVQcAgPcFeekA4IrPBQBUIy0tTevXr5ck7dy503lu7dq1kqRu3bpp9OjRkqQnnnhCy5Yt08yZM7V9+3Z16NBB2dnZWrlypRITE/Xoo4+a8RIAAPCJIHm+xL3sVzzmrbfe0ueff64vv/xSO3fuVElJiRYuXKjU1FQPqwGsgYAOANVYv369MjIyXM5t2LBBGzZscP58NqCHhYVp3bp1mjJlipYsWaLMzEzFxMRo/Pjxmjx5skJDQ/1aOwAAtdHTTz+t/Px8NWrUSDExMcrPzze7JMCrWOIOANVIT0+Xw+Go9khPT3fpHxkZqZdffln79+9XSUmJ8vPzNWvWLEveJgcAAE+YtcQ9LS1NeXl5+vHHH3Xfffd5+jIAy2EGHQAAAIAh3tjF/dcsce/Tp4+HzwpYGzPoAAAAAABYADPoAAAAAAzxxi7sZx9vt9tdzoeEhCgkJMTD0YGaiRl0AAAAAIac3cXdk+NsQI+NjVVkZKTzmD59uj9fCmApzKADAAAAME1BQYEiIiKcPzN7josZAR0AAACAId5c4h4REeES0IGLGQEdAAAAgCHe2MXd08cDtRHXoAMAAAAAYAHMoAMAAAAwhBl0wDcI6AAAAAAM8eY16EakpaVp/fr1kqSdO3c6z61du1aS1K1bN40ePdrDygDzENABAAAA1Ajr169XRkaGy7kNGzZow4YNzp8J6KjJCOgAAAAADDl7H3RPxzAqPT1d6enpHj4zYF0EdAAAAACGmLXEHajt2MUdAAAAAAAL4A9XAAAAAAxhF3fANwjoAAAAAAxhiTvgGyxxBwAAAADAAvjDFQAAAABDzNrFHajt+FwAAAAAMIQl7oBvsMQdAAAAAAAL4A9XAAAAAAxhF3fANwjoAAAAAAxhiTvgGyxxBwAAAADAAvjDFQAAAABD2MUd8A0+FwAAAAAM4Rp0wDdY4g4AAAAAgAUwgw4AAADAEDaJA3yDzwUAAAAAQ4ICpTo2D8dwSCr3SjlArcESdwAAAAAALIAZdAAAAACGBAVJQcygA15HQAcAAABgSB0vLHGv4/BOLUBtwhJ3AAAAAAAsgBl0AAAAAIZ4bYk7ABcEdAAAAACG1AmU6ni4FrdOhXdqAWoTlrgDAAAAAGABzKADAAAAMCZQnk/1ebhEHqiNCOgAAAAAjAmS5wGdJe5AJSxxBwAAAADAAphBBwAAAGAMM+iATxDQAQAAABhDQAd8giXuAAAAAABYADPoAAAAAIwJ0Jmd3AF4FQEdAAAAgDFB8jygc5s1oBKWuAMAAAAAYAHMoAMAAAAwhhl0wCcI6AAAAACMCRTXoAM+wBJ3AAAAAAAsgBl0AAAAAMawxB3wCQI6AAAAAGMCRZIAfIAl7gAAAAAAWAB/9wIAAABgjDc2iXN4oxCgdiGgAwAAADAmSCQJwAf4WAEAAACAxezdu1fp6enasGGDDh8+LEmKjo5Wly5dNGrUKLVs2dLkCuELBHQAAAAAxjCD7jMOh0NPP/20XnzxRZWXl8tm+99297t379a6des0c+ZMPf7443r++edd2lHz8bECAAAAYAwB3Wcef/xxzZkzR40bN9aYMWOUnJysSy+9VJJ04MABZWZmat68eZoxY4ZOnz6tOXPmmFwxvMnmcDjYngEALMZutysyMlLSU5JCzC4HAOBXxZJmqLCwUBEREWYX4+Ls91NhshThYUC3l0mRn8mSr9Ms2dnZSkxMVIcOHbR8+XI1bNiwyn5Hjx7Vb37zG2VnZ+uLL75Qhw4d/FwpfIXbrAEAAAAwJkD/28n91x4kkUr+/ve/KygoSO+//3614VySGjVqpA8++EB16tTRX//6Vz9WCF9jYQoAAAAAY7yxxJ11vJVkZWWpd+/eio+Pv2Df+Ph49e7dW59//rnvC4Pf8HcrAAAAALCA77//Xu3atXO7f7t27XTw4EEfVgR/YwYdAAAAgDHMoPtERUWF6tSp43b/OnXqqKKiwocVwd8I6AAAAACMOXsduSfIlZXExMRo3759bvfPzc1Vs2bNfFgR/I0l7gDgJQ6HQx9++KF69eqlmJgY1atXT23atNG9996r3Nxcs8sDAAAW17VrV61evVrFxcUX7FtcXKzVq1erS5cufqgM/kJABwAveeyxxzRkyBDt3r1bgwYN0kMPPaQWLVpowYIFat++vXbt2mV2iQAAeEeQlw64GDVqlI4dO+bWzux/+ctf9PPPPyslJcUPlcFf+FgAgBccPnxYc+fOVVxcnL766qv/3sP8jJdfflnjxo3TnDlz9Prrr5tYJQAAXhIoz5MES9wr6dWrl55//nkdPXpUJSUlCg4OrrJfaWmpfvrpJ02bNk19+vTxc5XwJQI6AHhBXl6eKioq1LVrV5dwLkn9+/fXuHHj9OOPP5pUHQAAqCmeeuqpC/apU6eOXnjhBT9UA38joAOAF7Ru3VrBwcHasGGD7Ha7IiIinG2ffPKJJCk5Odms8gAA8C5vbBLn6eNrudLSUn377bfO3yvatm1raId31EwEdADwgoYNG2rGjBkaP3682rZtq4EDByoiIkJfffWV1qxZowceeEAPPvig2WUCAOAd3riGnCXuVTp69KiefPJJLVq0SKdPn3aer1u3roYNG6YXX3xRjRo1MrFC+BIBHQC8ZOzYsbr00ks1evRozZs3z3m+W7duGjFihIKCqv9fbnFxscuOrXa73ae1AgAA6zl27JiSkpKUm5urxo0bq3fv3mratKmOHDmirVu3KiMjQ1lZWdqyZYsaNmxodrnwAXZxBwAvmTZtmu644w5NnDhRBQUFOnHihD7//HOdPn1aPXv21Mcff1ztY6dPn67IyEjnERsb68fKAQAwiF3cfeLZZ5/Vvn37NGnSJOXn5+uTTz7Ra6+9pk8++UT79+/XxIkTtW/fPj377LNmlwofsTkcDofZRQBATbd69WrddNNNGjt2rObMmePSdvjwYSUkJOjSSy9VTk5OlY+vagb9TEh/SlKIDysHAFhPsaQZKiwsdNnTxArsdrsiIyNVOEaKqHqDcffHKpEi58uSr9MsCQkJSkhI0OrVq6vtk5ycrH379ik3N9ePlcFfmEEHAC/49NNPJZ25PcovRUdHq23bttqzZ4+KioqqfHxISIgiIiJcDgAAcHE5ePCgbrjhhvP2SUpK0sGDB/1UEfyNhSUA4AUlJSWSVO2t1H788UcFBASw+yoAoHYIkOe7sDNVWElkZKT27dt33j779u2rdEtX1B58LADAC7p27SpJmjNnjgoLC13a5s2bpwMHDqhz584KCWG5OgCgFuAadJ/o1auXPvjgAy1fvrzK9uXLl+uDDz5Qz549/VsY/IZr0AHAC8rLy9W7d29lZWWpSZMmGjBggKKiopSdna01a9YoNDRUa9euVadOndwa7+w1flyDDgAXoxpwDfqDUoSHX0/2YinyL1yDfq6vv/5aSUlJKioqUt++fdWrVy9FR0fr0KFDyszM1KpVq1SvXj1t2bJFV111ldnlwgf4uxUAeEFgYKBWrlypl19+We+9957eeecdlZSUqGnTps6d3a+44gqzywQAwDu8MQNe7o1Capcrr7xSK1as0KhRo7Rq1SqtWrVKDodDNptNktS6dWstXLiQcF6LMYMOABbEDDoAXMxqwAz6eC/NoM9mBr06GzZs0I4dO2S32xUREaH27ds7L6lD7cUMOgAAAABYTNeuXQnkFyECOgAAAABjWOIO+AQBHQAAAIAxgfI8SZR5o5DaZdSoUW71czgcSk9P920xMAUBHQAAAAAs4M0339T5tgg7u2EcAb32IqADAAAAMMYbS9xJIpXk5uZWed5utys7O1vTpk3Tddddp1mzZvm5MvgLHwsAAAAAxgT+9/B0DLho3rx5tW3t2rXTb37zG1199dVatmyZHn74YT9WBn8JMLsAAAAAAMCFNWnSRP3799ff//53s0uBjzCDDgAAAMAYlribJiIiQvv27TO7DPgIHwsAAAAAxhDQTfHTTz9p6dKlio6ONrsU+AgfCwAAAACwgKlTp1Z5vqysTAcOHNCyZct0/PhxTZkyxb+FwW8I6AAAAACMCZDnm7yxG1Yl06ZNO297/fr19X//93+aNGmSnyqCvxHQAQAAABjDEnefyMzMrPJ8YGCgoqKi1KZNGwUF8cbVZvzXBQAAAAAL6N69u9klwGQsLAEAAABgTJCXDhj28ccfa9SoUWaXAR/hYwEAAADAmEB5fg26p4+vpX7++Wdt2rRJx44dU3l5eaX2ZcuWaenSperRo4dsNpskaeTIkf4uEz5CQAcAAAAAC1i+fLmGDBmiU6dOSZIzgP+SzWbT3XffLUlyOBwE9FqEgA4AAADAGDaJ84kpU6YoJCRETz75pGJjYxUYWHmZwdKlS7V06VKlp6f7v0D4HB8LAAAAAMYEyvMkwRL3Snbt2qXRo0frmWeeqbZPXl6eli5dqpSUFD9WBn9hkzgAAAAAsIBTp06pcePGZpcBEzGDDgAAAMAYlrj7RHXXnP+yjzv9UDPxsQAAAABgDLu4+0RZWdkF+0yaNEmTJk3yQzUwAwEdAAAAACyioqJCW7duVX5+vlq2bKmOHTuaXRL8iGvQAQAAABgT5KUDLn766Sd16dJFXbp00fDhw9WpUycNGDBApaWlkqQDBw7o/vvvV3Z2tsmVwlcI6AAAAACMIaD7xFNPPaVt27Zp6NCh+vOf/6zf/va3+uSTT/TnP/9ZknTppZfqk08+0euvv25ypfAVAjoAAAAAWMDy5cvVrVs3LVq0SH/84x/1ySefqE2bNlq8eLGkMxvEde/eXevWrTO5UvgKAR0AAACAMQH630Zxv/YgiVRy7NgxJSUlOX8+G8i//fZb57nY2FgVFBSYUR78gIUlAAAAAIzhNms+0bp1a+Xn57uca9KkiYqKipw//+c//1FJSYm/S4Of8HcrAAAAALCA+++/X//4xz/073//23muTp06cjgczp/Xrl2rVq1amVEe/ICADgAAAMAYNonziX79+ql///7q3r27XnrpJW3ZskXHjx+XJGVnZ2v06NHatWuXbr/9dnMLhc/wsQAAAABgzNnryD0dAy5atmwph8Mhm82mJ5980nneZrOpY8eOstlsGjJkiMaPH29ilfAlAjoAAAAAWEBqaqrLcvazQkJC1KxZM/Xp00edO3c2oTL4CwEdAAAAgDFsEucTr732mtklwGR8LAAAAAAYEyjPkwRL3IFK2CQOAAAAAAALYAYdAAAAgDEscfeJFi1auNXP4XAoLy/Pt8XAFHwsAAAAABjDLu4+ERAQUOUmcXa7XT///LMkKSYmRsHBwf4uDX5CQAcAAAAAC9i7d2+1bd9//70ee+wx5ebmatWqVX6sCv7ENegAAAAAjAny0gG3XXrppXr77bdVXFzsco901C4EdAAAAADGnN3F3ZODJe6GBQQEqHfv3lq2bJnZpcBHCOgAAAAAUEMcOXJEdrvd7DLgIywsAQAAAGAMm8T5VXl5uQ4dOqRFixZp8eLF6tq1q9klwUcI6AAAAACM4TZrPhEYGFjlLu7natCggebOneufguB3fCwAAAAAwAJ69uxZ7W3WcnJyFBgYqA0bNqhNmzYmVAd/IKADAAAAMIYZdJ/47LPPqm07ffq0Jk2apH79+mnTpk2KiYnxY2XwFzaJAwAAAGAMt1nzu7p16+qll15Ss2bN9Pjjj5tdDnyEgA4AAACgxti2bZtuvvlmRUVFKSwsTElJSXrvvffcfvzevXs1ZcoUDRgwQJdeeqlsNpvi4+N9V7CXdenSRatWrTK7DPgIf7cCAAAAYIgjQHJ4uAu741dMFWZmZqpfv36qW7euhg0bpvr162vJkiUaOnSoCgoKNH78+AuO8fnnn2vq1KkKDAzUFVdcocOHD/+K6s2zZ88enThxwuwy4CMEdAAAAACGlAedOTwdw4iysjLdc889CggIUFZWltq3by9JeuaZZ9SpUydNnDhRv//97xUXF3fecbp3765Nmzbp2muvVWhoqOrWrfsrX4H35efnV3m+rKzMeZu1jz/+WDfddJOfK4O/ENABAAAAWN6aNWu0d+9ejRo1yhnOJSkyMlITJ05UamqqMjIy9Mwzz5x3nISEBCUkJPi42l8nISHhvLdZs9lsuvzyy/XXv/7Vj1XBnwjoAAAAAAwxYwZ97dq1kqS+fftWauvXr58kad26dZ4VZbLU1NQqA3qdOnXUrFkzXXvttRo4cKBsNpsJ1cEfCOgAAAAADCkLtKks0LOQWBbokFT9bPEv5eTkSJJat25dqS06Olrh4eHOPjXVa6+9ZnYJMBkBHQAAAIBp7Ha7y88hISEKCQmp1K+wsFDSmSXtVYmIiHD2AWoqbrMGAAAAwJDyoCCvHJIUGxuryMhI5zF9+nSTXx1gHmbQAQAAABhSHhiocg+XuJcHOiSVqqCgQBEREc7zVc2eS/+bOa9ultxut+uSSy7xqCaztWjRwq1+DodDeXl52rdvn3r37u38GTUfM+gAAAAATBMREeFyVBfQz157XtV15ocPH1ZRUVGV16fXJAEBAbLZbBc8AgICXB5z7s+o2ZhBBwAAAGBIhQJVLs9m0CsMbBAnST169ND06dO1cuVKDRs2zKVtxYoVzj412d69ew31b9GiheHHwNoI6AAAoAqhbvS5wkvjeNspN/p846VxgItTmQJV5mFALzMY0JOTk5WQkKB33nlHDz/8sPNe6IWFhXrhhRcUHByslJQUZ/9Dhw6psLBQMTEx1W4sB1gNAR0AAACA5QUFBSktLU39+vVT9+7dNWzYMNWvX19LlixRfn6+Zs2apfj4eGf/CRMmKCMjQwsXLlRqaqrz/NGjR/XYY485fy4tLdXRo0dd+syaNUuNGjXyw6sCXBHQAQAAABhSrkCVe7idVbkqDD+mV69eWr9+vSZPnqzFixertLRUV199tWbOnKmhQ4e6NUZRUZEyMjJczp08edLl3JQpU0wJ6FOnTnWrn8Ph0JQpU3xbDExhczgcxtaWAAB8zm63/3c53lOSqt4sB/AtlrizxB3mKZY0Q4WFhS67m1vB2e+nXYWNVD/Cs4B+wl6hdpFHLfk6zRIYGFht29nYZrPZ5HA4VFFh/A8csD5m0AEAAADAAjIzM6s8b7fblZ2drblz5yo5OVkPPfSQnyuDvxDQAQAAABjinSXunm0yVxt179692rb+/ftrxIgR6tChgwYPHuzHquBP3DAPAAAAgCFnArrnB4xp1aqVBg4cqJdeesnsUuAjBHQA8LKPPvpIN910kxo2bKi6deuqRYsWGj58uAoKCswuDQAA1HBNmzbV7t27zS4DPsISdwDwEofDofvuu0/z589Xy5Ytnbd/OXjwoNatW6f8/HzFxsaaXSYAAB4rV6DKWOLud8XFxVq+fLmioqLMLgU+QkAHAC955ZVXNH/+fD3wwAN65ZVXKu3EWlZWZlJlwLnc3VX9/gt3SXNj1+UoN5/Om4670Wd0Tzc6/d3NJ2S3d1x8yhVkym3Wartf3v7trLKyMh04cECLFi3Sd999p4cfftjPlcFfCOgA4AWnTp3S1KlTlZCQoD/96U9V3iYlKIj/5QIAgOrdddddcjgcstmqXl0QEBCg22+/XTNmzPBzZfAXflsEAC9YuXKlfv75Z40aNUrl5eX6+OOP9d133ykqKkp9+vRRq1atzC4RAACvKVeAx5u8lXupltpk4cKFVZ4PDAxUVFSUrr/+ekVHR/u5KvgTAR0AvODLL7+UdOYL9JprrtF3333nbAsICNDYsWM1a9asah9fXFys4uJi5892u913xQIA4CFv7MJOQK8sJSXF7BJgMnZxBwAv+OGHHyRJc+bMUWRkpLZu3aoTJ04oKytLl19+uWbPnq2//73661mnT5+uyMhI58FmcgAAABcfAjoAeEFFxZmNboKDg7V06VIlJiYqPDxcN954o95//30FBARo9uzZ1T5+woQJKiwsdB7ckg0AYGVlCvTKgcr++c9/6je/+Y2uuOIK3XLLLdq4caOzraSkREeOHFFpaamJFcKXCOgA4AWRkZGSpI4dO6pZs2Yube3atVNCQoL27t2r48ePV/n4kJAQRUREuBwAAFhVhYL+u5P7rz8quNq2ko8++ki33nqrVq9eraNHj2r58uVKTk7WV199JUn66aefdOmll2revHkmVwpfIaADgBe0adNGkqq9L+nZ86dOcTsmAABQtRdeeEFRUVHauXOnfvzxR61fv142m00zZ86UJMXExKh79+765z//aXKl8BUCOgB4Qa9evSRJ33zzTaW20tJS7dmzR2FhYWrcuLG/SwMAwOvObhLn6QFX3377rf7whz/oiiuukCR17txZffv21YYNG5x92rRpo6+//tqsEuFjBHQA8IKWLVuqb9++2rNnj9LS0lzaZsyYoePHj2vw4MHcCx0AUCsQ0H2jXr16qlu3rsu51q1b6/Dhw86fL7nkEufmtKh9+E0RALzkb3/7m7p06aJ77rlHS5cuVdu2bbV9+3atWbNGcXFxeumll8wuEbVeqBt97ndrpIDDF/7FeU3TGy7Yp75OuPV8gSq7YJ9yN39tOaH6F+zTu/+aC/apiHbvvZKqv0PD/3B5C4ALS05O1tq1a1VRUaGAgDNzqeHh4S6bwuXm5jr3vkHtwww6AHhJy5Yt9cUXXyg1NVVffvmlXnnlFeXk5OiPf/yjtm7dqujoaLNLBADAK8oV4IUZdKLIL73wwgs6ePCgHnzwQee+NTabzdn+zTff6OOPP1a3bt3MKhE+xgw6AHhRbGysFi5caHYZAAD4lDduk1Ymh5eqqT2mTp2qdu3aad68eVqyZIk6dOjgXN4+cOBAZWZmSpImTZpkZpnwIQI6AAAAAFjAm2++KYfDIZvNpqNHj2rlypWSzsyir1y5Ut27d9cLL7yg9u3bm1sofIaADgAAAMCQs/cy92wM/FJubm6V50NCQtSoUSMFBrKxXm1HQAcAAABgSIUXdmGvYIl7Jc2bNze7BJiMnRkAAAAAALAAZtABAAAAGOKN+5iXM4NeSUZGhtt9R44c6cNKYBYCOgAAAABDyhTghV3cK7xUTe1x1113OTeJO5fD8b8/ZthsNjkcDgJ6LUVABwCg1rjiwl3SItwaaU3TGy7Yp8fvtl54oEK3ns693aLczQKRF+6y5sPeF+zTM22Le8832o33XdnujQXgolbdrVrtdruys7P19ttvq3///ho4cKCfK4O/ENABAAAAGOKdXdxZ4v5LKSkp520fM2aMevbsqXvvvddPFcHf2CQOAAAAgCFnr0H39IAxSUlJGjBggKZOnWp2KfARAjoAAAAA1BDx8fHasWOH2WXAR1jiDgAAAMAQ7+ziziZxRjkcDmVlZSk0NNTsUuAjBHQAAAAAhpQr0ONd3Anola1bt67K82VlZTpw4IAyMjK0devWC16rjpqLgA4AAAAAFtC7d2+XW6r9ks1mU7du3TRnzhw/VgV/IqADAAAAMIRd3H1jypQpVQb0wMBARUVFKTExUZ06dTKhMvgLAR0AAACAIeUK8MI16OVeqqb2mDRpktklwGQEdAAAag03Ng2Kcm+k+jpx4U6Fbgxkd+/5VOZGHy/+1uLW64tydzQ2awLgP//617+0fft2jRw50uxS4AMEdAAAAACGeGcXd+6DXp2TJ0/q559/Vnl55VUG6enpmjt3rnr06CGbzSZJiouL83eJ8BECOgAAAABDCOi+sWfPHt1xxx3atm3bBTeLS0hIcP5cUcGO+LUFAR0AAAAALGDs2LH64osv1KNHD8XGxiowsPIfMXbs2KEdO3YoNTXV/wXC5wjoAAAAAAzxzn3QmUH/pY0bN2rEiBF64403qu0zbdo07dixQ6+//rofK4O/ENABAAAAGOKd26yxLPuXCgsL1bp1a7PLgIkCzC4AAAAAACA5HA4FBFw4op3dHA61DzPoAAAAAAxhkzjfyMzMVIsWLc7bJzU1VT179vRPQfA7AjoAAAAAQ8oV4IWAzmLeX+revfsF+zRv3lzNmzf3QzUwA58KAAAAAAAsgBl0AABQSaDKLtyp3I2B3BjGbe6O5UZdbr0+ANUq88Iu7p4+HqiNCOgAAAAADPHOLu7u/JUPuLiwxB0AAAAAAAtgBh0AAACAIRVe2MW9giXuQCXMoAMAAAAAYAHMoAMAAAAwhPug+9auXbs0b948bd26VcePH1dkZKQSExN133336ZprrjG7PPgQAR0AAACAIdwH3Xf++te/6tFHH1VFRYUkyWazyeFwKDs7W/Pnz9fs2bP1yCOPmFwlfIVPBQAAAABYQFZWlh555BFFR0fr9ddf14EDB1RWVqYDBw5o4cKFatasmcaNG6esrCyzS4WPMIMOAAAAwJAyBSqQ+6B73ezZsxUaGqoNGzaoefPmzvMxMTFKSUlRr169dOWVV2rOnDnq3r27iZXCVwjoAACgErfub+zO79bu/qZR5sWx3KjL0/s3Axc779wHnc/hL23cuFGDBg1yCefnio2N1eDBg7Vy5Uo/VwZ/YYk7AAAAAFhAUVGR4uLiztunefPmOn78uH8Kgt/xZysAAAAAhnAfdN9o0qSJDh8+fN4+33//vZo0aeKniuBvBHQAAAAAhnCbNd9ISkq64AZw69evV2Jiop8qgr+xxB0AAAAALGDs2LHq37+/Dh06VGX74cOHdeutt2rcuHF+rgz+wgw6AAAAAEPKFKgAdnH3uqSkJCUlJVXbHh0drTlz5vixIvgbAR0AAACAIWeWuHu6izsB/UJOnDghu92uiIgI1a9f3+xy4AcscQcAAAAAiyguLtazzz6rVq1aKTIyUrGxsYqMjFSrVq00bdo0FRcXm10ifIgZdAAAAACGsEmcb5w6dUq9evXS1q1bFRwcrCuvvFJNmzbVkSNHtGfPHk2ZMkX//Oc/lZmZqXr16pldLnyAGXQAAAAAhpwN6J4ecDVz5kxt27ZNKSkp2rdvn3bt2qXPPvtMu3btUm5uru68805t27ZNM2fONLtU+Agz6AAA1BqnLtzluHsjnZAb1zpGujeWW8rd6OPu7/Ju1OXW6zvu5vO5874DgBsWL16s66+/Xunp6ZXamjVrpoyMDH399dd67733NHXqVP8XCJ9jBh0AAACAIRVemD2vYAa9kry8PCUnJ5+3z0033aS8vDz/FAS/YwYdAAAAgCFlCpSN26x5Xb169XTkyJHz9jly5AjXn9dizKADAAAAgAV06dJF7733nv71r39V2f7VV19p8eLF6ty5s58rg78wgw4AAADAkHIFKoD7oHvdxIkTtWLFCt1www0aOXKkevXqpejoaB06dEiZmZnKyMhQeXm5Jk6caHap8BECOgAAAABDzgR0brPmbZ07d9a7776re+65RwsWLND8+fOdbTabTVFRUZo/f766dOliYpXwJQI6AAAAAFjE7373O/Xr109Lly7Vjh07ZLfbFRERofbt22vQoEEKCwszu0T4EAEdAAAAgCHMoPtWWFiYbr/9dt1+++1mlwI/I6ADAAAAMIRd3AHfIKADAFBrfHPhLqN7ujVS7/5rLthnzYe9L9invk649XyBKrtgn3I3f205ofoX7NP7yIVfn0bb3Xo+t953AHDD1KlT3erncDg0ZcoU3xYDUxDQAQAAABhSoSC3/2h2vjHgatq0adW2ORwOSWc2iyOg1158KgAAAAAYUu6FJe5cg15ZZmZmleftdruys7M1d+5cJScn66GHHvJzZfAXAjoAAAAAWED37t2rbevfv79GjBihDh06aPDgwX6sCv4UYHYBAAAAAGqWcgWoXIEeHkQRo1q1aqWBAwfqpZdeMrsU+AifCgAAAACGlCnQKweMa9q0qXbv3m12GfARAjoAAAAA1ADFxcVavny5oqKizC4FPsI16AAAAAAMKVeQbB5GCU93ga+NMjIyqjxfVlamAwcOaNGiRfruu+/08MMP+7ky+AufCgDwoZkzZ+qpp56SJG3atElJSUkmVwQAgOcq/nsduadjwNVdd90lh8Mhm81WZXtAQIBuv/12zZgxw8+VwV8I6ADgI7t27dLkyZMVFhamkydPml0OLgqn3Ojzd7dGqoi+/4J9eqZtufBAUW49nXcdd6PPaLsbndx7r9x73wHgwhYuXFjl+cDAQEVFRen6669XdHS0n6uCPxHQAcAHSktLNXLkSLVv316tW7fWW2+9ZXZJAAB4zZnZc+6D7m0pKSlmlwCTsUkcAPjA888/r3//+996/fXXFRjILyAAgNrF81useb5EHqiNmEEHAC/Lzs7W888/r2nTpunKK680uxwAAFDD7Nq1S/PmzdPWrVt1/PhxRUZGKjExUffdd5+uueYas8uDDxHQAcCLiouLlZKSovbt2+uJJ54wuxwAAHyiTAFyeLzEncW8VfnrX/+qRx99VBUVFZIkm80mh8Oh7OxszZ8/X7Nnz9YjjzxicpXwFT4VAOBFzzzzjHJycrRw4UJDS9uLi4tlt9tdDgAArKpcQV454CorK0uPPPKIoqOj9frrr+vAgQPOW6wtXLhQzZo107hx45SVlWV2qfARAjoAeMmmTZs0a9YsPf3002rXrp2hx06fPl2RkZHOIzY21kdVAgAAq5o9e7ZCQ0O1YcMGjRw5UjExMZKkmJgYpaSkaMOGDapXr57mzJljcqXwFQI6AHhBWVmZRo4cqWuuucZ533MjJkyYoMLCQudRUFDggyoBAPAONonzjY0bN2rQoEFq3rx5le2xsbEaPHiwNm/e7OfK4C+sKwEALygqKlJOTo4kKTg4uMo+nTt3liR99NFHGjRokEtbSEiIQkJCfFojAADeUuGF26xVENArKSoqUlxc3Hn7NG/eXMePH/dPQfA7AjoAeEFISIjuvvvuKtuysrKUk5OjAQMGqHHjxoqPj/dvcQAAoEZo0qSJDh8+fN4+33//vZo0aeKniuBvBHQA8ILQ0FClpaVV2ZaamqqcnBxNmDBBSUlJfq4M+KVTbvb7+4W7jL7CjXFC3Xw+b3LnNX7jpXGAi1OZAhXADLrXJSUlXXADuPXr1ysxMdFPFcHfCOgAAAAADClXoBweRgkCemVjx47Ve++9p0OHDjk3iDvX4cOHdeutt2rIkCEmVAd/IKADAAAAgAUkJSWdd7VddHQ0O7jXcuziDgA+lp6eLofDwfJ2AECtwS7u/lFUVKSDBw/q1CkuublYENABAAAAGEJA961XX31VV111lSIiInTZZZcpPDxc1157rRYsWGB2afAxAjoAAAAAWMRdd92l+++/X/v371fHjh1ls9l06aWXat++fbr33ns1YsQIs0uEDxHQAQAAABhSXhHolQOuPvjgA2VkZOj3v/+9vv/+e23dulWSdPfdd+vHH3/U3XffrXfffVevv/66yZXCVwjoAAAAAAwpLwtUmYdHeRkB/ZcWLFig6OhopaenKyIiwqUtJCRE8+bN0+WXX05Ar8UI6AAAAABgAV9++aX69OmjevXqVdkeGBio3r17a+fOnX6uDP7CbdYAAEAV3NkxONvnVQCwpvKyINnKPIsSDg8fXxsVFRWpWbNm5+0THByssrIyP1UEf+NTAQAAAMCQ8rIA2Txcou4oYzHvLzVp0kRHjhyptr2srEyrVq3SlVde6ceq4E98KgAAAADAAlq3bq1vv/220vmSkhLt2rVLQ4YM0TfffKMHHnjAhOrgDwR0AAAAAIaU/3eTN08PuBowYIC2bt2qvLw8l/PTp0/XNddco08++USPPfaYRo0aZU6B8DmWuAMAAAAwpKwsULZST5e4E9B/6c4771RMTIxsNpvzXK9evVSvXj21bdtWw4cP13XXXWdihfA1AjoAAAAAWECDBg30hz/8weXc6tWrTaoGZiCgAwAAADDEUR4kR7mHUcLTxwO1EJ8KAAAAAMaUBZ45PB0DLqZOnepWP4fDoSlTpvi2GJiCgA4AAAAAFjBt2rRq2xwOhyTJZrMR0GsxAjoAAAAAY5hB94nMzMwqz9vtdmVnZ2vu3LlKTk7WQw895OfK4C8EdAAAAADGlNukMtuF+11ojF9h27Ztmjx5sjZu3KjS0lJdffXVGjduXKXN1c6nuLhYM2fO1JtvvqmCggI1aNBA/fv313PPPacmTZq49P3Pf/6jv//97/ryyy+VnZ2t7777Tg6HQ/v27VN8fPyveg3V6d69e7Vt/fv314gRI9ShQwcNHjzYq88L6yCgAwAAAKgRMjMz1a9fP9WtW1fDhg1T/fr1tWTJEg0dOlQFBQUaP378BceoqKjQwIEDtWLFCiUlJWnIkCHKyclRWlqaPvvsM23evFmNGzd29v/hhx/02GOPSZLi4uJ0ySWX6NixYz57jefTqlUrDRw4UC+99JJGjBhhSg3wrQCzCwAAAABQw5R56TDylGVluueeexQQEKCsrCzNnz9fs2fP1ldffaXLL79cEydOVH5+/gXHycjI0IoVKzR8+HBt3LhRM2bM0JIlS/S3v/1Nubm5evrpp136N2rUSCtXrtRPP/2kvLw8JSYmGivcy5o2bardu3ebWgN8h4AOAAAAwBgTAvqaNWu0d+9ejRgxQu3bt3eej4yM1MSJE1VSUqKMjIwLjrNgwQJJ0vTp02Wz/W+Z/b333quEhAS9/fbbOnXqlPN8eHi4brrpJjVo0MBYwT5QXFys5cuXKyoqyuxS4CMscQcAAABgeWvXrpUk9e3bt1Jbv379JEnr1q077xinT5/Wli1b1KZNG8XFxbm02Ww23XTTTXr11Vf1xRdf6MYbb/RO4QZU9weGsrIyHThwQIsWLdJ3332nhx9+2M+VwV8I6AAAAACM+RUz4FWOYUBOTo4kqXXr1pXaoqOjFR4e7uxTnb1796qioqLKMc4dOycnx5SAftddd8nhcLjM7J8rICBAt99+u2bMmOHnyuAvBHQAAAAAxpRJKvXCGDpzC7FzhYSEKCQkpFL3wsJCSWeWtFclIiLC2ac67oxxbj9/W7hwYZXnAwMDFRUVpeuvv17R0dF+rgr+REAHAAAAYJrY2FiXnydPnqwpU6aYU4zJUlJSzC4BJiOgAwAAADCm/L+Hp2NIKigocM5cS6py9lz636x3dbPbdrtdl1xyyXmf0p0xzu1nRVlZWcrMzNTkyZPNLgU+QEAHAAAAYIwXr0GPiIhwCejVOff68Ouvv96l7fDhwyoqKlKnTp3OO0ZCQoICAgKqvVb9fNe5+0tFRYW+/fZbHTt2TOXllf8KkpGRofT0dPXo0cN5rXqPHj38XSZ8hIAOAAAAwPJ69Oih6dOna+XKlRo2bJhL24oVK5x9zic0NFSdOnXS5s2blZ+f77KTu8Ph0KpVqxQWFqaOHTt6/wW4Ydu2bRo8eLAOHjx43n42m029e/d2/lxRUeHr0uAnBHQAAAAAxpiwi3tycrISEhL0zjvv6OGHH3beC72wsFAvvPCCgoODXa7hPnTokAoLCxUTE+OyZH3MmDHavHmzJkyYoLfffts5C/3qq68qNzdXY8aMUWhoqIcv7td58skndezYMaWmpio2NlaBgYGV+qxdu1Zr1669aK/Tr+0I6AAAAACMMSGgBwUFKS0tTf369VP37t01bNgw1a9fX0uWLFF+fr5mzZql+Ph4Z/8JEyYoIyNDCxcuVGpqqvP8yJEjtXjxYi1atEj79u1Tjx49tGfPHn344Ydq0aKFnnvuuUrP/dhjj+no0aOSpJ07dzrPhYeHS5JGjx6tbt26GXtBVcjOzlZKSormzZt33n5r167VM8884/HzwXoI6AAAAABqhF69emn9+vWaPHmyFi9erNLSUl199dWaOXOmhg4d6tYYAQEBWrZsmWbMmKE333xTL7/8sho0aKC7775bzz33nBo3blzpMR988IHy8/Ndzi1ZssT57549e3oloJ84cUKXXXaZx+Og5iKgAwAAADCmXJ7PoP/KXeA7deqkTz/99IL90tPTlZ6eXmVbSEiIJk+e7PZO6Hl5eQYq9MzZJfee9kHNREAHAAAAYIwJS9wvBvv27bvgreIeffRRlyX7qF0I6AAAAABgAc2bN79gH3dvS4eaiYAOAAAAwBhm0H1i1KhRbvVzOBzVLt9HzUZABwAAAGBM6X8PT8eAizfffFMOh6PadofDIZvNRkCvxQjoAAAAAGABubm5lc45HA4dOXJE27Zt04svvqirr75af/nLX0yoDv5AQAcAAABgTLl+9S7sLmPARXXXoMfFxalTp04aNGiQ2rdvryVLlmj8+PF+rg7+EGB2AQAAAABqmLO3WfPkIKAbdumll+qWW27R66+/bnYp8BECOgAAAADUEDExMdq7d6/ZZcBHWOIOAAAAwBh2cTdNkyZNNGLECLPLgI8Q0AEAAAAYQ0D3KYfDoR9++EGNGjVSYGCgS9vYsWNNqgr+wBJ3AAAAALCA8vJyPf744woPD1dMTIwaNWqk2bNnO9uPHj2qxYsX69ChQyZWCV8ioAMAAAAwxtMN4rwxA18LvfTSS5ozZ46io6M1ZMgQhYWF6fHHH9eHH34oSapXr57uuecezZs3z+RK4SsEdAAAAADGsIu7T6Snp6tly5batWuX3n//fX311Vdq0qSJXn31VUlnAnpycrJWrlxpcqXwFQI6AAAAAFjA/v37deuttyo0NFSS1LBhQ910003avn27s098fLxyc3PNKhE+xiZxAAAAAIxhkzifaNq0qex2u8u5yy67TD///LPz5zp16qiwsNDfpcFPmEEHAAAAYEyplw64+MMf/qBPP/3UJZCHhoaqvPx/1wNs375dMTExZpQHPyCgAwAAAIAFTJ48WfHx8frtb3+rbdu2ubQ5HA699dZb+uyzz3TzzTebVCF8jSXuAAAAAIwpl+ebvLFJXCVXXXWVSktLdfDgQd1www0KDQ1VcHCwJOmSSy6R3W5Xy5YtNWXKFHMLhc8Q0AEAAAAYwzXoPhEQEKDg4GDFx8e7nI+OjlazZs3Up08fPfjgg6pfv745BcLnCOgAAAAAYAF79+41uwSYjIAOAAAAwJiz90H3dAwALtgkDgAAAIAxZV46YNgrr7yiFi1amF0GfIQZdAAAAACwiOXLl2vNmjU6duyYy+3VztqxY4fy8/OVmpoqm80mh8Oh9PR0/xcKnyCgAwAAADCmVJ6vxeU+6JXMnj1bjz/+uGw223n72Ww2vfnmm5JEQK9lCOgAAAAAjOE2az6xYMECtW7dWgsWLFBsbKwCAwMr9Zk7d67mzp2rvLw8/xcInyOgAwAAAIAF5OXlady4cerevXu1faKioiRJzZs391NV8CcCOgAAAABj2MXdJ0pLSxUWFmZ2GTARAR0AAACAMWXy/Bp0dnGvpEePHoqLiztvn/j4ePXs2dM/BcHvCOgAAAAAYAFr1qy5YJ+UlBSlpKT4oRqYgYAOAAAAwJhSSeffaNy9MQC4IKADAAAAMIZd3H2iRYsWbvVzOBzKy8vTvn371Lt3b+fPqPkI6AAAAABgAQEBAXI4HBfsd+590t19DGoGAjoAAAAAY9gkzif27t1rqH+LFi0MPwbW5unHCgAg6fvvv9fcuXPVt29fNW/eXMHBwYqOjtaQIUO0ZcsWs8sDAMC7zt5mzZODJe5AJQR0APCCP//5zxo7dqxyc3PVt29fjR8/Xt26ddOyZcvUpUsXLV682OwSAQBADXPixAl9//33OnHihNmlwE9Y4g4AXtCpUyetXbtWPXr0cDn/+eefKzk5Wffff78GDRqkkJAQkyoEAMCLvLEDO7u4V6m4uFgvvviiMjIylJub6zyfkJCglJQUPfnkk/w+UYvZHOwoAAA+1a9fP61cuVLbtm1Tx44d3XqM3W5XZGSkpKck8SUMABeXYkkzVFhYqIiICLOLceH8fupfKNXxsLZSu/RJpCVfp1lOnTqlXr16aevWrQoODlarVq3UtGlTHTlyRHv27FFJSYkSExOVmZmpevXqmV0ufIAl7gDgY3Xq1JEkBQWxaAkAAFRv5syZ2rZtm1JSUrRv3z7t2rVLn332mXbt2qXc3Fzdeeed2rZtm2bOnGl2qfARZtABwIf279+vyy+/XA0aNFBBQYECAwOr7FdcXKzi4mLnz3a7XbGxsWIGHQAuRjVgBv03XppBX84M+rmuuOIK1a9fX1u3bq22T2JiooqKivTNN9/4sTL4CzPoAOAjpaWluvPOO1VcXKyZM2dWG84lafr06YqMjHQeZ8I5AAAW5ekO7mcPuMjLy1NycvJ5+9x0003Ky8vzT0HwOwI6APhARUWFUlNTlZWVpXvuuUd33nnneftPmDBBhYWFzqOgoMBPlQIAAKuoV6+ejhw5ct4+R44c4frzWoyADgBeVlFRobvuukvvvPOO7rjjDs2bN++CjwkJCVFERITLAQCAZZXpzC7snhzMoFfSpUsXvffee/rXv/5VZftXX32lxYsXq3Pnzn6uDP7CjkUA4EUVFRUaNWqU3njjDQ0fPlzp6ekKCOBvoQCAWqZcks0LY8DFxIkTtWLFCt1www0aOXKkevXqpejoaB06dEiZmZnKyMhQeXm5Jk6caHap8BECOgB4ybnhfOjQoXrzzTfPe905AADAuTp37qx3331X99xzjxYsWKD58+c722w2m6KiojR//nx16dLFxCrhSwR0APCCs8va33jjDd1222166623COcAgNrLG8vTWeJepd/97nfq16+fli5dqh07dshutysiIkLt27fXoEGDFBYWZnaJ8CECOgB4wbRp05SRkaHw8HBdfvnleu655yr1GTRokNq3b+//4gAA8DYCuk+FhYXp9ttv1+233252KfAzAjoAeMHZ250UFRXp+eefr7JPfHw8AR0AAADVIqADgBekp6crPT3d7DIAAPCPMkkOD8dgk7hKpk6d6lY/h8OhKVOm+LYYmIKADgAAAMAYb4RrAnol06ZNq7bN4TjzFxGbzUZAr8UI6AAAAABgAZmZmVWet9vtys7O1ty5c5WcnKyHHnrIz5XBXwjoAAAAAIxhibtPdO/evdq2/v37a8SIEerQoYMGDx7sx6rgTwFmFwAAAACghinz0gFDWrVqpYEDB+qll14yuxT4CAEdAAAAAGqIpk2bavfu3WaXAR9hiTsAAAAAY8okVXg4hqePvwgVFxdr+fLlioqKMrsU+AgBHQAAAIAx5fL8GnQCeiUZGRlVni8rK9OBAwe0aNEifffdd3r44Yf9XBn8hYAOAAAAABZw1113yeFwyGazVdkeEBCg22+/XTNmzPBzZfAXAjoAAAAAY8rk+W5WzKBXsnDhwirPBwYGKioqStdff72io6P9XBX8iYAOAAAAwBgCuk+kpKSYXQJMxi7uAAAAAABYADPoAAAAAIwpFTPogA8Q0AEAAAAYUyHPd3H39PFALcQSdwAAAAAALIAZdAAAAADGlEmq+k5g7mMGHaiEgA4AAADAGAI64BMscQcAAAAAwAKYQQcAAABgTKmYQQd8gIAOAAAAwJhyEdABH2CJOwAAAAAAFsAMOgAAAADjmAEHvI4ZdAAAAAAALICADgAAAACABRDQAQAAAACwAAI6AAAAAAAWQEAHAAAAAMAC2MUdAAAAgEGl/z08HQPAuQjoAAAAAAwq++/h6RgAzsUSdwAAAAAALIAZdAAAAAAGscQd8AUCOgAAAACDWOIO+AJL3AEAAAAAsABm0AEAAAAYVCbPl6gzgw78EgEdAAAAgEFcgw74AkvcAQAAAACwAGbQAQAAABjEJnGALxDQAQAAABjENeiAL7DEHQAAAAAAC2AGHQAAAIBBLHEHfIGADgAAAMAgdnEHfIEl7gAAAAAAWAAz6AAAAAAMYok74AsEdAAAAAAGsYs74AsscQcAAAAAwAKYQQcAAABgEEvcAV8goAMAAAAwiF3cAV9giTsAAAAAABbADDoAAAAAg1jiDvgCAR0AAACAQeziDvgCS9wBAAAAALAAZtABAAAAGMQSd8AXCOgAAAAADGIXd8AXWOIOAAAAAIAFMIMOAAAAwCBm0AFfIKADAAAAMIhr0AFfYIk7AAAAAAAWwAw6AAAAAIO4DzrgCwR0AAAAAAaxxB3wBZa4AwAAAABgAcygAwAAADCoVJ5HCXZxB36JgA4AAADAIJa4A77AEncA8KJt27bp5ptvVlRUlMLCwpSUlKT33nvP7LIAAKg1vPFdW1xcrGnTpql169aqW7eumjVrpjFjxuiHH36o9jFvv/22OnXqpLCwMF1yySXq37+/srOzq+z71ltv6d5771XHjh0VEhIim82m9PR0QzXi4sQMOgB4SWZmpvr166e6detq2LBhql+/vpYsWaKhQ4eqoKBA48ePN7tEAAC8xJxd3L3xXVtRUaGBAwdqxYoVSkpK0pAhQ5STk6O0tDR99tln2rx5sxo3buzymOeff15PP/204uLidN999+nEiRN699131aVLF3322Wfq2rWrS/+nn35a+fn5atSokWJiYpSfn2/4teLiZHM4HA6ziwCAmq6srExt27bVgQMHtHnzZrVv316SVFhYqE6dOikvL0/fffed4uLi3BrPbrcrMjJS0lOSQnxWNwDAioolzVBhYaEiIiLMLsbF/76fpkqq6+FopyVNdvt1euu7duHChbrrrrs0fPhwvf3227LZbJKkefPm6f7779eYMWP06quvOvvn5OToyiuvVEJCgrZu3frf1y/t2LFDSUlJSkhI0K5duxQQ8L/FyatXr1br1q0VFxenGTNmaMKECVq4cKFSU1ONvUW46LDEHQC8YM2aNdq7d69GjBjh/IVBkiIjIzVx4kSVlJQoIyPDvAIBAKjhvPVdu2DBAknS9OnTneFcku69914lJCTo7bff1qlTp5znFy5cqLKyMv3f//2fM5xLUvv27TV8+HB98803Wr9+vctz9OnTx+0/ygPnIqADgBesXbtWktS3b99Kbf369ZMkrVu3zp8lAQDgQ6VeOtznje/a06dPa8uWLWrTpk2lAG2z2XTTTTfp5MmT+uKLL7z6vIC7COgA4AU5OTmSpNatW1dqi46OVnh4uLMPAAA1X5mXDvd547t27969qqioqHKMc8c+d5ycnByFh4crOjrarf6AJ9gkDgC8oLCwUJJclr6dKyIiwtmnKsXFxSouLq403pnrEAEAF5cz/++39lZR3vh+OjOG3W53ORsSEqKQkMr7r3j6XevuGOf2O/vvJk2auN0f8AQBHQAsYPr06Zo6dWoVLS/7vRYAgDX89NNP1QZJswQHBys6OlqHD3vn+yk8PFyxsbEu5yZPnqwpU6Z4ZXygpiGgA4AXnP0Fqrq/oNvtdl1yySXVPn7ChAkaN26c8+fjx48rLi5O+/fvt9wvZ1Zlt9sVGxurgoICy+16bFW8Z8bxnhnHe2ZcYWGhmjdvrgYNGphdSiV169bVvn37VFJS4pXxHA6Hy0ZtkqqcPZc8/651d4xz+539t5H+gCcI6ADgBedeg3b99de7tB0+fFhFRUXq1KlTtY+vbjlfZGQkv9AaFBERwXtmEO+ZcbxnxvGeGXfubbuspG7duqpb19NbrBnn6XetJCUkJCggIKDaa8arus69devW2rRpkw4fPlzpOvTzXRcP/BrW/NQDQA3To0cPSdLKlSsrta1YscKlDwAAMM4b37WhoaHq1KmTdu/erfz8fJc2h8OhVatWKSwsTB07dvTq8wLuIqADgBckJycrISFB77zzjnbs2OE8X1hYqBdeeEHBwcFKSUkxr0AAAGo4o9+1hw4d0rfffltpefqYMWMknbm87NyN+F599VXl5ubq9ttvV2hoqPP8qFGjFBQUpOeff95lrB07dmjRokW64oor1K1bN2+/XFykWOIOAF4QFBSktLQ09evXT927d9ewYcNUv359LVmyRPn5+Zo1a5bi4+PdHi8kJESTJ0+u9jo8VMZ7ZhzvmXG8Z8bxnhnHe1Y1o9+1EyZMUEZGhhYuXKjU1FTn+ZEjR2rx4sVatGiR9u3bpx49emjPnj368MMP1aJFCz333HMuz3v55ZdrypQpevrpp3XttddqyJAhOnHihN59911J0oIFCypdjpCWlqb169dLknbu3Ok8d/ae6t26ddPo0aO9/A6hNrA5rH3/BgCoUbZu3arJkydr48aNKi0t1dVXX61x48Zp6NChZpcGAECt4O53bWpqapUBXTpze9MZM2bozTffVEFBgRo0aKD+/fvrueeeU9OmTat83rfffltz587Vv//9bwUHB6tr16569tln1aFDh0p9zz53dUaOHKn09HTDrx21HwEdAAAAAAAL4Bp0AAAAAAAsgIAOAAAAAIAFENABAAAAALAAAjoAWMi2bdt08803KyoqSmFhYUpKStJ7771ndlmW9P3332vu3Lnq27evmjdvruDgYEVHR2vIkCHasmWL2eXVKDNnzpTNZpPNZtPmzZvNLseyPvroI910001q2LCh6tatqxYtWmj48OEqKCgwuzTLcTgc+vDDD9WrVy/FxMSoXr16atOmje69917l5uaaXZ6p3nrrLd17773q2LGjQkJCZLPZzrtZmN1u17hx4xQXF6eQkBDFx8fr8ccfV1FRkf+KBuA3bBIHABaRmZmpfv36qW7dulXeOmb8+PFml2gpTz31lGbOnKmWLVuqZ8+eaty4sXJycrR06VI5HA6988477J7vhl27dqljx44KCgrSyZMntWnTJiUlJZldlqU4HA7dd999mj9/vlq2bKl+/fqpfv36OnjwoNatW6e3336beyD/wvjx4zVnzhzFxMRo4MCBioiI0FdffaWVK1cqPDxcGzduVLt27cwu0xTx8fHKz89Xo0aNFBYWpvz8/Cp3GZekkydPqlu3btqxY4f69u2r6667Ttu3b9fKlSuVmJiorKws1a1b1/8vAoDvOAAApistLXW0bNnSERIS4ti+fbvz/PHjxx2XX365Izg42JGXl2degRa0ZMkSx9q1ayudz8rKctSpU8dxySWXOE6fPm1CZTVHSUmJo0OHDo4bbrjBcccddzgkOTZt2mR2WZYzd+5chyTHAw884CgrK6vUXlpaakJV1nXo0CFHQECAIy4uznH8+HGXtjlz5jgkOUaNGmVSdeZbtWqV8//n06dPd0hyLFy4sMq+zzzzjEOS48knn3Q5/+STTzokOV544QVflwvAz1jiDgAWsGbNGu3du1cjRoxQ+/btnecjIyM1ceJElZSUnPd+qhej3/3ud+rRo0el8zfeeKN69eqln3/+WTt37jShsprj+eef17///W+9/vrrCgwMNLscSzp16pSmTp2qhIQE/elPf6ryfQoKCjKhMuvKy8tTRUWFunbtqsjISJe2/v37S5J+/PFHM0qzhD59+iguLu6C/RwOh9LS0hQeHq5Jkya5tE2aNEnh4eFKS0vzVZkATEJABwALWLt2rSSpb9++ldr69esnSVq3bp0/S6rR6tSpI4ngdD7Z2dl6/vnnNXnyZF155ZVml2NZK1eu1M8//6xBgwapvLxcH374oWbMmKF58+Zpz549ZpdnSa1bt1ZwcLA2bNggu93u0vbJJ59IkpKTk80orUbJycnRwYMH1bVrV4WFhbm0hYWFqWvXrsrNzWUPBKCW4TcXALCAnJwcSWd+sf2l6OhohYeHO/vg/Pbv36/Vq1crJiZGV199tdnlWFJxcbFSUlLUvn17PfHEE2aXY2lffvmlJCkwMFDXXHONvvvuO2dbQECAxo4dq1mzZplVniU1bNhQM2bM0Pjx49W2bVuXa9DXrFmjBx54QA8++KDZZVre+b4Xzp5fsWKFcnJyFBsb68/SAPgQAR0ALKCwsFCSKi0HPSsiIsLZB9UrLS3VnXfeqeLiYs2cOZNl29V45plnlJOToy+//JL36AJ++OEHSdKcOXPUoUMHbd26VVdccYW2b9+uMWPGaPbs2WrZsqXuv/9+kyu1lrFjx+rSSy/V6NGjNW/ePOf5bt26acSIEaxucYM73wvn9gNQO7DEHQBQK1RUVCg1NVVZWVm65557dOedd5pdkiVt2rRJs2bN0tNPP33R7qJtREVFhSQpODhYS5cuVWJiosLDw3XjjTfq/fffV0BAgGbPnm1yldYzbdo03XHHHZo4caIKCgp04sQJff755zp9+rR69uypjz/+2OwSAcCSCOgAYAFnZ0iqmwmx2+3VzqLgTIi666679M477+iOO+5wmbHD/5SVlWnkyJG65ppr9NRTT5ldTo1w9nPXsWNHNWvWzKWtXbt2SkhI0N69e3X8+HETqrOm1atXa/LkyXrwwQf11FNP6bLLLlN4eLi6deumf/zjH6pTpw63jXSDO98L5/YDUDsQ0AHAAs5eY1jVdeaHDx9WUVFRtdchXuwqKio0atQoZWRkaPjw4UpPT1dAAF9vVSkqKlJOTo527Nih4OBg2Ww253H2LgGdO3eWzWbT0qVLzS3WItq0aSNJioqKqrL97PlTp075qSLr+/TTTyVJvXr1qtQWHR2ttm3bas+ePSoqKvJ3aTXK+b4Xzj3PdwNQu3ABEABYQI8ePTR9+nStXLlSw4YNc2lbsWKFsw9cnQ3nb7zxhoYOHao333yTa6rPIyQkRHfffXeVbVlZWcrJydGAAQPUuHFjxcfH+7c4izobMr/55ptKbaWlpdqzZ4/CwsLUuHFjf5dmWSUlJZKqv5Xajz/+qICAAOfdFlC11q1bq1mzZtqwYYNOnjzpspP7yZMntWHDBrVo0YIN4oBahikGALCA5ORkJSQk6J133tGOHTuc5wsLC/XCCy8oODhYKSkp5hVoQWeXtb/xxhu67bbb9NZbbxHOLyA0NFRpaWlVHl26dJEkTZgwQWlpaWrfvr25xVpEy5Yt1bdvX+3Zs6fSPadnzJih48ePa/DgwWx6do6uXbtKOrOx3i+XZ8+bN08HDhxQ586dFRISYkZ5NYbNZtPo0aNVVFSkZ5991qXt2WefVVFRke655x6TqgPgKzaHw+EwuwgAgJSZmal+/fqpbt26GjZsmOrXr68lS5YoPz9fs2bN4prNX5gyZYqmTp2q8PBwPfLII1UGpEGDBhE03ZSamqqMjAxt2rRJSUlJZpdjKXv37lWXLl30ww8/6JZbblHbtm21fft2rVmzRnFxcdq8ebOio6PNLtMyysvL1bt3b2VlZalJkyYaMGCAoqKilJ2drTVr1ig0NFRr165Vp06dzC7VFGlpaVq/fr0kaefOncrOzlbXrl3VqlUrSWd2uh89erSkMzPlXbt21VdffaW+ffuqQ4cOys7O1sqVK5WYmKh169YpNDTUtNcCwPsI6ABgIVu3btXkyZO1ceNGlZaW6uqrr9a4ceM0dOhQs0uznLOB8nwWLlyo1NRU/xRUwxHQz6+goEDPPPOMli9frp9++knR0dEaMGCAnnnmGTVp0sTs8iynuLhYL7/8st577z3t3r1bJSUlatq0qXr16qWJEyfqiiuuMLtE01zo/10jR45Uenq68+fCwkJNmTJFS5Ys0eHDhxUTE6PbbrtNkydPVv369f1QMQB/IqADAAAAAGABXIMOAAAAAIAFENABAAAAALAAAjoAAAAAABZAQAcAAAAAwAII6AAAAAAAWAABHQAAAAAACyCgAwAAAABgAQR0AAAAAAAsgIAOAAAAAIAFENABAAAAALAAAjoAAAAAABZAQAcAAAAAwAII6AAAAAAAWAABHQAAAAAACyCgAwAAAABgAQR0AAAAAAAsgIAOAAAAAIAFENABAAAAALAAAjoAAAAAABZAQAcAAAAAwAII6AAAAAAAWAABHQAAAAAACyCgAwAAAABgAQR0AAAAAAAsgIAOAAAAAIAFENABAAAAALAAAjoAAAAAABZAQAcAAAAAwAII6AAAAAAAWMD/B6mPh0QBTtyWAAAAAElFTkSuQmCC' width=1000.0/>\n",
       "            </div>\n",
       "        "
      ],
      "text/plain": [
       "Canvas(toolbar=Toolbar(toolitems=[('Home', 'Reset original view', 'home', 'home'), ('Back', 'Back to previous …"
      ]
     },
     "metadata": {},
     "output_type": "display_data"
    }
   ],
   "source": [
    "fig, ax = plt.subplots(figsize=(10, 5))\n",
    "img2 = ax.imshow(np.random.uniform(size=(10,10)), vmin=-3, vmax=0.5, cmap='jet')\n",
    "cbar = fig.colorbar(img2)\n",
    "cbar.ax.set_ylabel('Contaminant concentration', rotation=270, labelpad=12, fontsize=14)\n",
    "cbar.ax.set_yticks([-3, -2, -1, 0])\n",
    "cbar.ax.set_yticklabels([0.001, 0.01, 0.1, 1])\n",
    "cbar.ax.tick_params(axis='y', labelsize=14)\n",
    "\n",
    "\n",
    "def plot_solution(Time):\n",
    "    ax.clear()\n",
    "    ax.imshow(np.log10(sol.y[:, Time].reshape(N_x, N_y)), interpolation='nearest',\n",
    "                    cmap='jet', vmin=-3, vmax=0.5, origin='lower', extent=[0, lx, 0, ly])\n",
    "    ax.set_title(f'Time: {sol.t[Time]:.2f}', fontsize=16)\n",
    "    ax.tick_params(axis='both', labelsize=14)\n",
    "    # cbar.ax.yaxis.set_ticks_position('left')\n",
    "\n",
    "\n",
    "widgets.interactive(plot_solution, Time=widgets.IntSlider(min=1, max=(len(sol.t)-1), value=0))\n"
   ]
  },
  {
   "cell_type": "code",
   "execution_count": 204,
   "metadata": {},
   "outputs": [],
   "source": [
    "plt.close('all')"
   ]
  }
 ],
 "metadata": {
  "interpreter": {
   "hash": "87df4c83b56fb8b58e6fe6434764317a79f3f72ebd797e1bfe209587b31ed721"
  },
  "kernelspec": {
   "display_name": "Python 3.9.7 64-bit ('.venv': poetry)",
   "language": "python",
   "name": "python3"
  },
  "language_info": {
   "codemirror_mode": {
    "name": "ipython",
    "version": 3
   },
   "file_extension": ".py",
   "mimetype": "text/x-python",
   "name": "python",
   "nbconvert_exporter": "python",
   "pygments_lexer": "ipython3",
   "version": "3.9.7"
  },
  "orig_nbformat": 4
 },
 "nbformat": 4,
 "nbformat_minor": 2
}
