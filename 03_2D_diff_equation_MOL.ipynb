{
 "cells": [
  {
   "cell_type": "markdown",
   "metadata": {},
   "source": [
    "# SciPy solve_ivp example for solving 2D diffusion equation in a rectangular grid"
   ]
  },
  {
   "cell_type": "code",
   "execution_count": 1,
   "metadata": {},
   "outputs": [],
   "source": [
    "import numpy as np\n",
    "import matplotlib.pyplot as plt\n",
    "from scipy.integrate import solve_ivp\n",
    "import ipywidgets as widgets\n",
    "%matplotlib widget"
   ]
  },
  {
   "cell_type": "markdown",
   "metadata": {},
   "source": [
    "## Modelled system\n",
    "\n",
    "The modelled system is a rectangular surface of a pond. When a contaminant is spilled in the pond it will diffuse on the surface. The evolution of the contaminant concentration C is described by Fick's second law\n",
    "\n",
    "\\begin{align*}\n",
    "    \\frac{\\partial C}{\\partial t} &= D \\Delta^2 C \\\\\n",
    "    &= D \\left( \\frac{\\partial^2 C}{\\partial x^2} + \\frac{\\partial^2 C}{\\partial y^2} \\right)\n",
    "\\end{align*}\n",
    "\n",
    "where D is the diffusion coefficient of the contaminant in water\n",
    "\n",
    "We well be using the [method of lines](http://hplgit.github.io/prog4comp/doc/pub/p4c-sphinx-Python/._pylight006.html#reduction-of-a-pde-to-a-system-of-odes) approach to transform the PDE into a system of ODEs. This is done by discretizing the spatial dimension.\n",
    "\n",
    "We will follow the central difference scheme in the above link. The change of concentration in an element i is\n",
    "\n",
    "\\begin{equation*}\n",
    "    \\frac{\\mathrm{d}C_{i,j}}{\\mathrm{d}t} = D\\left( \\frac{C(x_{i+1},t) - 2C(x,t) + C(x_{i-1},t)}{(\\Delta x)^2} +\\frac{C(y_{i+1},t) - 2C(y,t) + C(y_{i-1},t)}{(\\Delta y)^2} \\right)\n",
    "\\end{equation*}\n",
    "\n",
    "Finally, we need to decide what is the change of concentration at the boundaries of the rectangle (boundary conditions). For simplicity we will assume Dirichlet boundary condition and assume that the concentration at the boundary is \n",
    "\n",
    "\\begin{equation*}\n",
    "    C_{\\mathrm{boundary}} = C_0\n",
    "\\end{equation*}\n",
    "\n",
    "Now that we have discretized the equation we are left with $(N-1) \\cdot (M-1)$ ordinary differential equations of the form\n",
    "\n",
    "\\begin{align*}\n",
    "\\frac{\\mathrm{d}C_{1,1}}{\\mathrm{d}t} &= D\\left(  \\frac{C_{2,1} - 2C_{1, 1} + C_{0, 1},t)}{(\\Delta x)^2} +\\frac{C_{1,2} - 2C_{1, 1} + C_{1,0}}{(\\Delta y)^2} \\right) \\\\\n",
    "&\\;\\;\\vdots \\\\\n",
    "\\frac{\\mathrm{d}C_{N-1,M-1}}{\\mathrm{d}t} &= D\\left(  \\frac{C_{N,M-1} - 2C_{N-1, M-1} + C_{N-2, M},t)}{(\\Delta x)^2} +\\frac{C_{N-1,M} - 2C_{N-1, M-1} + C_{N-1, M-2}}{(\\Delta y)^2} \\right)\n",
    "\\end{align*}\n",
    "\n",
    "where N is the number of horizontal elements in the rectangular grid and M is the number of vertical elements"
   ]
  }
 ],
 "metadata": {
  "interpreter": {
   "hash": "87df4c83b56fb8b58e6fe6434764317a79f3f72ebd797e1bfe209587b31ed721"
  },
  "kernelspec": {
   "display_name": "Python 3.9.7 64-bit ('.venv': poetry)",
   "language": "python",
   "name": "python3"
  },
  "language_info": {
   "codemirror_mode": {
    "name": "ipython",
    "version": 3
   },
   "file_extension": ".py",
   "mimetype": "text/x-python",
   "name": "python",
   "nbconvert_exporter": "python",
   "pygments_lexer": "ipython3",
   "version": "3.9.7"
  },
  "orig_nbformat": 4
 },
 "nbformat": 4,
 "nbformat_minor": 2
}
