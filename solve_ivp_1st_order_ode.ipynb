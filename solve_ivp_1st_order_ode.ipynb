{
 "cells": [
  {
   "cell_type": "markdown",
   "metadata": {},
   "source": [
    "# Scipy ODE solver demo"
   ]
  },
  {
   "cell_type": "code",
   "execution_count": 46,
   "metadata": {},
   "outputs": [],
   "source": [
    "import numpy as np\n",
    "import matplotlib.pyplot as plt\n",
    "from scipy.integrate import solve_ivp\n",
    "import ipywidgets as widgets\n",
    "%matplotlib widget"
   ]
  },
  {
   "cell_type": "markdown",
   "metadata": {},
   "source": [
    "## Modelled system\n",
    "\n",
    "Modelled system is an imaginary 1 D heat equation\n",
    "\n",
    "\\begin{align}\n",
    "\\frac{\\partial T}{\\partial t} &= -C^{-1}\\left(\\frac{\\partial q}{\\partial x} - s\\right) \\\\\n",
    "s &= T \\cdot a,\n",
    "\\end{align}\n",
    "\n",
    "where T is the temperature (K), C is the volumetric heat capacity (J m<sup>-3</sup>K<sup>-1</sup>), q is the conductive heat flux (W m<sup>-2</sup>) and s is an imaginary source term (W m<sup>-3</sup>). For demonstration purposes we will assume completely random numerical values for the terms. We will solve this equation in domain $x \\in [0, 1]$; $t \\in [0, 50]$. We will assume that the conductive heat flux from left and right of the system is zero.\n"
   ]
  },
  {
   "cell_type": "markdown",
   "metadata": {},
   "source": [
    "## Define params dictionary for constant terms\n",
    "\n",
    "- c: volumetric heat capacity\n",
    "- q: conductive heat flux\n",
    "- x: space discretization\n",
    "- a: constant a for calcuting the imaginary source term s\n",
    "- Nx: number of x elements"
   ]
  },
  {
   "cell_type": "code",
   "execution_count": 77,
   "metadata": {},
   "outputs": [],
   "source": [
    "Nx = 10\n",
    "params = {'c': 5, 'q': np.random.random((Nx,))*0.1, 'x': np.linspace(0,1,Nx+1), 'a': 0.01, 'Nx': Nx}"
   ]
  },
  {
   "cell_type": "markdown",
   "metadata": {},
   "source": [
    "## Define the right hand side of eq. (1)\n",
    "\n",
    "t is time and y will containt the solutions of T from previous ode solver time step."
   ]
  },
  {
   "cell_type": "code",
   "execution_count": 64,
   "metadata": {},
   "outputs": [],
   "source": [
    "def odefun(t,y,params):\n",
    "    s = y * params['a']\n",
    "    dq_left = np.zeros((params['Nx'],))\n",
    "    dq_right = np.zeros((params['Nx'],))\n",
    "    dq_left[1:] = -1.0*np.diff(params['q'], axis=0)\n",
    "    dq_right[:-1] = np.diff(params['q'], axis=0)\n",
    "    dq = dq_left + dq_right\n",
    "    dTdt = -params['c']**(-1) * (dq/np.diff(params['x'], axis=0) - s)\n",
    "    return dTdt"
   ]
  },
  {
   "cell_type": "markdown",
   "metadata": {},
   "source": [
    "## Set initial temperature profile"
   ]
  },
  {
   "cell_type": "code",
   "execution_count": 69,
   "metadata": {},
   "outputs": [],
   "source": [
    "T_init = np.ones((10,))\n",
    "T_init[5] = 4"
   ]
  },
  {
   "cell_type": "markdown",
   "metadata": {},
   "source": [
    "## Solve ODE by calling solve_ivp\n",
    "\n",
    "Setting monotonically increasing array in t_eval gives more solution points"
   ]
  },
  {
   "cell_type": "code",
   "execution_count": 78,
   "metadata": {},
   "outputs": [],
   "source": [
    "solution = solve_ivp(lambda t,y: odefun(t,y,params), (0, 50), T_init, method='RK45', t_eval = np.linspace(0,50,51))"
   ]
  },
  {
   "cell_type": "markdown",
   "metadata": {},
   "source": [
    "## Solution has the following fields"
   ]
  },
  {
   "cell_type": "code",
   "execution_count": 70,
   "metadata": {},
   "outputs": [
    {
     "data": {
      "text/plain": [
       "dict_keys(['t', 'y', 'sol', 't_events', 'y_events', 'nfev', 'njev', 'nlu', 'status', 'message', 'success'])"
      ]
     },
     "execution_count": 70,
     "metadata": {},
     "output_type": "execute_result"
    }
   ],
   "source": [
    "solution.keys()"
   ]
  },
  {
   "cell_type": "markdown",
   "metadata": {},
   "source": [
    "## Visualize solution"
   ]
  },
  {
   "cell_type": "code",
   "execution_count": 80,
   "metadata": {},
   "outputs": [
    {
     "data": {
      "application/vnd.jupyter.widget-view+json": {
       "model_id": "fe5b1b562d094ea08cf73335a45b9286",
       "version_major": 2,
       "version_minor": 0
      },
      "text/plain": [
       "interactive(children=(IntSlider(value=0, description='iy', max=50), Output()), _dom_classes=('widget-interact'…"
      ]
     },
     "metadata": {},
     "output_type": "display_data"
    },
    {
     "data": {
      "application/vnd.jupyter.widget-view+json": {
       "model_id": "c3a43aaf9f124569b962816ad68348a2",
       "version_major": 2,
       "version_minor": 0
      },
      "text/html": [
       "\n",
       "            <div style=\"display: inline-block;\">\n",
       "                <div class=\"jupyter-widgets widget-label\" style=\"text-align: center;\">\n",
       "                    Figure\n",
       "                </div>\n",
       "                <img src='data:image/png;base64,iVBORw0KGgoAAAANSUhEUgAAA+gAAAH0CAYAAACuKActAAAAOXRFWHRTb2Z0d2FyZQBNYXRwbG90bGliIHZlcnNpb24zLjUuMCwgaHR0cHM6Ly9tYXRwbG90bGliLm9yZy8/fFQqAAAACXBIWXMAAA9hAAAPYQGoP6dpAABWzElEQVR4nO3de3zP9f//8ft7xuxgGzZGZnMKIZKRJjY0h/oop0QJoVBSdFL60FEppSgVZQ5FOtAJEzayalFTlDnPac6x2TCzvX5/vH/bt312sPE+vN7b7Xq5vC8XXq/n6/l6vHg53N+v5/P5shiGYQgAAAAAADiVm7MLAAAAAAAABHQAAAAAAEyBgA4AAAAAgAkQ0AEAAAAAMAECOgAAAAAAJkBABwAAAADABAjoAAAAAACYAAEdAAAAAAATIKADAAAAAGACBHQAAAAAAEyAgA4AAAAAgAkQ0AEAAAAAMAECOgAAAAAAJkBABwAAAADABAjoAAAAAACYAAEdAAAAAAATIKADAAAAAGACBHQAAAAAAEyAgA4AAAAAgAkQ0AEAAAAAMAECOgAAAAAAJkBABwAAAADABAjoAAAAAACYAAEdAAAAAAATIKADAAAAAGACBHQAAAAAAEyAgA4AAAAAgAkQ0AEAAAAAMAECOgAAAAAAJkBABwAAAADABAjoAAAAAACYAAEdAAAAAAATIKADAAAAAGACBHQAAAAAAEyAgA4AAAAAgAkQ0AEA5Z7FYin1JyIiQpIUEREhi8WiuLg4p16Dvf3222/q37+/atasqcqVK6tevXoaO3asjh8/fsV9Hjt2TA8//LDq1asnDw8P1axZU/3799fvv/9uw8oBAHAd7s4uAAAAZxsyZEiBbUePHlVMTEyR+5s0aWL3usziiy++0MCBA3Xp0iWFhYWpXr162rx5s2bNmqXPP/9cGzduVMOGDUvV586dO3XLLbfo+PHjql+/vu68807t27dPX3zxhZYvX66lS5eqd+/edroiAADMyWIYhuHsIgAAMJu4uDhFRkZKkor7p/LAgQM6d+6c6tatKy8vL0eV5zApKSlq1KiRzp07pw8++EAPPPCAJCk7O1tDhw7VokWLFBYWpoSEBFkslhL1aRiGbrzxRiUmJmrw4MGaN2+eKlSoIEn68MMP9eCDD8rHx0e7du1SUFCQ3a4NAACzYYg7AABXoW7dumrSpEmZDOeSNGPGDJ07d05du3bNC+eSVKFCBc2ePVt+fn7atGmTVq9eXeI+V65cqcTERPn7++u9997LC+eS9MADD6hLly5KT0/X22+/bdNrAQDA7AjoAABchaLmoA8dOlQWi0XR0dHasWOHBgwYoBo1asjb21thYWH6+uuv89omJCSoV69eCgwMlKenp9q3b6+1a9cWec7z589r+vTpuummm+Tv76/KlSurcePGevLJJ3Xq1CmbXt+yZcskSYMGDSqwz8fHR7169ZIkffXVV6Xus1evXvLx8SmwP/dcpelTss6THzBggOrUqaNKlSrJ19dX9evXV9++ffP9egMAYFYEdAAA7Oj333/XjTfeqD/++ENdunRRy5YttXnzZvXu3TtvvvUtt9yiQ4cOqUuXLmrcuLF++eUXde/eXRs3bizQX0pKitq1a6fHH39cu3btUlhYmHr27KnMzEy9/vrratOmjfbv31/guNwvEqZMmVLi2s+ePavdu3dLktq0aVNom9ztiYmJJe43t+3l+ty1a5cyMjJK1OfatWvVvn17LV26VAEBAbrjjjvUtWtXBQYG6vvvv9e8efNKXB8AAM7CInEAANjRzJkz9dJLL+mZZ57Jm6M9c+ZMPfLII3rssceUkZGhjz76SIMHD8475rHHHtOMGTP0/PPP64cffsjbbhiG7rrrLm3dulXDhw/XW2+9pSpVqkiSLl26pKefflrTp0/XsGHDtG7duquuPTk5Oe/HdevWLbRNcHCwJGnfvn0l7je37eX6NAxDycnJatas2WX7fPnll5WVlaVFixbpnnvuybcvNTVV27dvL3F9AAA4C0/QAQCwo7Zt2+YL55I0evRoVatWTYcOHVLXrl3zhXNJmjRpkiRpw4YNysrKytseExOj+Ph4tWrVSu+//35eOJckd3d3TZs2Tc2bN1dsbKy2bduWr8+6deuqcePGCggIKHHtZ8+ezfuxt7d3oW1yh6inpaWVut/L9Vmafo8dOyZJ6tmzZ4F9fn5+uummm0pcHwAAzkJABwDAjnr06FFgdXN3d3fVq1dPUuGBsnr16qpWrZouXryYb075999/L0nq27ev3N0LDoJzc3NTx44dJUk//fRTvn0LFixQUlKSHn744au7IJNq27atJOmee+7Rxo0bdenSJSdXBABA6RHQAQCwo6KGcec+JS5qf+7T8QsXLuRt27t3ryTpueeek8ViKfTz3nvvSZJOnDhx1bX/+wl9UXPB09PTJUm+vr6l7vdyfZam36lTp6p169ZauXKlbrnlFvn6+qpDhw6aNGkSw9sBAC6DOegAANiRm1vx34Vfbv+/5eTkSJI6dOigBg0aFNu2JPO2LyckJCTvxwcOHFCLFi0KtDl48KAkKTQ0tMT9hoaG6p9//tGBAwcK3Z/bp8ViyVdDcYKCgrR582atX79ea9asUXx8vBISEhQfH69XXnlFU6dO1VNPPVXiGgEAcAYCOgAALiJ38bQ77rhDjz/+uN3P5+vrq4YNG2r37t3avHlzoQF98+bNkqTWrVuXuN/WrVvr999/zzu2qD4bNWpU6GvYimKxWBQREaGIiAhJ1tEH0dHReuihh/TMM8+oX79+l/1iAwAAZ2KIOwAALqJHjx6SpM8//1yGYTjknL1795YkffrppwX2paen69tvv5Uk9enTp9R9fvPNN4UOc889V2n6LEzlypU1atQoXX/99crJydGff/55Vf0BAGBvBHQAAFzEHXfcobCwMP36668aNmxYofPMT58+rffff7/AImn33XefmjRpolmzZpXqnI8++qi8vLy0Zs0azZkzJ297dna2xowZozNnzigsLExRUVH5jjt8+LCaNGmiJk2a6PDhw/n29ejRQzfccIPOnDmjMWPGKDs7O2/fhx9+qLVr18rHx0fjxo0rcZ1vvPFGoUPmk5KStGvXLkkq8XB5AACchSHuAAC4CDc3Ny1fvly33Xab5s+fry+++EItW7ZU3bp1dfHiRe3du1dbt25Vdna2hg4dmm+l9wMHDmjHjh06efJkqc5Zu3ZtRUdHa+DAgXrggQf00UcfKTQ0VJs2bdLevXtVs2ZNffrppwVWqs/KytKOHTvyfvxvFotFixcv1i233KIFCxZo48aNCgsL0759+/Trr7/K3d1dCxYsUFBQUInrfOmll/TEE0+oSZMmatq0qTw9PZWSkpK3ovt9991XqmH4AAA4A0/QAQBwIbVr19Yvv/yi999/X23bttWOHTv0xRdfaOPGjZKkUaNGKSYmRpUrV7bZOfv376+EhAT16dNHe/fu1bJly5Sdna2HHnpIf/zxhxo2bFjqPhs3bqw///xTDz30kLKzs7Vs2TLt27dPffr0UUJCQt4w+JJ69913NWzYMLm7u2v9+vX68ssvtW/fPt16661atmyZoqOjS10jAACOZjEcNYkNAAAAAAAUiSfoAAAAAACYAAEdAAAAAAATIKADAAAAAGACBHQAAAAAAEyAgA4AAAAAgAkQ0AEAAAAAMAF3ZxcAx8rJyVFKSoqqVKkii8Xi7HIAAAAAOIlhGDp79qxq164tNzee3ZoBAb2cSUlJUXBwsLPLAAAAAGASBw8eVJ06dZxdBkRAL3eqVKkiyfqH0NfX18nVAAAAAHCWtLQ0BQcH52UEOB8BvZzJHdbu6+tLQAcAAADA1FcTYaIBAAAAAAAmQEAHAAAAAMAECOgAAAAAAJgAc9ABAAAAXLXs7GxlZWU5uwz8S8WKFVWhQgVnl4FSIKADAAAAuGKGYejo0aM6c+aMs0tBIfz9/RUUFMRCcC6CgA4AAADgiuWG8xo1asjLy4sgaBKGYejcuXM6fvy4JKlWrVpOrgglQUAHAAAAcEWys7Pzwnn16tWdXQ7+h6enpyTp+PHjqlGjBsPdXQCLxAEAAAC4Irlzzr28vJxcCYqS+3vD+gCugYAOAAAA4KowrN28+L1xLQR0AAAAAABMgIAOAAAAACWUnJwsi8WiLVu2XHVfFotFy5cvv+p+UHYQ0AEAAADAjqZMmaJWrVoV2H7kyBH16NHD8QXBtAjoJbRo0SI9+OCDatOmjTw8PGSxWBQdHV2gXVZWlr788ksNGTJETZs2lY+Pj6pUqaJ27dpp9uzZys7OLtV5Q0NDZbFYCv1ERETY5uIAAAAAOFxQUJA8PDycXQZMhNesldCkSZO0f/9+BQQEqFatWtq/f3+h7fbs2aN+/frJx8dHXbp0Ua9evZSamqpvv/1WY8aM0YoVK/TNN9+UarEGPz8/PfroowW2h4aGXuHVAAAAALY3cqS0bZtza2jeXJoz5/LtvvjiCz3//PPavXu3vLy8dMMNN+jrr7+Wp6enXnrpJX344Yc6ceKEmjZtqldffVXdu3cvtJ/o6Gg9+uijOnPmTN625cuXq3fv3jIMQ9HR0Xr++ecl/d+CbfPmzdPQoUNlsVi0bNky3XnnnZKkrVu3aty4cfr555/l5eWlvn376s0335SPj48kaejQoTpz5ow6dOig6dOn6+LFi7r77rs1Y8YMVaxY8cp/0WAaBPQSmjt3rho1aqSQkBC9+uqrmjhxYqHtqlSponfffVdDhgyRt7d33vbp06crIiJC3333nb744gv179+/xOf29/fXlClTrvYSAAAAALvatk365RdnV3F5R44c0cCBAzVt2jT17t1bZ8+e1Y8//ijDMPT2229r+vTp+uCDD3TDDTfo448/Vq9evfTXX3+pUaNGpT7XgAEDtG3bNq1atUpr1qyRZH0A978yMjLUrVs3tW/fXps2bdLx48c1YsQIPfzww/lG7sbGxqpWrVqKjY3V7t27NWDAALVq1UojR4684l8PmAdD3Euoa9euCgkJuWy7a665RmPGjMkXziXJ29tb48ePlyStX7/eLjUCAAAAuLwjR47o0qVL6tOnj0JDQ9WiRQuNGTNGPj4+euONN/TUU0/p7rvvVuPGjfXaa6+pVatWmjFjxhWdy9PTUz4+PnJ3d1dQUJCCgoLk6elZoN2nn36qCxcuaMGCBWrevLk6d+6sWbNmaeHChTp27Fheu6pVq2rWrFlq0qSJbr/9dt12221au3btlf5SwGR4gu5AucNO3N1L98uemZmp6OhopaSkyNfXV2FhYWrXrp09SgQAAADKvJYtW6pLly5q0aKFunXrpqioKPXr108VKlRQSkqKwsPD87UPDw/XH3/8Ydeatm/frpYtW+Z70BceHq6cnBzt2LFDNWvWlCQ1a9ZMFSpUyGtTq1Ytbd261a61wXEI6A708ccfS5KioqJKddzRo0c1bNiwfNvCwsK0ePFiNWjQoNhjMzMzlZmZmffztLS0Up0bAAAAKGsqVKigH374QT/99JNWr16tmTNn6tlnn9UPP/xQ6r7c3NxkGEa+bVlZWbYqtYD/nWtusViUk5Njt/PBsQjoDvLhhx9q5cqV6ty5s3r27Fni44YNG6ZbbrlFzZs3l4+Pj3bu3Kk333xTCxcuVJcuXbR161ZVqVKlyOOnTp2atygFAAAAYE/Nmzu7gpLXYLFYFB4ervDwcP33v/9VSEiI1q5dq9q1ays+Pl6dOnXKaxsfH6+2bdsW2k9gYKDOnj2rjIyMvKff//uO9EqVKl32bU5NmzZVdHR0vn7i4+Pl5uamxo0bl+yi4PII6A7w3Xff6eGHH1ZISIgWLVpUqmMnT56c7+etWrXSggULJEkLFy7UnDlz8ua2F2bixIn59qelpSk4OLhUNQAAAAAlUZLV080gISFBa9euVVRUlGrUqKGEhIS8FdufeOIJTZ48WQ0aNFCrVq00b948bdmyRZ988kmhfbVr105eXl565pln9MgjjyghIaHA65hDQ0O1b98+bdmyRXXq1FGVKlUKvF7tnnvu0eTJkzVkyBBNmTJFJ06c0NixYzV48OC84e0o+1gkzs5WrFihfv36qWbNmlq3bp1q1aplk34ffPBBSdZv1Yrj4eEhX1/ffB8AAACgPPP19dWGDRvUs2dPXXvttZo0aZKmT5+uHj166JFHHtH48eM1YcIEtWjRQqtWrdI333xT5Aru1apV06JFi7RixQq1aNFCixcvLvAGpr59+6p79+6KjIxUYGCgFi9eXKAfLy8vxcTE6J9//lFYWJj69eunLl26aNasWfb4JYBJWYz/nTCBy8p9zVru+wuL8v3336tv374KCAhQXFycGjZsaLMaduzYoSZNmqhbt25atWpViY9LS0uTn5+fUlNTCesAAAC4KhcuXNC+fftUr149Va5c2dnloBDF/R6RDcyHJ+h2khvOq1WrptjYWJuGc8k6LEeyDpcBAAAAALg+ArodrFy5Un379lXVqlUVGxtb5HCYXFlZWUpKStKePXvybU9KStK5c+cKtE9KStJTTz0lSRo0aJDtCgcAAAAAOA2LxJXQ3LlztXHjRknKe8/g3LlzFRcXJ0nq0KGDRowYoaSkJPXu3VuZmZmKiIgodH5JaGhovqHxhw8fVtOmTRUSEqLk5OS87UuWLNGbb76pjh07KiQkRN7e3tq5c6dWrFihrKwsTZw4UR07drTbNQMAAAAAHIeAXkIbN27U/Pnz822Lj4/Pt0jbiBEjdPTo0bz3ji9ZsqTQvjp16lTs3PVckZGR2r59uxITE/Xjjz/q3LlzCggIUM+ePTVmzJhSv08dAAAAAGBeLBJXzrAQBAAAAGwldwGy0NBQeXp6OrscFOL8+fNKTk5mkTgXwRx0AAAAAFekYsWKklToukkwh9zfm9zfK5gbQ9wBAAAAXJEKFSrI399fx48fl2R9l7fFYnFyVZAkwzB07tw5HT9+XP7+/qpQoYKzS0IJENABAAAAXLGgoCBJygvpMBd/f/+83yOYHwEdAAAAwBWzWCyqVauWatSooaysLGeXg3+pWLEiT85dDAEdAAAAwFWrUKECYRC4SiwSBwAAAACACRDQAQAAAAAwAQI6AAAAAAAmQEAHAAAAAMAECOgAAAAAAJgAAR0AAAAAABMgoAMAAAAAYAIEdAAAAAAATICADgAAAACACRDQAQAAAAAwAQI6AAAAAAAmQEAHAAAAAMAECOgAAAAAAJgAAR0AAAAAABMgoAMAAAAAYAIEdAAAAAAATICADgAAAACACRDQAQAAAAAwAQI6AAAAAAAmQEAHAAAAAMAECOgAAAAAAJgAAR0AAAAAABMgoAMAAAAAYAIEdAAAAAAATICAXkKLFi3Sgw8+qDZt2sjDw0MWi0XR0dFFtk9LS9P48eMVEhIiDw8PhYaG6oknnlB6enqpzx0TE6NOnTqpSpUq8vX1VWRkpNauXXsVVwMAAAAAMBt3ZxfgKiZNmqT9+/crICBAtWrV0v79+4tsm5GRoU6dOmnLli2KiorSwIEDlZiYqDfeeEPr16/Xhg0bVLly5RKdd9GiRRo8eLACAwM1dOhQSdJnn32mW2+9VUuXLlW/fv1scXkAAAAAACfjCXoJzZ07V8nJyTpx4oRGjRpVbNtp06Zpy5YteuqppxQTE6NXX31VMTExeuqpp7Rp0ya99dZbJTrn6dOnNXbsWAUEBOj333/XzJkzNXPmTP3++++qXr26Ro8erbNnz9ri8gAAAAAATkZAL6GuXbsqJCTksu0Mw9DcuXPl4+Oj5557Lt++5557Tj4+Ppo7d26Jzvn555/rzJkzGjt2rOrUqZO3vU6dOnr44Yd18uRJLVu2rHQXAgAAAAAwJQK6je3atUspKSkKDw+Xt7d3vn3e3t4KDw/X3r17dfDgwcv2FRcXJ0mKiooqsK9bt26SpPXr11990QAAAAAApyOg29iuXbskSY0aNSp0f+723HZX2ldJ+8nMzFRaWlq+DwAAAADAfAjoNpaamipJ8vPzK3S/r69vvnZX2ldJ+5k6dar8/PzyPsHBwZc9LwAAAADA8QjoZdzEiROVmpqa9ynJ0HoAAAAAgOPxmjUby33aXdST7dwh5kU9YS+qr+rVq19RPx4eHvLw8LjsuQAAAAAAzsUTdBu73Nzwy81RL2lfpekHAAAAAGB+BHQba9SokWrXrq34+HhlZGTk25eRkaH4+HjVq1evRHPBO3XqJElavXp1gX0xMTH52gAAAAAAXBsB3cYsFotGjBih9PR0vfjii/n2vfjii0pPT9fIkSPzbT937pySkpJ04MCBfNvvuusu+fn5aebMmTp06FDe9kOHDmnWrFkKCAhQ79697XcxAAAAAACHsRiGYTi7CFcwd+5cbdy4UZK0detW/f777woPD1fDhg0lSR06dNCIESMkWZ+Uh4eH648//lBUVJRat26t33//XatXr1ZYWJjWr18vT0/PvL7j4uIUGRmpTp065b37PNeiRYs0ePBgBQYGasCAAZKkzz77TCdPntRnn32m/v37l+o60tLS5Ofnp9TU1LyV4AEAAACUP2QD82GRuBLauHGj5s+fn29bfHy84uPj836eG9C9vb21fv16TZkyRV9++aViY2NVq1YtTZgwQZMnT84Xzi/n3nvvVUBAgF555RXNmzdPFotFN954oyZNmqSuXbva5uIAAAAAAE7HE/Ryhm/JAAAAAEhkAzNiDjoAAAAAACZAQAcAAAAAwAQI6AAAAAAAmAABHQAAAAAAEyCgAwAAAABgAgR0AAAAAABMgIAOAAAAAIAJENABAAAAADABAjoAAAAAACZAQAcAAAAAwAQI6AAAAAAAmAABHQAAAAAAEyCgAwAAAABgAgR0AAAAAABMgIAOAAAAAIAJENABAAAAADABAjoAAAAAACZAQAcAAAAAwAQI6AAAAAAAmAABHQAAAAAAEyCgAwAAAABgAgR0AAAAAABMgIAOAAAAAIAJENABAAAAADABAjoAAAAAACZAQAcAAAAAwAQI6AAAAAAAmAABHQAAAAAAEyCgAwAAAABgAgR0O4mOjpbFYin206VLl8v2ExcXV2wf0dHR9r8YAAAAAIDduTu7gLKqVatWmjx5cqH7vvjiC/3111/q1q1bifvr1KmTIiIiCj0PAAAAAMD1EdDtpFWrVoWG54sXL2rWrFlyd3fXkCFDStxfRESEpkyZYrsCAQAAAACmwhB3B1u+fLlOnTql22+/XTVr1nR2OQAAAAAAk+AJuoPNnTtXkjRixIhSHbdr1y7NmDFD58+fV506ddS5c2ddc8019igRAAAAAOAEFsMwDGcXUV7s379f9evXV+3atZWcnKwKFSpc9pi4uDhFRkYW2O7u7q6xY8fq9ddfL7afzMxMZWZm5v08LS1NwcHBSk1Nla+v75VdCAAAAACXl5aWJj8/P7KBiTDE3YHmzZunnJwcDR06tEThXJICAwP16quvatu2bUpPT9exY8e0fPlyNWzYUG+99ZaefPLJYo+fOnWq/Pz88j7BwcG2uBQAAAAAgI3xBN1BcnJyVK9ePR08eFB79uxRvXr1rqq/o0eP6vrrr9fp06d1+PBh1ahRo9B2PEEHAAAAUBieoJsPT9AdZM2aNTpw4IA6d+581eFckoKCgnTHHXfo0qVLSkhIKLKdh4eHfH19830AAAAAAOZDQHeQK10crjgBAQGSpIyMDJv1CQAAAABwDgK6A5w6dUpff/21qlWrpt69e9us39wn56GhoTbrEwAAAADgHAR0B1i4cKEuXryoe++9Vx4eHoW2OXnypJKSknTy5Ml823/77bdC27/99tuKjY1Vo0aNFBYWZvOaAQAAAACOxXvQHeCjjz6SVPzw9lmzZun555/X5MmTNWXKlLztffv2VcWKFdWmTRvVqVNHGRkZ+uWXX5SYmCh/f38tWrSoxCvCAwAAAADMi4BuZ7/++qu2bdumtm3bqkWLFqU+fvTo0YqJidGGDRt06tQpubm5KSQkRI8++qgmTJigOnXq2KFqAAAAAICj8Zq1coZXKQAAAACQyAZmxBx0AAAAAABMgIAOAAAAAIAJENABAAAAADABAjoAAAAAACZAQAcAAAAAwAQI6AAAAAAAmAABHQAAAAAAEyCgAwAAAABgAgR0AAAAAABMgIAOAAAAAIAJENABAAAAADABAjoAAAAAACZAQAcAAAAAwAQI6AAAAAAAmAABHQAAAAAAEyCgAwAAAABgAgR0AAAAAABMgIAOAAAAAIAJENABAAAAADABAjoAAAAAACZAQAcAAAAAwAQI6AAAAAAAmAABHQAAAAAAEyCgAwAAAABgAgR0AAAAAABMgIAOAAAAAIAJENABAAAAADABAjoAAAAAACZAQAcAAAAAwAQI6HYUGhoqi8VS6CciIqJUfX3yySdq27atvL29VbVqVd1+++36/fff7VM4AAAAAMDh3J1dQFnn5+enRx99tMD20NDQEvfx8ssva9KkSQoJCdGoUaN09uxZLVmyRDfffLPWrl2r8PBw2xUMAAAAAHAKi2EYhrOLKKtyQ3hycvIV97Fr1y5dd911ql+/vn799Vf5+flJkrZs2aKbbrpJ9evX17Zt2+TmVrLBEGlpafLz81Nqaqp8fX2vuC4AAAAAro1sYD4McTe5efPm6dKlS3r22WfzwrkktWrVSgMHDtT27du1ceNGJ1YIAAAAALAFArqdZWZmKjo6Wq+88opmzZqlhISEUh0fFxcnSYqKiiqwr1u3bpKk9evXX3WdAAAAAADnYg66nR09elTDhg3Lty0sLEyLFy9WgwYNLnv8rl275OPjo6CgoAL7GjVqlNemKJmZmcrMzMz7eVpaWklLBwAAAAA4EE/Q7WjYsGFau3atjh07poyMDCUmJmrw4MHatGmTunTporNnz162j9TU1HxD2/8td55IampqkcdPnTpVfn5+eZ/g4OAruxgAAAAAgF0R0O1o8uTJ6ty5s2rUqCEvLy+1atVKCxYs0ODBg7V//37NmTPH7jVMnDhRqampeZ+DBw/a/ZwAAAAAgNIjoDvBgw8+KEmKj4+/bNvcVRULkztcvagn7JLk4eEhX1/ffB8AAAAAgPkQ0J0gICBAkpSRkXHZto0aNVJ6erqOHj1aYF/u3PPcuegAAAAAANdFQHeC3JXcc9+TXpxOnTpJklavXl1gX0xMTL42AAAAAADXRUC3k6SkJJ07d67Q7U899ZQkadCgQXnbU1NTlZSUpCNHjuRrP2zYMLm7u+vll1/ON9R9y5YtWrx4sZo2baoOHTrY6SoAAAAAAI7Ca9bsZMmSJXrzzTfVsWNHhYSEyNvbWzt37tSKFSuUlZWliRMnqmPHjnntly1bpmHDhmnIkCGKjo7O237ttddqypQpmjRpklq2bKm+ffvq7NmzWrJkiSRpzpw5cnPjexYAAAAAcHUEdDuJjIzU9u3blZiYqB9//FHnzp1TQECAevbsqTFjxigqKqrEfT377LMKDQ3VjBkzNHv2bFWqVEm33HKLXnzxRbVu3dqOVwEAAAAAcBSLYRiGs4uA46SlpeWtDM+K7gAAAED5RTYwH8ZGAwAAAABgAgR0AAAAAABMgIAOAAAAAIAJENABAAAAADABAjoAAAAAACZAQAcAAAAAwAQI6AAAwBRSU6XJk6WICGn4cGnHDmdXBACAY7k7u4ArkZOTo02bNmnt2rX6/fffdezYMZ0+fVpVq1ZVzZo1deONN6pz584KCwuTmxvfQQAAYHZr1kj33y8dPGj9+fr10iefSC+/LD36qFShglPLAwDAISyGYRjOLqKkjh8/rg8//FAffPCBUlJSJEmFlW+xWCRJtWvX1qhRozRy5EjVqFHDobWaVVpamvz8/JSamipfX19nlwMAKOfS06Unn5Rmzy66TXi4FB0tNWzosLIAoFwgG5iPSwT0zMxMTZs2Ta+99prOnTsnd3d3tWrVSjfffLOaNWum6tWry9fXV6mpqTp16pS2bdumn376SX/++acuXbokLy8vPf3003riiSfk4eHh7MtxKv4QAgDMYsMGadgwae/ey7f18pJee00aM0ZicBwA2AbZwHxcIqCHhobqwIEDatGihe6//37dc889CggIuOxxJ0+e1MKFCzVv3jxt27ZNoaGh2luS/wWUYfwhBAA42/nz0jPPSG+/LZX2fyGdO0sffSSFhtqlNAAoV8gG5uMS30F7enrq888/1x9//KFx48aVKJxLUkBAgB577DH9+eef+uyzz8r903MAAJztl1+kVq2kGTNKH84lad06qUULac6cKzseAAAzc4kn6Dk5OTZZ7M1W/bgyviUDADhDZqZ1hfbXX5dycopu5+UljR9vXSBu377i++ze3RrU69Sxba0AUF6QDczHJdLq1YTqXbt22aQfAABwZX77TbrxRusc8uLCeXi49Mcf0osvSn/+KY0eXXy/q1ZJzZtLCxbwNB0AUDa4RGKdMWPGFR23a9cuRUZG2rYYAABQIhcvWp+at2sn/fVX0e08PKQ33rC+Wi13pXYfH+m996QffpCCg4s+NjVVGjJEuvNO6ehRm5YPAIDDuURAf/zxx7Vw4cJSHbN3715FRkbqyJEjdqoKAAAU5c8/rcH8hRek7Oyi24WFSYmJ0oQJhb/rvGtXaetW6zvSi/PNN1KzZtJnn11d3QAAOJNLBHTDMDR8+HB99913JWqfG85TUlJ000032bk6AACQ69Il6eWXpTZtpC1bim5XsaK13U8/SU2bFt+nn5915fbvvpNq1Sq63T//SHffLd11l3TixBWVDwCAU7lEQP/ggw906dIl3XXXXfrxxx+LbZucnKzOnTvr4MGDateunVatWuWgKgEAKN+2b5duvlmaNEnKyiq63Q03WOelP/OM5O5e8v5vu03atk26997i233+uXVu+vLlJe8bAAAzcImAPmLECL366qu6cOGCevXqpS1FfCW/f/9+de7cWQcOHFBYWJhiYmJUpUoVxxYLAEA5k50tTZ9uDd6bNhXdrkIF65z0hATrq9KuRLVq0sKF0ldfSYGBRbc7flzq3VsaPFg6ffrKzgUAgKO5RECXpCeffFJPPvmkUlNT1aNHD+3evTvf/gMHDqhz585KTk7WjTfeqJiYGF4VAACAne3eLXXqJD3+uPVVakVp1swazKdMsQ5vv1q9e1sXnuvXr/h2ixZZn6avXHn15wQAwN5cJqBL0quvvqoRI0bo2LFjioqKylsA7tChQ+rcubP27dunG264QatXr5a/v79ziwUAoAzLyZFmzZJatpTi44tu5+YmPfXU/71qzZYCA6WlS6XFi61P1ouSkiL17CmNGCGlpdm2BgAAbMmlArpknY/ev39/JScn69Zbb9Wff/6pyMhI7d27Vy1bttQPP/ygqlWrOrtMAADKrORk6+rqY8dK584V3e7aa63h/dVXra9SsweLxbow3F9/Sf/5T/FtP/rIOrR+7Vr71AIAwNVyuYBusVi0aNEiRUVF6e+//1br1q21Z88etWjRQmvWrFG14r5CBwAAV8wwpA8/tIbc2Nii21ks0mOPWV+f5qiXqQQFSV9/LUVHW1d9L8qBA9YvF8aMkdLTHVMbAAAl5XIBXZIqVqyoZcuW6eabb1ZOTo6aN2+udevWqXr16s4uDQCAMunQIalHD+nBB4sPtvXrS3Fx0ptvSl5eDitPkvWLgSFDrCu9d+tWfNvZs63D8zdscExtAACUhMUwDMPZRVxO/fr1C91+/vx5HT9+XAEBAfL29i60jcVi0Z49e+xZnktJS0uTn5+fUlNTWUQPAHBZhiEtWCCNGyelphbfdswY6bXXJB8fx9RWHMOQ5s6Vxo8v/gsFi8V6ba+8Inl6Oq4+ADADsoH5uERAd3O78gf9FotF2dnZNqzGtfGHEABQUkePSg88IH37bfHt6ta1zu/u2tUxdZVGcrJ0//3FD8mXrPPl58933JB8ADADsoH5uDu7gJKYN2+es0sAAKBc+ewz6xPxf/4pvt3w4dbh7Gb9f11oqLRmjfTee9bV5Ita1G7nTik8XHrySeur4Oy1qB0AAMVxiSfosB2+JQMAFOfECemhh6TPPy++Xe3a0pw51teXuYrdu6WhQ4t/LZxkfWf7/Pm2fy0cAJgN2cB8XHKROAAAYHvLlknNm18+nN97r3UhNlcK55LUsKG0fr30xhvFPyH/6y+pXTtp8mTp4kXH1QcAAAHdTg4fPqwZM2YoKipKdevWVaVKlRQUFKS+ffsqISGhxP3ExcXJYrEU+YmOjrbfRQAAyoXTp62hu08f6fjxotvVqCF99ZW0cKFUtarj6rOlChWkCROsr4ALCyu6XXa29MIL1qC+davj6gMAlG8uMQf9rbfe0kMPPaRKlSpdcR8XL17UrFmzNH78eBtWVrSZM2fqtddeU4MGDRQVFaXAwEDt2rVLy5cv1/Lly/Xpp59qwIABJe6vU6dOioiIKLC9VatWtisaAFDurFghjRghHTlSfLv+/aV335UCAx1Tl701bSr99JM0bZp1znlWVuHttmyxDnWfMsU6P93dJf7nBABwVS4xB93NzU0hISF6+umnNWjQIFWpUqXEx6ampmrRokWaNm2aDh065LAV3b/66itVr15dnTp1yrf9xx9/VJcuXeTj46MjR47I4zKr0MTFxSkyMlKTJ0/WlClTrrou5pkAACTrK9PGj5c+/rj4dtWqWRdYK8V3yi7nzz+t70/fsqX4dm3bStHR1nAPAGUB2cB8XGKI+7Jly+Tm5qbRo0crKChI9957r+bNm6ekpCT97/cLhmFo+/bt+vjjjzVw4EDVrl1bjzzyiCpWrKhly5Y5rOY+ffoUCOeSdMsttygyMlKnT5/WVsbMAQCcYM0aqUWLy4fzXr2s87HLcjiXpOuvlxISpP/+1zoEvii//irdcIM0fbp1CDwAALbmEk/QJesQ9XfeeUczZ87UwYMHZbFYJFmfrvv5+cnX11dpaWk6c+ZMXmg3DEN169bV2LFjNXbs2KsaIm9Lt99+u77//nslJiZedoh67hP0QYMGKSwsTOfPn1edOnXUuXNnXXPNNaU+N9+SAUD5lZ5uHaY9e3bx7fz8pHfekQYPlv7/P7flxm+/WZ+m//VX8e3Cw61P0xs2dEhZAGAXZAPzcZmAnisnJ0dff/21li9frri4OB08eLBAm+DgYEVGRurOO+9Ur1695OZmnoECBw4c0LXXXqtq1arp4MGDqlDcV/X6v4D+v9zd3TV27Fi9/vrrxfaRmZmpzMzMvJ+npaUpODiYP4QAUM5s2CANGybt3Vt8u27dpLlzpTp1HFOXGWVmWldwf/11KSen6HZeXtJrr1nfF2+i/2oAQIkR0M3H5QL6/zp16pSOHTum1NRU+fv7q0aNGqpevbqzyypUVlaWunbtqg0bNmjBggUaPHjwZY/566+/9N133+n2229XaGioMjIy9PPPP+vpp59WUlKSxo8fr+nTpxd5/JQpU/T8888X2M4fQgAoH86fl555Rnr7bam4f/F9fKQ337QuGFfenpoX5ZdfrE/Td+4svl3nztJHH0mhoQ4pCwBshoBuPi4f0F1FTk6OBg8erE8//VQjR47Uhx9+eFX9HT16VNdff71Onz6tw4cPq0aNGoW24wk6AJRfJQ2YkZHW+egEzILOnZMmTZJmzOALDgBlDwHdfBiQ5QA5OTm6//779emnn+ree+/V+++/f9V9BgUF6Y477tClS5eKfa+6h4eHfH19830AAGVbZqb09NPWedLFhXMvL2nWLOuicYTzwnl5WYN3XJxUv37R7dLTpQcekHr2lA4dclh5AIAyhoBuZzk5ORo2bJjmz5+vgQMHKjo62mZz4gMCAiRJGRkZNukPAOD6fvvN+t7u114rfv50eLj0xx/SQw8xf7okOna0/nqNGVN8u1WrpObNpQULin/iDgBAYfgn2Y5yw/mCBQs0YMAALVy48LKLwpVG7pPzUB57AEC5d/GidWGzdu2KX4Hcw0N64w1p/XpWIC8tHx/p3XelH36QgoOLbpeaap1acOed0tGjDisPAFAGENDtJHdY+4IFC9S/f38tWrSo2HB+8uRJJSUl6eTJk/m2//bbb4W2f/vttxUbG6tGjRopLCzMprUDAFzLn39ag/kLLxT/fu6wMCkxUZowofj3faN4XbtKW7dK999ffLtvvpGaNZM++8wxdQEAXB+LxNlJ7urpPj4+GjdunNzd3Qu0ufPOO/Peg57bfvLkyZoyZUpem9DQUFWsWFFt2rRRnTp1lJGRoV9++UWJiYny9/dXTEyM2rZtW+K6WAgCAMqOS5esQ9mff17Kyiq6XcWK0pQp1negF/LPEa7C999LI0dKR44U365/f+vT98BAx9QFACVBNjAf/pm2k+TkZElSenq6Xn755ULbhIaG5gX0oowePVoxMTHasGGDTp06JTc3N4WEhOjRRx/VhAkTVKc8v6gWAMqx7dutw6g3bSq+3Q03SPPnSy1aOKau8ua226Rt26Rx46RFi4pu9/nn1mkFH3xgHfoOAEBheIJezvAtGQC4tuxs6yu/nn3Wulp7UdzdrW2efdb6BB32t2yZNGqUdPx48e3uvVd65x2palXH1AUARSEbmI9LzEHv3Lmzpk2b5uwyAABwqt27pU6dpMcfLz6cN2smJSRYh7UTzh2nd2/r0/T+/Ytvt2iRdaX3lSsdUxcAwHW4RECPi4tTUlKSs8sAAMApcnKs7ytv2VKKjy+6nZub9f3nv/0mtW7tuPrwfwIDpaVLpSVLpGrVim6XkmJ9Z/qIEVJamuPqAwCYm0sEdAAAyqvkZOuq4WPHSufOFd2ucWNreJ861foqNTjXgAHW19316lV8u48+sq4PsHatY+oCAJgbAR0AABMyDOnDD63hLTa26HYWi/TYY9bXp910k+Pqw+UFBUnLl1sX6fPzK7rdgQPWL2HGjJHS0x1WHgDAhAjoAACYzKFDUo8e0oMPFh/Y6teX4uKkN9+UPD0dVh5KwWKR7rvPOje9W7fi286ebZ3GsGGDY2oDAJgPAR0AAJMwDOvT1ubNpZiY4tuOGSP98YfUsaNjasPVqVPHuijchx9KPj5Ft9u7V4qIsI6KOH/eYeUBAEzCJV6z5ubmJovFckXHWiwWXbp0ycYVuS5epQAA5nT0qPTAA9K33xbfrm5d67zlrl0dUxdsLzlZuv/+4qcuSNK111q/sGHqAgB7IRuYj8s8QTcM44o/AACY2WefWV+NdrlwPny4tHUr4dzVhYZKa9ZIM2dKXl5Ft9u5UwoPlyZOLP61egCAssNlnqB3795dTz311BUd36lTJxtX5Lr4lgwAzOPECemhh6TPPy++Xe3a0pw51tdyoWzZvVsaOrT41+dJ1i9w5s+XbrzRIWUBKCfIBubj7uwCSiooKIigDQAoM5Ytk0aNko4fL77dvfdK77wjVa3qmLrgWA0bSuvXSzNmSM8+W/ST8r/+ktq1s7Z59lmpUiWHlgkAcBCXGeIOAEBZcPq0NXT36VN8OK9RwxriFy4knJd1FSpIEyZYX5UXFlZ0u+xs6YUXrEF961bH1QcAcBwCOgAADrJihXWo8iefFN+uf3/rE9M773RIWTCJpk2ln36SXn5Zqlix6HZbtliHur/yisQ6uABQthDQAQCws9RU6wJvt90mHTlSdLvq1a0Lxi1dKgUEOK4+mIe7u/TMM9Jvv0k33FB0u6ws61D38HBp+3bH1QcAsC8COgAAdrRmjdSihfTxx8W369VL2rZNuusux9QFc2vRQkpIkCZPtg6BL8qvv1qD/PTp1iHwAADX5hKruMN2WKkRABwjPV168klp9uzi2/n5WReBGzxYslgcUxtcy2+/SUOGWKc9FCc8XIqOti48BwAlQTYwHwJ6OWOGP4STJ0vvv++UUwOAw5w7Zw3pxenWTZo7V6pTxzE1wXVlZlr//Xz9dSknp+h2FSuyqCDgSkaNkp5/3nnnN0M2QH4u85o1lB3p6Zd/rRAAlGU+PtKbb0ojRvDUHCXj4SG9+qp14cAhQ6SdOwtvl5XFv7GAK7ncF7kof5iDDgCAA0VGWl+RNXIk4Ryld9NN1texPfYY9w8AlEUEdAAAHMDLS5o1y7poXGios6uBK/Pyso7AiIuT6td3djUAAFsioAMAYGcdOkh//CE99JDkxr+8sJGOHa331Zgxzq4EAGArzEGHw7VuLQ0a5OwqAMD+KleWIiKsf+cV96os4Er5+Ejvvivde6+0aJF05oyzKwJQGq1bO7sCmA2ruJczrNQIAAAAQCIbmBED7QAAAAAAMAECOgAAAAAAJkBABwAAAADABAjoAAAAAACYAAEdAAAAAAATIKADAAAAAGACBHQAAAAAAEyAgG5nmzZtUs+ePeXv7y9vb2/ddNNNWrp0aan6yMzM1AsvvKBGjRqpcuXKql27th544AEdP37cTlUDAAAAABzN3dkFlGWxsbHq1q2bKleurLvvvltVqlTRl19+qQEDBujgwYOaMGHCZfvIycnRHXfcoZiYGN10003q27evdu3apblz52rt2rX65ZdfFBgY6ICrAQAAAADYk8UwDMPZRZRFly5dUpMmTXTo0CH98ssvatWqlSQpNTVVbdu2VXJysnbu3KmQkJBi+5k3b57uv/9+DRw4UJ988oksFosk6f3339fo0aP1wAMP6IMPPihxXWlpafLz81Nqaqp8fX2v+PoAAAAAuDaygfkwxN1O1q1bpz179mjQoEF54VyS/Pz89Mwzz+jixYuaP3/+ZfuZM2eOJGnq1Kl54VySHnzwQdWvX1+ffPKJzp8/b/P6AQAAAACORUC3k7i4OElSVFRUgX3dunWTJK1fv77YPi5cuKCEhAQ1bty4wJN2i8WiW2+9VRkZGdq8ebNtigYAAAAAOA0B3U527dolSWrUqFGBfUFBQfLx8clrU5Q9e/YoJyen0D7+3Xdx/WRmZiotLS3fBwAAAABgPgR0O0lNTZVkHdJeGF9f37w2V9PHv9sVZurUqfLz88v7BAcHX7Z2AAAAAIDjEdDLuIkTJyo1NTXvc/DgQWeXBAAAAAAoBK9Zs5Pcp95FPd1OS0tT1apVr7qPf7crjIeHhzw8PC5bLwAAAADAuXiCbifFzQ8/evSo0tPTi5xbnqt+/fpyc3Mrco55cfPcAQAAAACuhYBuJ506dZIkrV69usC+mJiYfG2K4unpqbZt22rHjh3av39/vn2GYeiHH36Qt7e32rRpY6OqAQAAAADOQkC3ky5duqh+/fr69NNPtWXLlrztqampeuWVV1SpUiXdd999eduPHDmipKSkAsPZH3jgAUnWueSGYeRt/+CDD7R3717dc8898vT0tO/FAAAAAADszmL8O/XBpmJjY9WtWzdVrlxZd999t6pUqaIvv/xS+/fv1xtvvKEJEybktR06dKjmz5+vefPmaejQoXnbc3Jy1LNnT8XExOimm25Sp06dtHv3bn311VcKDQ1VQkKCAgMDS1xTWlqa/Pz8lJqamrcKPAAAAIDyh2xgPjxBt6PIyEht3LhR4eHh+uyzzzR79mzVrFlTS5YsyRfOi+Pm5qavv/5aU6ZM0YkTJ/TWW28pPj5ew4cP188//1yqcA4AAAAAMC+eoJczfEsGAAAAQCIbmBFP0AEAAAAAMAECOgAAAAAAJkBABwAAAADABAjoAAAAAACYAAEdAAAAAAATIKADAAAAAGACBHQAAAAAAEyAgA4AAAAAgAkQ0AEAAAAAMAECOgAAAAAAJkBABwAAAADABAjoAAAAAACYAAEdAAAAAAATIKADAAAAAGACBHQAAAAAAEyAgA4AAAAAgAkQ0AEAAAAAMAECOgAAAAAAJkBABwAAAADABAjoAAAAAACYAAEdAAAAAAATIKADAAAAAGACBHQAAAAAAEyAgA4AAAAAgAkQ0AEAAAAAMAECOgAAAAAAJkBABwAAAADABAjoAAAAAACYAAEdAAAAAAATIKDbWFZWlr788ksNGTJETZs2lY+Pj6pUqaJ27dpp9uzZys7OLlV/oaGhslgshX4iIiLscxEAAAAAAIdzd3YBZc2ePXvUr18/+fj4qEuXLurVq5dSU1P17bffasyYMVqxYoW++eYbWSyWEvfp5+enRx99tMD20NBQ2xUOAAAAAHAqi2EYhrOLKEsOHz6sr7/+WkOGDJG3t3fe9oyMDEVERGjz5s1aunSp+vfvX6L+ckN4cnKyTepLS0uTn5+fUlNT5evra5M+AQAAALgesoH5MMTdxq655hqNGTMmXziXJG9vb40fP16StH79emeUBgAAAAAwMYa4O1DFihUlSe7upftlz8zMVHR0tFJSUuTr66uwsDC1a9fOHiUCAAAAAJyEgO5AH3/8sSQpKiqqVMcdPXpUw4YNy7ctLCxMixcvVoMGDWxWHwAAAADAeRji7iAffvihVq5cqc6dO6tnz54lPm7YsGFau3atjh07poyMDCUmJmrw4MHatGmTunTporNnzxZ7fGZmptLS0vJ9AAAAAADmwyJxRZgwYYIyMzNL3H7cuHFq1KhRofu+++479enTR7Vr19bPP/+sWrVqXXV99913nxYuXKjp06fnzW0vzJQpU/T8888X2M5CEAAAAED5xiJx5kNAL4KPj48yMjJK3D42NrbQ95KvWLFCffr0UWBgoNavX6/69evbpL74+Hh16NBBffr00Zdffllku8zMzHxfNKSlpSk4OJg/hAAAAEA5R0A3H+agFyE9Pf2q+/j+++/Vt29fBQQEKDY21mbhXJICAgIk6bJfInh4eMjDw8Nm5wUAAAAA2Adz0O0kN5xXq1ZNsbGxatiwoU37T0hIkPR/70kHAAAAALg2ArodrFy5Un379lXVqlUVGxtb5Nz0XFlZWUpKStKePXvybU9KStK5c+cKtE9KStJTTz0lSRo0aJDtCgcAAAAAOA1D3G0sKSlJvXv3VmZmpiIiIrR48eICbUJDQzV06NC8nx8+fFhNmzZVSEiIkpOT87YvWbJEb775pjp27KiQkBB5e3tr586dWrFihbKysjRx4kR17NjRAVcFAAAAALA3ArqNHT16NG9RtiVLlhTaplOnTvkCelEiIyO1fft2JSYm6scff9S5c+cUEBCgnj17asyYMaV+nzoAAAAAwLxYxb2cYaVGAAAAABLZwIyYgw4AAAAAgAkQ0AEAAAAAMAECOgAAAAAAJkBABwAAAADABAjoAAAAAACYAAEdAAAAAAATIKADAAAAAGACBHQAAAAAAEyAgA4AAAAAgAkQ0AEAAAAAMAECOgAAAAAAJkBABwAAAADABAjoAAAAAACYAAEdAAAAAAATIKADAAAAAGACBHQAAAAAAEyAgA4AAAAAgAkQ0AEAAAAAMAECOgAAAAAAJkBABwAAAADABAjoAAAAAACYAAEdAAAAAAATIKADAAAAAGACBHQAAAAAAEyAgA4AAAAAgAkQ0AEAAAAAMAECOgAAAAAAJkBABwAAAADABAjoAAAAAACYAAHdDqZMmSKLxVLkJzk5uVT97dy5U3fddZcCAgLk6empli1bavbs2TIMwz4XAAAAAABwOHdnF1CWDRkyRKGhoQW2+/v7l7iPv//+WzfffLPOnz+vu+66S7Vr19b333+vMWPG6O+//9bMmTNtVzAAAAAAwGkI6HY0dOhQRUREXFUfo0ePVmpqqlasWKEePXpIkl588UV17dpVs2bN0qBBg9S+fXsbVAsAAAAAcCaGuJvYzp07tWHDBkVGRuaFc0mqVKmSXnzxRUnSnDlznFUeAAAAAMCGeIJuRxs2bFBCQoLc3NzUqFEjde3aVT4+PiU+Pi4uTpIUFRVVYF+HDh3k7e2t9evX26pcAAAAAIATEdDtaPLkyfl+7u/vr7ffflv33XdfiY7ftWuXJKlRo0YF9lWoUEH16tXT33//rUuXLsndnd9KAAAAAHBlDHG3g5YtW+rjjz/W3r17df78ee3bt08zZ86UxWLR0KFD9c0335Son9TUVEmSn59foft9fX2Vk5Ojs2fPFtlHZmam0tLS8n0AAAAAAObDY9ciTJgwQZmZmSVuP27cuLwn3b179863LzQ0VA8//LCaNm2qW2+9VZMmTVKvXr1sWm9Rpk6dqueff94h5wIAAAAAXDkCehE++OADZWRklLh9v379Ch2K/m9dunRRgwYNtHXrVqWlpcnX17fY9rlPznOfpP+vtLQ0WSwWValSpcg+Jk6cqPHjx+c7Jjg4uNjzAgAAAAAcj4BehPT0dLv0GxAQoN27d+vcuXOXDei5gT93Lvq/ZWdna9++fapXr16x8889PDzk4eFxdUUDAAAAAOyOOegOlJGRob/++kve3t4KCAi4bPtOnTpJklavXl1g38aNG5WRkZHXBgAAAADg2gjoNnb27Fnt3LmzwPbz589r5MiROnv2rO66664CT72TkpKUlJSUb1vjxo3VsWNHxcbGauXKlXnbL168qOeee06SNGLECDtcBQAAAADA0SyGYRjOLqIsSU5OVv369RUWFqamTZsqKChIx44d05o1a3To0CG1aNFCsbGxql69er7jLBaLJOl/fzv++usvhYeH6/z58xowYIBq1aql77//Xn/99ZcefvhhzZw5s1T1paWlyc/PT6mpqZcdYg8AAACg7CIbmA8B3cbS0tL0zDPP6Ndff1VycrJOnz4tT09PNW3aVP369dPDDz8sT0/PAscVFdAlaceOHZo0aZLWrVunjIwMXXvttRo1apRGjx6dd1xp6uMPIQAAAACygfkQ0MsZ/hACAAAAkMgGZsQcdAAAAAAATICADgAAAACACRDQAQAAAAAwAQI6AAAAAAAmQEAHAAAAAMAECOgAAAAAAJgAAR0AAAAAABMgoAMAAAAAYAIEdAAAAAAATICADgAAAACACRDQAQAAAAAwAQI6AAAAAAAmQEAHAAAAAMAECOgAAAAAAJgAAR0AAAAAABMgoAMAAAAAYAIEdAAAAAAATICADgAAAACACRDQAQAAAAAwAQI6AAAAAAAmQEAHAAAAAMAECOgAAAAAAJgAAR0AAAAAABMgoAMAAAAAYAIEdAAAAAAATICADgAAAACACRDQAQAAAAAwAQI6AAAAAAAmQEAHAAAAAMAECOh2YLFYLvs5ePBgifoKDQ0tso+IiAj7XggAAAAAwGHcnV1AWTR58uRCt+/evVuffPKJrrvuOgUHB5e4Pz8/Pz366KMFtoeGhl5hhQAAAAAAsyGg28GUKVMK3T527FhJ0vDhw0vVn7+/f5F9AgAAAADKBoa4O8iFCxf0ySefqFKlSho8eLCzywEAAAAAmAxP0B3kq6++0unTp9WvXz8FBgaW6tjMzExFR0crJSVFvr6+CgsLU7t27exUKQAAAADAGQjoDvLRRx9JkkaMGFHqY48ePaphw4bl2xYWFqbFixerQYMGNqkPAAAAAOBcDHF3gH379ik2NlZ169bVrbfeWqpjhw0bprVr1+rYsWPKyMhQYmKiBg8erE2bNqlLly46e/ZsscdnZmYqLS0t3wcAAAAAYD48QS/ChAkTlJmZWeL248aNU6NGjQrd9/HHH8swDA0bNkxubqX7TuR/V4Rv1aqVFixYIElauHCh5syZo/Hjxxd5/NSpU/X888+X6pwAAAAAAMezGIZhOLsIM/Lx8VFGRkaJ28fGxhb6XvKcnByFhIQoJSVF+/btU926dW1SX3x8vDp06KA+ffroyy+/LLJdZmZmvi8a0tLSFBwcrNTUVPn6+tqkFgAAAACuJy0tTX5+fmQDE+EJehHS09Nt0s+qVat06NAhdevWzWbhXJICAgIk6bJfInh4eMjDw8Nm5wUAAAAA2Adz0O3sahaHK05CQoIkKTQ01Kb9AgAAAACcg4BuRydOnNC3336rwMBA9erVq8h2WVlZSkpK0p49e/JtT0pK0rlz5wq0T0pK0lNPPSVJGjRokG2LBgAAAAA4BUPc7WjBggXKysrS4MGDValSpSLbHT58WE2bNlVISIiSk5Pzti9ZskRvvvmmOnbsqJCQEHl7e2vnzp1asWKFsrKyNHHiRHXs2NEBVwIAAAAAsDcCuh1d7fD2yMhIbd++XYmJifrxxx917tw5BQQEqGfPnhozZoyioqJsWS4AAAAAwIlYxb2cYaVGAAAAABLZwIyYgw4AAAAAgAkQ0AEAAAAAMAHmoJczuTMa0tLSnFwJAAAAAGfKzQTMejYPAno5c/bsWUlScHCwkysBAAAAYAZnz56Vn5+fs8uAWCSu3MnJyVFKSoqqVKkii8Xi7HJwhdLS0hQcHKyDBw+yoAfsjvsNjsY9B0fifoOjmemeMwxDZ8+eVe3ateXmxuxnM+AJejnj5uamOnXqOLsM2Iivr6/T/2JH+cH9BkfjnoMjcb/B0cxyz/Hk3Fz4mgQAAAAAABMgoAMAAAAAYAIEdMAFeXh4aPLkyfLw8HB2KSgHuN/gaNxzcCTuNzga9xyKwyJxAAAAAACYAE/QAQAAAAAwAQI6AAAAAAAmQEAHAAAAAMAECOgAAAAAAJgAAR0wgU2bNqlnz57y9/eXt7e3brrpJi1durRExxqGoZUrV2r06NG6/vrr5efnJy8vL7Vs2VKvvPKKLly4YOfq4Yqu5p4rzOnTp3XNNdfIYrGoe/fuNqwUZYGt7rfjx4/rscceU6NGjVS5cmVVr15d7du31+zZs+1QNVyZLe65lJQUjRs3Ttddd528vb1Vs2ZNdejQQQsXLlR2dradKoerWbRokR588EG1adNGHh4eslgsio6OLnU/OTk5mjlzplq0aCFPT08FBgZq4MCB2rt3r+2LhqmxijvgZLGxserWrZsqV66su+++W1WqVNGXX36p/fv364033tCECROKPf7ChQvy9PSUh4eHIiIi1KJFC124cEExMTHatWuXwsLCFBcXJy8vLwddEczuau+5wtxzzz36+uuvlZGRoW7dumnVqlV2qByuyFb325YtWxQVFaXTp0/rtttuU9OmTZWenq7t27erUqVKWrFihZ2vBK7CFvfc3r171a5dO506dUrdunXT9ddfr7S0NC1fvlxHjx7V0KFDNW/ePAdcDcwuNDRU+/fvV0BAgLy9vbV//37NmzdPQ4cOLVU/I0eO1Ny5c9WsWTPddtttSklJ0dKlS+Xj46NffvlFjRo1ss8FwHwMAE6TlZVlNGjQwPDw8DASExPztp85c8a49tprjUqVKhnJycnF9nHx4kXjpZdeMv75558C2//zn/8Ykoxp06bZo3y4IFvcc//riy++MCQZs2bNMiQZ3bp1s3HVcFW2ut9SU1ONunXrGoGBgcYff/xR6HkAw7DdPTd69GhDkjFjxox820+fPm3UrVvXkFTqvytRNv3www9598LUqVMNSca8efNK1ce6desMSUbHjh2NzMzMvO0rVqwwJBlRUVG2LBkmxxB3wInWrVunPXv2aNCgQWrVqlXedj8/Pz3zzDO6ePGi5s+fX2wfFStW1LPPPquqVasW2D5x4kRJ0vr1621eO1yTLe65fztx4oRGjx6twYMH67bbbrNDxXBltrrf3nvvPR04cECvvvqqrr/++gL73d3dbVk2XJit7rncYcU9e/bMt93f318dOnSQJJ08edJ2hcNlde3aVSEhIVfVx5w5cyRJL774oipVqpS3vUePHoqIiNDq1at14MCBqzoHXAcBHXCiuLg4SVJUVFSBfd26dZN0deG6YsWKkvjPK/6Pre+5UaNGqUKFCnr77bdtUh/KFlvdb5999pksFov69u2rHTt2aObMmZo2bZq++eYbXbx40aY1w7XZ6p5r3ry5JBWYOnHmzBnFx8crKChI11133VVWC1jFxcXJ29tb4eHhBfbZ4v+DcC38rx1wol27dklSofOKgoKC5OPjk9fmSnz88ceSCv+PCsonW95zixYt0ldffaXly5eratWqSk1NtWmtcH22uN8uXryorVu3KjAwUDNnztTkyZOVk5OTt79+/fpavny5WrRoYdvi4ZJs9XfcE088oW+//VaPPfaYVq1alW8OupeXl5YtWyZPT0+b14/yJyMjQ0eOHFHz5s1VoUKFAvtz7+Wr+f8gXAtP0AEnyg00fn5+he739fW94tCzcuVKffDBB2ratKmGDx9+xTWibLHVPZeSkqJHHnlEAwcO1B133GHTGlF22OJ+++eff5Sdna1Tp07phRde0LRp03Ts2DEdOnRIzz33nPbt26f//Oc/vLECkmz3d1zNmjX1888/q3v37lq1apWmTZum999/X6mpqbrvvvvUsmVLm9aN8qsk9+y/26HsI6ADZdCmTZs0YMAA+fn56fPPP5eHh4ezS0IZM2LECFWsWFHvvPOOs0tBGZf7tDw7O1tjxozRhAkTVKNGDV1zzTV64YUX1L9/f+3fv19ffPGFkytFWbJ7926Fh4frxIkT+vHHH3X27FkdPHhQ//3vf/Xiiy+qS5cuvGoNgF0Q0AEnyv22tKhvRdPS0or8RrUomzdvVlRUlNzc3BQTE6NmzZpddZ0oO2xxz82fP18rV67Uu+++q4CAAJvXiLLDFvfbv/f36tWrwP7cbZs3b77SMlGG2Orf1aFDh2r//v369ttv1aFDB/n4+KhOnTp6+umnNXbsWP38889asmSJTWtH+VSSe/bf7VD2EdABJypuXtHRo0eVnp5eqvdebt68WbfeeqtycnIUExOjsLAwm9WKssEW91xiYqIkqX///rJYLHmfevXqSZJiYmJksVjyraCM8skW95u3t7euueYaSdYVtP9X7rbz589fXbEoE2xxz509e1bx8fFq2rSpgoKCCuyPjIyU9H9/FwJXw9vbW7Vq1dK+ffsKHZVR3LoKKJsI6IATderUSZK0evXqAvtiYmLytbmc3HCenZ2tVatWqV27drYrFGWGLe659u3ba/jw4QU+AwYMkCTVqVNHw4cPV58+fWxcPVyNrf6O69y5syTp77//LrAvd1toaOiVlokyxBb3XO6bAYp6jdqJEyckieljsJlOnTopIyND8fHxBfbl3rcdO3Z0dFlwFme/iB0oz7Kysoz69esbHh4eRmJiYt72M2fOGNdee61RqVIlY9++fXnbU1JSjO3btxtnzpzJ18/mzZsNf39/w8fHx9i4caODqocrstU9V5h9+/YZkoxu3brZoXK4Ilvdb/Hx8YYko1mzZsbp06fzth85csS45pprDDc3N2PHjh12vhq4Alvdc40bNzYkGXPmzMm3/fTp00aTJk0MScYPP/xgz0uBC5o6daohyZg3b16h+0+cOGFs377dOHHiRL7t69atMyQZHTt2NDIzM/O2r1ixwpBkREVF2bNsmAwBHXCydevWGRUrVjSqVKlijBw50hg/frwREhJiSDLeeOONfG2HDBlS4C/+U6dOGVWrVjUkGd27dzcmT55c4PPWW2859qJgald7zxWFgI7C2Op+Gz9+vCHJCA4ONsaMGWOMHDnSqFGjhiHJeOWVVxx0NXAFtrjnVqxYYbi7uxuSjC5duhiPP/64MXz4cCMwMNCQZPTt29eBVwQzmzNnjjFkyBBjyJAhRuvWrQ1JRnh4eN62f3/JM3nyZEOSMXny5AL9jBgxIu+LyCeffNIYPHiwUalSJaNatWp8AVnOENABE0hISDC6d+9u+Pr6Gp6enkbbtm2NJUuWFGhX2H8kckNRcZ+QkBDHXQxcwtXcc0UhoKMotrrf5s2bZ7Rp08bw8vIyvL29jQ4dOhhfffWVnauHK7LFPffrr78a/fv3N2rVqmW4u7sbPj4+RlhYmDFz5kzj0qVLDrgKuILce6ioz5AhQ/LaFhfQs7Ozjbffftto1qyZ4eHhYVSvXt0YMGCAsXv3bsddDEzBYhiGYZex8wAAAAAAoMRYJA4AAAAAABMgoAMAAAAAYAIEdAAAAAAATICADgAAAACACRDQAQAAAAAwAQI6AAAAAAAmQEAHAAAAAMAECOgAAAAAAJgAAR0AgDIuIyNDwcHBatmypXJycux+vpdeekkWi0UrVqyw+7kAAChLLIZhGM4uAgAA2M+zzz6rV155Rd99951uu+02u58vIyNDDRo0kJ+fn7Zt26aKFSva/ZwAAJQFPEEHAKAMO3z4sKZPn66wsDCHhHNJ8vb21hNPPKGdO3dq9uzZDjknAABlAQEdAIAy7L333lNmZqaGDx/u0PPed999qlixot555x0xWA8AgJIhoAMAYAJjx46VxWLRLbfcokuXLhXY/+yzz8pisah169a6cOFCifq8ePGi5syZIw8PD919990F9icnJ8tisSg0NFQ5OTl65513dP3118vLy0u1atXSqFGj9M8//0iSMjMz9eKLL6pJkyby9PRU7dq1NW7cOGVkZBR67sDAQPXs2VN79uzRqlWrSvErAQBA+UVABwDABKZPn642bdpo48aNmjRpUr59q1at0tSpU+Xr66ulS5eqcuXKJeozPj5eJ06cUFhYmPz8/Ipte++99+rpp5/WNddco27duiknJ0cffPCBunbtqoyMDHXt2lVvvPGGGjdurK5du+rcuXN655131L9//yL7vPXWWyVJy5cvL1G9AACUd+7OLgAAAEiVKlXS0qVL1bp1a02bNk2dOnVSjx49dOjQIQ0ePFiGYWju3Llq2LBhiftct26dJKl9+/bFttu/f7/c3d21fft2hYSESJJOnTql9u3bKzExUe3bt5enp6f27t2r6tWrS5L27dunG2+8UStXrlR8fLzCw8ML9HvzzTdLktauXVvimgEAKM94gg4AgEnUq1dP0dHRMgxDgwcP1r59+3T33Xfr5MmTevjhh4t9Wl2YxMRESVLTpk0v2/add97JC+eSVL16dY0ePVqStG3bNn300Ud54Ty31nvvvVdS0QG8WbNmkqQ9e/YoLS2tVLUDAFAeEdABADCRO+64Q+PHj9epU6d0ww03KD4+Xm3atNH06dNL3dexY8ckKV+wLoy7u7uioqIKbG/UqJEkqW7dumrevHmR+1NSUgrtt1KlSvLx8clXCwAAKBoBHQAAk3nttdd03XXXKTU1Vd7e3lq6dKkqVapU6n5SU1MlSb6+vsW2q1WrltzdC856yw3XdevWLfS4KlWqSFKxi9blnvv06dOXLxgAgHKOgA4AgMkkJCRo586dkqSMjAxt3br1ivrx9/eXpMsOL3dzK/6/A5fbX5zcLwmqVq16xX0AAFBeENABADCRkydP6u6779alS5c0bNgwWSwWDR06VPv37y91XzVq1JBkXfDNGTIzM/New1azZk2n1AAAgCshoAMAYBK5i8MdOnRI9913nz7++GNNmDBBp0+f1oABA5SVlVWq/lq3bi1J+vvvv+1R7mVt27ZNktSwYcPLDrMHAAAEdAAATGPq1KlatWqVrrvuOr333nt529q3b6+EhAQ9+eSTpeovMjJSkvTzzz/bvNaS+OmnnyRJnTt3dsr5AQBwNQR0AABMYMOGDfrvf/8rLy8vff755/L29pZkXWF9yZIlqlatmmbMmKGvv/66xH2Gh4crMDBQmzdv1pkzZ+xUedHWrFkjSbrzzjsdfm4AAFwRAR0AACc7ceKEBg4cqOzsbL377ru67rrr8u2vW7euoqOjZbFYNGzYMCUnJ5eo30qVKmnkyJHKzMzU4sWL7VB50U6cOKGVK1eqQYMG6t69u0PPDQCAq7IYhmE4uwgAAGAfhw8fVoMGDdS8eXNt3rzZYeedPn26Hn/8cb399tt65JFHHHZeAABcGQEdAIAy7tlnn9Urr7yib7/9Vrfffrvdz5eRkaH69evL399f27ZtU8WKFe1+TgAAygICOgAAZVxGRoaaNGmiatWqKTEx8area14SL730kp577jl9//336tmzp13PBQBAWUJABwAAAADABFgkDgAAAAAAE/h/MgIW/02BOAgAAAAASUVORK5CYII=' width=1000.0/>\n",
       "            </div>\n",
       "        "
      ],
      "text/plain": [
       "Canvas(toolbar=Toolbar(toolitems=[('Home', 'Reset original view', 'home', 'home'), ('Back', 'Back to previous …"
      ]
     },
     "metadata": {},
     "output_type": "display_data"
    }
   ],
   "source": [
    "fig, ax = plt.subplots(figsize=(10,5))\n",
    "def plot_solution(iy):\n",
    "    ax.clear()\n",
    "    ax.plot(params['x'][1:], solution.y[:, iy], 'b-', linewidth=4, label='solution')\n",
    "    ax.legend()\n",
    "    ax.set_title(f'Time: {solution.t[iy]} s', fontsize=16)\n",
    "    ax.set_xlabel('x (m)', fontsize=16)\n",
    "    ax.set_ylabel('T (K)', fontsize=16)\n",
    "    ax.tick_params(axis='both', labelsize=14)\n",
    "    ax.set_ylim([np.min(solution.y), np.max(solution.y)])\n",
    "\n",
    "widgets.interactive(plot_solution, iy = widgets.IntSlider(min=0, max=(len(solution.t)-1), value=0))"
   ]
  }
 ],
 "metadata": {
  "interpreter": {
   "hash": "87df4c83b56fb8b58e6fe6434764317a79f3f72ebd797e1bfe209587b31ed721"
  },
  "kernelspec": {
   "display_name": "Python 3.9.7 64-bit ('.venv': poetry)",
   "language": "python",
   "name": "python3"
  },
  "language_info": {
   "codemirror_mode": {
    "name": "ipython",
    "version": 3
   },
   "file_extension": ".py",
   "mimetype": "text/x-python",
   "name": "python",
   "nbconvert_exporter": "python",
   "pygments_lexer": "ipython3",
   "version": "3.9.7"
  },
  "orig_nbformat": 4
 },
 "nbformat": 4,
 "nbformat_minor": 2
}
